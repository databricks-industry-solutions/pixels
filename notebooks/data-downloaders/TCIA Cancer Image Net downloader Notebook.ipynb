{
 "cells": [
  {
   "cell_type": "markdown",
   "metadata": {
    "application/vnd.databricks.v1+cell": {
     "cellMetadata": {
      "byteLimit": 2048000,
      "rowLimit": 10000
     },
     "inputWidgets": {},
     "nuid": "6ae69180-ab09-45df-bbbd-d914378d458f",
     "showTitle": false,
     "tableResultSettingsMap": {},
     "title": ""
    }
   },
   "source": [
    "# TCIA Cancer Image Net downloader Notebook\n",
    "\n",
    "- single user cluster is easiest\n",
    "- serverless notebooks work"
   ]
  },
  {
   "cell_type": "markdown",
   "metadata": {
    "application/vnd.databricks.v1+cell": {
     "cellMetadata": {
      "byteLimit": 2048000,
      "rowLimit": 10000
     },
     "inputWidgets": {},
     "nuid": "d10508ff-71c7-4de9-a386-6fbc8d2eb346",
     "showTitle": false,
     "tableResultSettingsMap": {},
     "title": ""
    }
   },
   "source": [
    "### Setup"
   ]
  },
  {
   "cell_type": "code",
   "execution_count": 0,
   "metadata": {
    "application/vnd.databricks.v1+cell": {
     "cellMetadata": {
      "byteLimit": 2048000,
      "rowLimit": 10000
     },
     "inputWidgets": {},
     "nuid": "eaed0348-cc9b-4d28-b126-66fb50151e8b",
     "showTitle": false,
     "tableResultSettingsMap": {},
     "title": ""
    }
   },
   "outputs": [
    {
     "output_type": "stream",
     "name": "stdout",
     "output_type": "stream",
     "text": [
      "\u001B[43mNote: you may need to restart the kernel using %restart_python or dbutils.library.restartPython() to use updated packages.\u001B[0m\n"
     ]
    }
   ],
   "source": [
    "%pip install --quiet tcia_utils\n"
   ]
  },
  {
   "cell_type": "code",
   "execution_count": 0,
   "metadata": {
    "application/vnd.databricks.v1+cell": {
     "cellMetadata": {
      "byteLimit": 2048000,
      "rowLimit": 10000
     },
     "inputWidgets": {},
     "nuid": "9373762d-cd9b-4972-8493-b8f0b3f5f8a3",
     "showTitle": false,
     "tableResultSettingsMap": {},
     "title": ""
    }
   },
   "outputs": [],
   "source": [
    "dbutils.library.restartPython()"
   ]
  },
  {
   "cell_type": "code",
   "execution_count": 0,
   "metadata": {
    "application/vnd.databricks.v1+cell": {
     "cellMetadata": {
      "byteLimit": 2048000,
      "rowLimit": 10000
     },
     "inputWidgets": {},
     "nuid": "91236334-01a5-460e-abb4-a6211bfe92ac",
     "showTitle": false,
     "tableResultSettingsMap": {},
     "title": ""
    }
   },
   "outputs": [],
   "source": [
    "from tcia_utils import nbia"
   ]
  },
  {
   "cell_type": "code",
   "execution_count": 0,
   "metadata": {
    "application/vnd.databricks.v1+cell": {
     "cellMetadata": {
      "byteLimit": 2048000,
      "rowLimit": 10000
     },
     "inputWidgets": {},
     "nuid": "feecf286-7ecd-453f-9cd0-8046d49bc218",
     "showTitle": false,
     "tableResultSettingsMap": {},
     "title": ""
    }
   },
   "outputs": [],
   "source": [
    "import requests\n",
    "import pandas as pd\n",
    "from tcia_utils import nbia\n",
    "import os"
   ]
  },
  {
   "cell_type": "markdown",
   "metadata": {
    "application/vnd.databricks.v1+cell": {
     "cellMetadata": {
      "byteLimit": 2048000,
      "rowLimit": 10000
     },
     "inputWidgets": {},
     "nuid": "7aca70fc-51da-4264-8e03-5906f995d089",
     "showTitle": false,
     "tableResultSettingsMap": {},
     "title": ""
    }
   },
   "source": [
    "### Turn off debug logging"
   ]
  },
  {
   "cell_type": "code",
   "execution_count": 0,
   "metadata": {
    "application/vnd.databricks.v1+cell": {
     "cellMetadata": {
      "byteLimit": 2048000,
      "rowLimit": 10000
     },
     "inputWidgets": {},
     "nuid": "0cfdc5f7-865c-439d-9dd9-55bb2e475ff6",
     "showTitle": false,
     "tableResultSettingsMap": {},
     "title": ""
    }
   },
   "outputs": [],
   "source": [
    "\n",
    "# set logging level to INFO in Google Colab (not necessary in Jupyter)\n",
    "\n",
    "import logging\n",
    "\n",
    "for handler in logging.root.handlers[:]:\n",
    "    logging.root.removeHandler(handler)\n",
    "\n",
    "# Set handler with level = info\n",
    "logging.basicConfig(format='%(asctime)s:%(levelname)s:%(message)s',\n",
    "                    level=logging.INFO)\n"
   ]
  },
  {
   "cell_type": "code",
   "execution_count": 0,
   "metadata": {
    "application/vnd.databricks.v1+cell": {
     "cellMetadata": {
      "byteLimit": 2048000,
      "rowLimit": 10000
     },
     "inputWidgets": {},
     "nuid": "a7a55cce-c4d4-43e3-a21b-8e200c391ff0",
     "showTitle": false,
     "tableResultSettingsMap": {},
     "title": ""
    }
   },
   "outputs": [
    {
     "output_type": "stream",
     "name": "stderr",
     "output_type": "stream",
     "text": [
      "2025-05-07 20:11:08,603:INFO:Success - Token saved to global api_call_headers variable and expires at 2025-05-07 22:11:08.602963\n2025-05-07 20:11:08,610:INFO:Accessing public data anonymously. To access restricted data use nbia.getToken() with your credentials.\n2025-05-07 20:11:08,618:INFO:Calling getCollectionValues with parameters {}\n"
     ]
    },
    {
     "output_type": "execute_result",
     "data": {
      "text/plain": [
       "[{'Collection': '4D-Lung'},\n",
       " {'Collection': 'ACRIN-6698'},\n",
       " {'Collection': 'ACRIN-Contralateral-Breast-MR'},\n",
       " {'Collection': 'ACRIN-FLT-Breast'},\n",
       " {'Collection': 'ACRIN-NSCLC-FDG-PET'},\n",
       " {'Collection': 'Adrenal-ACC-Ki67-Seg'},\n",
       " {'Collection': 'Advanced-MRI-Breast-Lesions'},\n",
       " {'Collection': 'Anti-PD-1_Lung'},\n",
       " {'Collection': 'B-mode-and-CEUS-Liver'},\n",
       " {'Collection': 'BREAST-DIAGNOSIS'},\n",
       " {'Collection': 'Breast-Cancer-Screening-DBT'},\n",
       " {'Collection': 'Breast-MRI-NACT-Pilot'},\n",
       " {'Collection': 'C4KC-KiTS'},\n",
       " {'Collection': 'CBIS-DDSM'},\n",
       " {'Collection': 'CC-Radiomics-Phantom'},\n",
       " {'Collection': 'CC-Radiomics-Phantom-2'},\n",
       " {'Collection': 'CC-Radiomics-Phantom-3'},\n",
       " {'Collection': 'CC-Tumor-Heterogeneity'},\n",
       " {'Collection': 'CMB-AML'},\n",
       " {'Collection': 'CMB-BRCA'},\n",
       " {'Collection': 'CMB-CRC'},\n",
       " {'Collection': 'CMB-GEC'},\n",
       " {'Collection': 'CMB-LCA'},\n",
       " {'Collection': 'CMB-MEL'},\n",
       " {'Collection': 'CMB-MML'},\n",
       " {'Collection': 'CMB-PCA'},\n",
       " {'Collection': 'CMMD'},\n",
       " {'Collection': 'COVID-19-AR'},\n",
       " {'Collection': 'COVID-19-NY-SBU'},\n",
       " {'Collection': 'CPTAC-AML'},\n",
       " {'Collection': 'CPTAC-CCRCC'},\n",
       " {'Collection': 'CPTAC-CM'},\n",
       " {'Collection': 'CPTAC-LSCC'},\n",
       " {'Collection': 'CPTAC-LUAD'},\n",
       " {'Collection': 'CPTAC-PDA'},\n",
       " {'Collection': 'CPTAC-SAR'},\n",
       " {'Collection': 'CPTAC-UCEC'},\n",
       " {'Collection': 'CT COLONOGRAPHY'},\n",
       " {'Collection': 'CT Lymph Nodes'},\n",
       " {'Collection': 'CT-Phantom4Radiomics'},\n",
       " {'Collection': 'CT-vs-PET-Ventilation-Imaging'},\n",
       " {'Collection': 'CT4Harmonization-Multicentric'},\n",
       " {'Collection': 'CTpred-Sunitinib-panNET'},\n",
       " {'Collection': 'Colorectal-Liver-Metastases'},\n",
       " {'Collection': 'DRO-Toolkit'},\n",
       " {'Collection': 'Duke-Breast-Cancer-MRI'},\n",
       " {'Collection': 'EA1141'},\n",
       " {'Collection': 'GBM-DSC-MRI-DRO'},\n",
       " {'Collection': 'HCC-TACE-Seg'},\n",
       " {'Collection': 'ICDC-Glioma'},\n",
       " {'Collection': 'ISPY1'},\n",
       " {'Collection': 'ISPY2'},\n",
       " {'Collection': 'LCTSC'},\n",
       " {'Collection': 'LIDC-IDRI'},\n",
       " {'Collection': 'Lung Phantom'},\n",
       " {'Collection': 'Lung-Fused-CT-Pathology'},\n",
       " {'Collection': 'Lung-PET-CT-Dx'},\n",
       " {'Collection': 'LungCT-Diagnosis'},\n",
       " {'Collection': 'MIDI-B-Curated-Test'},\n",
       " {'Collection': 'MIDI-B-Curated-Validation'},\n",
       " {'Collection': 'MIDI-B-Synthetic-Test'},\n",
       " {'Collection': 'MIDI-B-Synthetic-Validation'},\n",
       " {'Collection': 'MIDRC-RICORD-1A'},\n",
       " {'Collection': 'MIDRC-RICORD-1B'},\n",
       " {'Collection': 'MIDRC-RICORD-1C'},\n",
       " {'Collection': 'MRI-DIR'},\n",
       " {'Collection': 'Mediastinal-Lymph-Node-SEG'},\n",
       " {'Collection': 'Mouse-Astrocytoma'},\n",
       " {'Collection': 'Mouse-Mammary'},\n",
       " {'Collection': 'NSCLC Radiogenomics'},\n",
       " {'Collection': 'NSCLC-Radiomics'},\n",
       " {'Collection': 'NSCLC-Radiomics-Genomics'},\n",
       " {'Collection': 'NSCLC-Radiomics-Interobserver1'},\n",
       " {'Collection': 'NaF PROSTATE'},\n",
       " {'Collection': 'PDMR-292921-168-R'},\n",
       " {'Collection': 'PDMR-425362-245-T'},\n",
       " {'Collection': 'PDMR-521955-158-R4'},\n",
       " {'Collection': 'PDMR-833975-119-R'},\n",
       " {'Collection': 'PDMR-997537-175-T'},\n",
       " {'Collection': 'PDMR-BL0293-F563'},\n",
       " {'Collection': 'PDMR-Texture-Analysis'},\n",
       " {'Collection': 'PROSTATE-DIAGNOSIS'},\n",
       " {'Collection': 'PROSTATE-MRI'},\n",
       " {'Collection': 'PROSTATEx'},\n",
       " {'Collection': 'Pancreas-CT'},\n",
       " {'Collection': 'Pancreatic-CT-CBCT-SEG'},\n",
       " {'Collection': 'Pediatric-CT-SEG'},\n",
       " {'Collection': 'Pelvic-Reference-Data'},\n",
       " {'Collection': 'Phantom FDA'},\n",
       " {'Collection': 'Prostate Fused-MRI-Pathology'},\n",
       " {'Collection': 'Prostate-3T'},\n",
       " {'Collection': 'Prostate-Anatomical-Edge-Cases'},\n",
       " {'Collection': 'Prostate-MRI-US-Biopsy'},\n",
       " {'Collection': 'Pseudo-PHI-DICOM-Data'},\n",
       " {'Collection': 'QIBA CT-1C'},\n",
       " {'Collection': 'QIBA-CT-Liver-Phantom'},\n",
       " {'Collection': 'QIN Breast DCE-MRI'},\n",
       " {'Collection': 'QIN LUNG CT'},\n",
       " {'Collection': 'QIN PET Phantom'},\n",
       " {'Collection': 'QIN-BREAST'},\n",
       " {'Collection': 'QIN-PROSTATE-Repeatability'},\n",
       " {'Collection': 'RIDER Breast MRI'},\n",
       " {'Collection': 'RIDER Lung CT'},\n",
       " {'Collection': 'RIDER Lung PET-CT'},\n",
       " {'Collection': 'RIDER PHANTOM MRI'},\n",
       " {'Collection': 'RIDER PHANTOM PET-CT'},\n",
       " {'Collection': 'RIDER Pilot'},\n",
       " {'Collection': 'ReMIND'},\n",
       " {'Collection': 'SPIE-AAPM Lung CT Challenge'},\n",
       " {'Collection': 'Soft-tissue-Sarcoma'},\n",
       " {'Collection': 'Spine-Mets-CT-SEG'},\n",
       " {'Collection': 'StageII-Colorectal-CT'},\n",
       " {'Collection': 'TCGA-BLCA'},\n",
       " {'Collection': 'TCGA-BRCA'},\n",
       " {'Collection': 'TCGA-CESC'},\n",
       " {'Collection': 'TCGA-COAD'},\n",
       " {'Collection': 'TCGA-ESCA'},\n",
       " {'Collection': 'TCGA-KICH'},\n",
       " {'Collection': 'TCGA-KIRC'},\n",
       " {'Collection': 'TCGA-KIRP'},\n",
       " {'Collection': 'TCGA-LIHC'},\n",
       " {'Collection': 'TCGA-LUAD'},\n",
       " {'Collection': 'TCGA-LUSC'},\n",
       " {'Collection': 'TCGA-OV'},\n",
       " {'Collection': 'TCGA-PRAD'},\n",
       " {'Collection': 'TCGA-READ'},\n",
       " {'Collection': 'TCGA-SARC'},\n",
       " {'Collection': 'TCGA-STAD'},\n",
       " {'Collection': 'TCGA-THCA'},\n",
       " {'Collection': 'TCGA-UCEC'},\n",
       " {'Collection': 'UPENN-GBM'},\n",
       " {'Collection': 'VAREPOP-APOLLO'},\n",
       " {'Collection': 'VICTRE'},\n",
       " {'Collection': 'Vestibular-Schwannoma-MC-RC'},\n",
       " {'Collection': 'Vestibular-Schwannoma-SEG'}]"
      ]
     },
     "execution_count": 4,
     "metadata": {},
     "output_type": "execute_result"
    }
   ],
   "source": [
    "nbia.getCollections()"
   ]
  },
  {
   "cell_type": "code",
   "execution_count": 0,
   "metadata": {
    "application/vnd.databricks.v1+cell": {
     "cellMetadata": {
      "byteLimit": 2048000,
      "implicitDf": true,
      "rowLimit": 10000
     },
     "inputWidgets": {},
     "nuid": "33b94745-efcb-4920-a512-7b59b927c2fb",
     "showTitle": false,
     "tableResultSettingsMap": {},
     "title": ""
    }
   },
   "outputs": [],
   "source": [
    "%sql\n",
    "create volume IF NOT EXISTS hls_radiology.tcia.downloads;"
   ]
  },
  {
   "cell_type": "code",
   "execution_count": 0,
   "metadata": {
    "application/vnd.databricks.v1+cell": {
     "cellMetadata": {
      "byteLimit": 2048000,
      "rowLimit": 10000
     },
     "inputWidgets": {},
     "nuid": "323c6512-292c-4cc4-b7f1-170861c114d8",
     "showTitle": false,
     "tableResultSettingsMap": {},
     "title": ""
    }
   },
   "outputs": [],
   "source": [
    "directory_path = '/Volumes/hls_radiology/tcia/downloads'"
   ]
  },
  {
   "cell_type": "code",
   "execution_count": 0,
   "metadata": {
    "application/vnd.databricks.v1+cell": {
     "cellMetadata": {
      "byteLimit": 2048000,
      "rowLimit": 10000
     },
     "inputWidgets": {},
     "nuid": "08148c63-012f-46b2-a0b3-56d8e543eee2",
     "showTitle": false,
     "tableResultSettingsMap": {},
     "title": ""
    }
   },
   "outputs": [],
   "source": [
    "import os\n",
    "\n",
    "if not os.path.exists(directory_path):\n",
    "    os.makedirs(directory_path)\n",
    "\n",
    "os.chdir(directory_path)"
   ]
  },
  {
   "cell_type": "markdown",
   "metadata": {
    "application/vnd.databricks.v1+cell": {
     "cellMetadata": {
      "byteLimit": 2048000,
      "rowLimit": 10000
     },
     "inputWidgets": {},
     "nuid": "17c4e8e5-9699-453d-9ceb-d40342efbc92",
     "showTitle": false,
     "tableResultSettingsMap": {},
     "title": ""
    }
   },
   "source": [
    "## Download all the DICOMs as Zip files"
   ]
  },
  {
   "cell_type": "code",
   "execution_count": 0,
   "metadata": {
    "application/vnd.databricks.v1+cell": {
     "cellMetadata": {
      "byteLimit": 2048000,
      "rowLimit": 10000
     },
     "inputWidgets": {},
     "nuid": "a443a909-aa06-4a27-b2b8-32f90630e2e1",
     "showTitle": false,
     "tableResultSettingsMap": {},
     "title": ""
    }
   },
   "outputs": [],
   "source": [
    "#\n",
    "# Set name of collections\n",
    "#  https://www.cancerimagingarchive.net/collection/MIDI-B-Test-MIDI-B-Validation/\n",
    "#\n",
    "\n",
    "# MIDI-B PHI Detection test / validation data sets.\n",
    "collection_names = [\n",
    "    \"MIDI-B-Curated-Test\",\n",
    "    \"MIDI-B-Curated-Validation\",\n",
    "    \"MIDI-B-Synthetic-Test\"\n",
    "    'MIDI-B-Synthetic-Validation'\n",
    "]"
   ]
  },
  {
   "cell_type": "code",
   "execution_count": 0,
   "metadata": {
    "application/vnd.databricks.v1+cell": {
     "cellMetadata": {
      "byteLimit": 2048000,
      "rowLimit": 10000
     },
     "inputWidgets": {},
     "nuid": "14ac5ea3-58de-4278-bdef-fc6d2cc9ffa3",
     "showTitle": false,
     "tableResultSettingsMap": {},
     "title": ""
    }
   },
   "outputs": [
    {
     "output_type": "stream",
     "name": "stdout",
     "output_type": "stream",
     "text": [
      "Starting download to: /Volumes/hls_radiology/tcia/downloads\n"
     ]
    }
   ],
   "source": [
    "import pathlib\n",
    "print(f\"Starting download to: {pathlib.Path().resolve()}\")"
   ]
  },
  {
   "cell_type": "code",
   "execution_count": 0,
   "metadata": {
    "application/vnd.databricks.v1+cell": {
     "cellMetadata": {
      "byteLimit": 2048000,
      "rowLimit": 10000
     },
     "inputWidgets": {},
     "nuid": "86363df9-c21e-4856-b7f1-4bddf46de5ec",
     "showTitle": false,
     "tableResultSettingsMap": {},
     "title": ""
    }
   },
   "outputs": [
    {
     "output_type": "stream",
     "name": "stderr",
     "output_type": "stream",
     "text": [
      "2025-05-07 20:56:42,738:INFO:Calling getSeries with parameters {'Collection': 'MIDI-B-Synthetic-Test'}\n2025-05-07 20:56:46,027:INFO:Downloading 428 out of 428 Series Instance UIDs (scans).\n2025-05-07 20:56:46,122:INFO:Directory 'tciaDownload' already exists.\n2025-05-07 20:56:46,164:WARNING:Series 2.4.485.0.3.2574743.8.340.2053291776754759396 already downloaded as a zip file.\n2025-05-07 20:56:46,602:WARNING:Series 2.2.141.0.0.8878811.6.310.2199994186582863917 already downloaded as a zip file.\n2025-05-07 20:56:47,038:WARNING:Series 2.5.775.1.3.5018818.6.186.7976073169033437168 already downloaded as a zip file.\n2025-05-07 20:56:47,531:WARNING:Series 3.1.882.1.1.4262713.6.989.5219852315843357675 already downloaded as a zip file.\n2025-05-07 20:56:47,967:WARNING:Series 1.3.747.0.0.0911824.3.342.3389836679591513635 already downloaded as a zip file.\n2025-05-07 20:56:48,389:WARNING:Series 2.2.277.0.1.3104328.7.259.3251322725021574556 already downloaded as a zip file.\n2025-05-07 20:56:48,840:WARNING:Series 2.1.392.0.3.4986656.8.445.1017078165860970115 already downloaded as a zip file.\n2025-05-07 20:56:49,254:WARNING:Series 3.2.731.1.3.8335665.2.945.9639588195886190764 already downloaded as a zip file.\n2025-05-07 20:56:49,696:WARNING:Series 2.1.240.0.0.7462603.1.346.2400178324679273184 already downloaded as a zip file.\n2025-05-07 20:56:50,205:WARNING:Series 3.5.235.1.1.0575612.2.947.2169976379853250260 already downloaded as a zip file.\n2025-05-07 20:56:50,645:WARNING:Series 2.1.979.0.1.0833860.8.340.1690707799415682077 already downloaded as a zip file.\n2025-05-07 20:56:51,098:WARNING:Series 2.1.956.1.2.7910782.2.263.2693530144558437131 already downloaded as a zip file.\n2025-05-07 20:56:51,586:WARNING:Series 1.2.855.0.1.7916287.8.711.2583883360918523608 already downloaded as a zip file.\n2025-05-07 20:56:52,030:WARNING:Series 2.2.788.1.3.6617087.6.351.1262398028269696923 already downloaded as a zip file.\n2025-05-07 20:56:52,441:WARNING:Series 3.1.318.1.1.6046198.1.994.3222225945968724134 already downloaded as a zip file.\n2025-05-07 20:56:52,909:WARNING:Series 1.1.266.0.2.7033344.9.031.2129314251425497512 already downloaded as a zip file.\n2025-05-07 20:56:53,345:WARNING:Series 1.3.306.1.1.1711479.3.779.2776297006093759614 already downloaded as a zip file.\n2025-05-07 20:56:53,792:WARNING:Series 3.2.623.1.0.3729976.7.236.1269624071665335890 already downloaded as a zip file.\n2025-05-07 20:56:54,235:WARNING:Series 3.3.546.1.2.5115627.6.150.1065377349815813511 already downloaded as a zip file.\n2025-05-07 20:56:54,675:WARNING:Series 1.1.582.0.3.8604111.4.040.1865311550435039158 already downloaded as a zip file.\n2025-05-07 20:56:55,140:WARNING:Series 3.5.466.0.1.0912453.7.564.1197565454570789589 already downloaded as a zip file.\n2025-05-07 20:56:55,593:WARNING:Series 2.3.531.1.2.1503906.9.188.1545789387505815945 already downloaded as a zip file.\n2025-05-07 20:56:56,054:WARNING:Series 3.1.737.0.3.7475899.2.461.1865049386342752924 already downloaded as a zip file.\n2025-05-07 20:56:56,495:WARNING:Series 3.3.864.0.2.2948169.6.198.1548751168995716273 already downloaded as a zip file.\n2025-05-07 20:56:56,922:WARNING:Series 1.4.541.0.1.4675756.7.676.1986005087652110902 already downloaded as a zip file.\n2025-05-07 20:56:57,341:WARNING:Series 2.3.185.0.2.0801206.6.512.1517291030850877420 already downloaded as a zip file.\n2025-05-07 20:56:57,756:WARNING:Series 3.3.186.0.2.3750666.8.312.1032638300693915579 already downloaded as a zip file.\n2025-05-07 20:56:58,209:WARNING:Series 3.4.688.0.2.2171857.4.856.1392966901651750837 already downloaded as a zip file.\n2025-05-07 20:56:58,630:WARNING:Series 1.1.363.1.3.1018508.7.246.2937424141638087778 already downloaded as a zip file.\n2025-05-07 20:56:59,055:WARNING:Series 3.1.665.1.2.8965188.8.889.1735039447674198382 already downloaded as a zip file.\n2025-05-07 20:56:59,742:WARNING:Series 3.4.303.0.1.7109311.7.171.2313126758562317961 already downloaded as a zip file.\n2025-05-07 20:57:00,191:WARNING:Series 3.5.743.0.2.3102520.4.744.1283309615992016058 already downloaded as a zip file.\n2025-05-07 20:57:00,629:WARNING:Series 1.2.714.0.0.7426654.9.695.1102170333010371365 already downloaded as a zip file.\n2025-05-07 20:57:01,055:WARNING:Series 3.5.673.1.3.3873271.1.955.1561626258707725996 already downloaded as a zip file.\n2025-05-07 20:57:01,466:WARNING:Series 1.3.166.0.3.2606548.1.293.2718283386062156768 already downloaded as a zip file.\n2025-05-07 20:57:01,927:WARNING:Series 3.4.634.0.1.5842982.8.568.2805124928386595700 already downloaded as a zip file.\n2025-05-07 20:57:02,386:WARNING:Series 3.4.589.0.2.7542074.4.183.3027755818995562916 already downloaded as a zip file.\n2025-05-07 20:57:02,844:WARNING:Series 3.5.708.0.3.2003198.9.849.2959424873030138129 already downloaded as a zip file.\n2025-05-07 20:57:03,275:WARNING:Series 1.2.256.0.2.3141777.7.260.1239357928487374674 already downloaded as a zip file.\n2025-05-07 20:57:03,739:WARNING:Series 3.5.782.0.0.3749240.9.310.1944602213040872542 already downloaded as a zip file.\n2025-05-07 20:57:04,197:WARNING:Series 3.5.424.0.1.7662272.8.567.2862008443667525132 already downloaded as a zip file.\n2025-05-07 20:57:04,684:WARNING:Series 1.5.574.1.3.9676046.6.572.3211383591649640211 already downloaded as a zip file.\n2025-05-07 20:57:05,132:WARNING:Series 2.2.623.1.3.6189093.3.568.2149071406497999884 already downloaded as a zip file.\n2025-05-07 20:57:05,553:WARNING:Series 1.5.410.1.0.9550781.9.928.1611872086577092967 already downloaded as a zip file.\n2025-05-07 20:57:06,018:WARNING:Series 2.1.628.1.2.6043354.9.447.2819586837563838025 already downloaded as a zip file.\n2025-05-07 20:57:06,430:WARNING:Series 2.5.201.1.0.9867064.3.709.3006028168075141881 already downloaded as a zip file.\n2025-05-07 20:57:06,892:WARNING:Series 3.4.401.0.0.3003150.2.488.2434642800387848312 already downloaded as a zip file.\n2025-05-07 20:57:07,375:WARNING:Series 2.4.971.0.3.9809572.8.173.7448524625739072028 already downloaded as a zip file.\n2025-05-07 20:57:07,805:WARNING:Series 3.4.816.1.3.6415641.4.839.1353086665728801204 already downloaded as a zip file.\n2025-05-07 20:57:08,251:WARNING:Series 1.1.715.0.0.3995223.5.712.5931041935134870206 already downloaded as a zip file.\n2025-05-07 20:57:08,718:WARNING:Series 1.5.168.0.1.5553498.1.707.3191113939108889875 already downloaded as a zip file.\n2025-05-07 20:57:09,158:WARNING:Series 3.1.805.0.0.3054685.1.073.2355356109348804927 already downloaded as a zip file.\n2025-05-07 20:57:09,838:WARNING:Series 1.3.494.1.3.9673265.1.825.2813432520622573470 already downloaded as a zip file.\n2025-05-07 20:57:10,272:WARNING:Series 3.5.680.1.0.5912695.3.803.1733362496316980195 already downloaded as a zip file.\n2025-05-07 20:57:10,709:WARNING:Series 1.5.379.1.0.4053281.2.522.1307733809886318548 already downloaded as a zip file.\n2025-05-07 20:57:11,167:WARNING:Series 3.3.142.1.0.7633815.5.884.1368295040390641690 already downloaded as a zip file.\n2025-05-07 20:57:11,603:WARNING:Series 3.3.142.1.0.7633815.5.884.2674237287676542943 already downloaded as a zip file.\n2025-05-07 20:57:12,085:WARNING:Series 3.1.850.0.1.9109808.6.417.3269781309292964218 already downloaded as a zip file.\n2025-05-07 20:57:12,536:WARNING:Series 2.5.996.0.0.1724646.8.778.3221337303683276077 already downloaded as a zip file.\n2025-05-07 20:57:12,983:WARNING:Series 1.3.176.0.0.1183576.6.471.2508714016500613719 already downloaded as a zip file.\n2025-05-07 20:57:13,621:WARNING:Series 3.1.140.0.3.5980994.7.510.2752163552226241595 already downloaded as a zip file.\n2025-05-07 20:57:14,117:WARNING:Series 1.2.511.0.0.0600975.6.026.1641523882121383796 already downloaded as a zip file.\n2025-05-07 20:57:14,537:WARNING:Series 2.3.198.1.1.9955361.5.645.2083862449225685874 already downloaded as a zip file.\n2025-05-07 20:57:15,035:WARNING:Series 3.4.589.0.2.7542074.4.183.2872859846211533263 already downloaded as a zip file.\n2025-05-07 20:57:15,507:WARNING:Series 2.5.944.0.3.9964134.1.771.1983101129424946988 already downloaded as a zip file.\n2025-05-07 20:57:15,946:WARNING:Series 3.5.803.0.1.5120869.3.118.1733032296772083694 already downloaded as a zip file.\n2025-05-07 20:57:16,393:WARNING:Series 2.4.984.0.0.1271995.5.255.2662468688807116678 already downloaded as a zip file.\n2025-05-07 20:57:16,826:WARNING:Series 2.5.607.1.0.0341781.8.446.6273228540929231759 already downloaded as a zip file.\n2025-05-07 20:57:17,250:WARNING:Series 3.3.545.0.0.3344416.5.907.1207221752125014717 already downloaded as a zip file.\n2025-05-07 20:57:17,687:WARNING:Series 3.5.923.0.1.8367618.6.672.5708500380706491468 already downloaded as a zip file.\n2025-05-07 20:57:18,124:WARNING:Series 3.2.190.0.3.3404811.8.956.1558081960785188488 already downloaded as a zip file.\n2025-05-07 20:57:18,553:WARNING:Series 2.3.568.1.2.9336288.8.092.1893095449311446663 already downloaded as a zip file.\n2025-05-07 20:57:19,019:WARNING:Series 2.2.771.0.0.5288087.8.460.2209198590879363020 already downloaded as a zip file.\n2025-05-07 20:57:19,483:WARNING:Series 1.5.992.1.2.8569862.7.781.9189536819818442628 already downloaded as a zip file.\n2025-05-07 20:57:19,940:WARNING:Series 3.1.429.0.0.2051844.1.133.5440605442190885667 already downloaded as a zip file.\n2025-05-07 20:57:20,367:WARNING:Series 3.3.641.1.3.8813025.6.978.1268144008965643123 already downloaded as a zip file.\n2025-05-07 20:57:20,797:WARNING:Series 3.3.450.0.0.4627074.6.276.6125763896669855042 already downloaded as a zip file.\n2025-05-07 20:57:21,228:WARNING:Series 1.3.556.0.3.8477217.5.911.1799589932361494270 already downloaded as a zip file.\n2025-05-07 20:57:21,696:WARNING:Series 1.4.671.1.0.1448359.1.841.9161093511057904770 already downloaded as a zip file.\n2025-05-07 20:57:22,170:WARNING:Series 2.2.436.1.2.8362243.2.441.1794144873228012022 already downloaded as a zip file.\n2025-05-07 20:57:22,592:WARNING:Series 3.3.300.1.0.9556507.5.359.4746897919063100609 already downloaded as a zip file.\n2025-05-07 20:57:23,063:WARNING:Series 1.5.131.0.3.1417827.8.806.2536322729459041220 already downloaded as a zip file.\n2025-05-07 20:57:23,571:WARNING:Series 1.3.472.1.2.2430703.1.933.4674053871005695228 already downloaded as a zip file.\n2025-05-07 20:57:24,206:WARNING:Series 1.1.159.0.0.6557621.9.147.1113844244573973797 already downloaded as a zip file.\n2025-05-07 20:57:24,636:WARNING:Series 2.3.150.1.3.8599877.2.909.4413490170680942398 already downloaded as a zip file.\n2025-05-07 20:57:25,099:WARNING:Series 2.5.265.1.2.2257163.1.330.1846639874493850083 already downloaded as a zip file.\n2025-05-07 20:57:25,536:WARNING:Series 2.1.333.1.0.9255075.6.998.2492901513662977990 already downloaded as a zip file.\n2025-05-07 20:57:25,973:WARNING:Series 1.4.798.1.2.4966756.3.078.2502171148501414589 already downloaded as a zip file.\n2025-05-07 20:57:26,405:WARNING:Series 3.5.245.0.3.8722061.2.646.1636362926897373233 already downloaded as a zip file.\n2025-05-07 20:57:26,863:WARNING:Series 3.1.153.1.2.7506937.1.764.2656925195218692190 already downloaded as a zip file.\n2025-05-07 20:57:27,294:WARNING:Series 2.3.683.0.3.9580302.1.201.2056118293264458673 already downloaded as a zip file.\n2025-05-07 20:57:27,731:WARNING:Series 1.4.503.1.1.4430392.5.498.2570356733356411560 already downloaded as a zip file.\n2025-05-07 20:57:28,193:WARNING:Series 1.3.264.1.0.2245692.2.009.4392691485699678960 already downloaded as a zip file.\n2025-05-07 20:57:28,609:WARNING:Series 2.3.862.1.2.1171208.3.638.1051006998998047555 already downloaded as a zip file.\n2025-05-07 20:57:29,052:WARNING:Series 1.2.704.1.0.9744500.4.849.1671311543648579411 already downloaded as a zip file.\n2025-05-07 20:57:29,529:WARNING:Series 2.2.120.1.0.7638221.6.943.1386446673053298205 already downloaded as a zip file.\n2025-05-07 20:57:29,980:WARNING:Series 2.3.410.0.0.1220978.1.127.2083558949484421851 already downloaded as a zip file.\n2025-05-07 20:57:30,394:WARNING:Series 3.5.976.0.1.7263280.3.893.7532429025807844810 already downloaded as a zip file.\n2025-05-07 20:57:30,821:WARNING:Series 1.1.861.1.0.8097425.6.436.1264409234973392100 already downloaded as a zip file.\n2025-05-07 20:57:31,269:WARNING:Series 1.4.946.1.1.3356926.4.402.1889598777164600245 already downloaded as a zip file.\n2025-05-07 20:57:31,713:WARNING:Series 1.5.132.0.2.3389886.3.610.6751221740250647621 already downloaded as a zip file.\n2025-05-07 20:57:32,191:WARNING:Series 1.2.935.0.3.3290761.2.260.1354172420597014460 already downloaded as a zip file.\n2025-05-07 20:57:32,672:WARNING:Series 2.5.841.0.3.3468677.3.980.1833763449550031435 already downloaded as a zip file.\n2025-05-07 20:57:33,139:WARNING:Series 3.4.956.1.3.8856560.9.121.2657544433965870232 already downloaded as a zip file.\n2025-05-07 20:57:33,566:WARNING:Series 3.3.657.1.3.8455343.6.061.1697753842613227273 already downloaded as a zip file.\n2025-05-07 20:57:34,101:WARNING:Series 2.2.277.0.1.3104328.7.259.4472255158916857415 already downloaded as a zip file.\n2025-05-07 20:57:34,550:WARNING:Series 2.2.639.0.3.2988362.8.924.5801334914329880575 already downloaded as a zip file.\n2025-05-07 20:57:34,996:WARNING:Series 1.3.412.1.0.6375514.4.057.2200757102939618456 already downloaded as a zip file.\n2025-05-07 20:57:35,426:WARNING:Series 1.1.149.1.3.9186885.5.845.2842379237865892723 already downloaded as a zip file.\n2025-05-07 20:57:35,888:WARNING:Series 1.4.220.0.2.4678047.9.665.2046957155010160069 already downloaded as a zip file.\n2025-05-07 20:57:36,337:WARNING:Series 3.3.623.1.3.7438110.3.880.3384782380654557791 already downloaded as a zip file.\n2025-05-07 20:57:36,771:WARNING:Series 3.3.253.1.2.1772734.5.101.1392873719283611913 already downloaded as a zip file.\n2025-05-07 20:57:37,267:WARNING:Series 3.4.771.0.2.8863006.1.420.2402110620351354935 already downloaded as a zip file.\n2025-05-07 20:57:37,703:WARNING:Series 3.3.138.0.1.7695324.2.780.2600174637040908023 already downloaded as a zip file.\n2025-05-07 20:57:38,143:WARNING:Series 3.5.174.1.2.2530691.5.380.3248121209100764960 already downloaded as a zip file.\n2025-05-07 20:57:38,582:WARNING:Series 1.2.517.0.0.4755133.4.889.2432854590691488456 already downloaded as a zip file.\n2025-05-07 20:57:39,026:WARNING:Series 3.2.626.0.1.4735436.2.288.2117023208680621008 already downloaded as a zip file.\n2025-05-07 20:57:39,490:WARNING:Series 2.4.764.0.1.1921419.6.997.2291753412897812077 already downloaded as a zip file.\n2025-05-07 20:57:39,929:WARNING:Series 2.3.243.1.2.5410425.7.694.2849910441583120310 already downloaded as a zip file.\n2025-05-07 20:57:40,342:WARNING:Series 1.5.493.0.3.0695428.7.072.2732802376641703131 already downloaded as a zip file.\n2025-05-07 20:57:40,771:WARNING:Series 2.1.287.0.3.2422080.6.186.1298992080298070932 already downloaded as a zip file.\n2025-05-07 20:57:41,229:WARNING:Series 2.5.718.1.0.9557259.3.686.9129123117122734385 already downloaded as a zip file.\n2025-05-07 20:57:41,653:WARNING:Series 3.1.634.0.2.8377010.4.615.1260616005843595387 already downloaded as a zip file.\n2025-05-07 20:57:42,105:WARNING:Series 3.2.122.1.2.8066147.5.661.3076430383400550560 already downloaded as a zip file.\n2025-05-07 20:57:42,564:WARNING:Series 2.5.256.0.2.7584269.7.899.3401837651425571957 already downloaded as a zip file.\n2025-05-07 20:57:43,036:WARNING:Series 1.4.776.1.3.4191796.3.569.9002808596826843594 already downloaded as a zip file.\n2025-05-07 20:57:43,466:WARNING:Series 1.2.942.1.1.3385138.6.087.1988259199341318552 already downloaded as a zip file.\n2025-05-07 20:57:43,923:WARNING:Series 3.2.867.0.3.3118310.2.992.1234042764611369919 already downloaded as a zip file.\n2025-05-07 20:57:44,353:WARNING:Series 3.3.468.0.1.7185549.9.320.2482380364372133586 already downloaded as a zip file.\n2025-05-07 20:57:44,879:WARNING:Series 2.5.568.1.0.4127944.9.982.3670193677231874367 already downloaded as a zip file.\n2025-05-07 20:57:45,354:WARNING:Series 2.1.788.1.1.6451714.5.942.2868808559087221606 already downloaded as a zip file.\n2025-05-07 20:57:45,780:WARNING:Series 2.1.765.0.0.0326865.9.366.1226627681221919630 already downloaded as a zip file.\n2025-05-07 20:57:46,220:WARNING:Series 1.4.807.1.3.8120565.9.381.2280205741010463954 already downloaded as a zip file.\n2025-05-07 20:57:46,696:WARNING:Series 2.3.233.1.0.8515474.5.043.3751234163313928298 already downloaded as a zip file.\n2025-05-07 20:57:47,160:WARNING:Series 2.4.684.0.3.0736947.8.471.3284726613236797487 already downloaded as a zip file.\n2025-05-07 20:57:47,595:WARNING:Series 2.5.778.0.0.9766084.9.925.2901297209454398497 already downloaded as a zip file.\n2025-05-07 20:57:48,077:WARNING:Series 1.1.492.1.1.8558708.9.941.3333091972979804763 already downloaded as a zip file.\n2025-05-07 20:57:48,500:WARNING:Series 1.5.519.0.3.7432374.3.576.2214625427018701003 already downloaded as a zip file.\n2025-05-07 20:57:48,939:WARNING:Series 3.5.866.1.2.2609167.9.440.1114042746430192139 already downloaded as a zip file.\n2025-05-07 20:57:49,388:WARNING:Series 1.1.584.1.2.8829032.5.368.4740866334901035087 already downloaded as a zip file.\n2025-05-07 20:57:49,810:WARNING:Series 2.3.488.1.2.9965774.2.587.1024079713015695208 already downloaded as a zip file.\n2025-05-07 20:57:50,258:WARNING:Series 2.5.524.1.1.9449765.8.497.9323295992411944386 already downloaded as a zip file.\n2025-05-07 20:57:50,729:WARNING:Series 1.4.495.0.2.9392588.5.904.1770004252526980293 already downloaded as a zip file.\n2025-05-07 20:57:51,166:WARNING:Series 3.5.621.0.0.3188908.4.648.3087465043165607828 already downloaded as a zip file.\n2025-05-07 20:57:51,689:WARNING:Series 2.3.488.1.2.9965774.2.587.1289433563568333393 already downloaded as a zip file.\n2025-05-07 20:57:52,123:WARNING:Series 2.5.815.1.3.2760144.3.994.3044427729722995651 already downloaded as a zip file.\n2025-05-07 20:57:52,630:WARNING:Series 2.5.815.1.3.2760144.3.994.2860294579263021544 already downloaded as a zip file.\n2025-05-07 20:57:53,088:WARNING:Series 1.4.964.0.0.7975941.4.754.3183774186994792142 already downloaded as a zip file.\n2025-05-07 20:57:53,523:WARNING:Series 1.4.722.0.2.2647229.2.918.1958496948004872432 already downloaded as a zip file.\n2025-05-07 20:57:54,015:WARNING:Series 1.5.925.0.3.7220337.4.898.3232596773627260042 already downloaded as a zip file.\n2025-05-07 20:57:54,462:WARNING:Series 2.4.947.0.1.8708908.1.756.3073967604362707357 already downloaded as a zip file.\n2025-05-07 20:57:54,913:WARNING:Series 2.4.921.0.2.1252554.6.157.2304798410089034990 already downloaded as a zip file.\n2025-05-07 20:57:55,334:WARNING:Series 1.5.173.0.1.1062715.8.772.4743785535038246965 already downloaded as a zip file.\n2025-05-07 20:57:55,774:WARNING:Series 3.1.778.1.2.2980276.4.579.1938598966739082384 already downloaded as a zip file.\n2025-05-07 20:57:56,233:WARNING:Series 3.4.933.1.0.9207101.4.970.2341394668017237432 already downloaded as a zip file.\n2025-05-07 20:57:56,679:WARNING:Series 1.3.205.0.3.8950579.6.707.2838094014732925729 already downloaded as a zip file.\n2025-05-07 20:57:57,158:WARNING:Series 1.5.168.0.1.5553498.1.707.5757025447751332003 already downloaded as a zip file.\n2025-05-07 20:57:57,592:WARNING:Series 1.5.168.0.1.5553498.1.707.1118279383872763095 already downloaded as a zip file.\n2025-05-07 20:57:58,066:WARNING:Series 3.3.308.1.2.2873245.5.858.2631549223322125879 already downloaded as a zip file.\n2025-05-07 20:57:58,495:WARNING:Series 3.3.308.1.2.2873245.5.858.3083395362539850612 already downloaded as a zip file.\n2025-05-07 20:57:58,956:WARNING:Series 2.4.718.0.1.6724548.3.196.2080254878830334079 already downloaded as a zip file.\n2025-05-07 20:57:59,382:WARNING:Series 3.1.823.1.0.3700178.4.204.3009425859347178783 already downloaded as a zip file.\n2025-05-07 20:57:59,837:WARNING:Series 1.3.347.0.1.7105361.6.298.2545627993006338751 already downloaded as a zip file.\n2025-05-07 20:58:00,271:WARNING:Series 2.2.976.1.3.1918491.2.073.1825143503517367865 already downloaded as a zip file.\n2025-05-07 20:58:00,725:WARNING:Series 2.2.198.1.2.3201303.1.133.1413062493524911853 already downloaded as a zip file.\n2025-05-07 20:58:01,201:WARNING:Series 3.3.908.1.0.7420430.4.024.2336484391200854934 already downloaded as a zip file.\n2025-05-07 20:58:01,625:WARNING:Series 2.3.711.1.0.9700202.7.504.2535224835609586849 already downloaded as a zip file.\n2025-05-07 20:58:02,069:WARNING:Series 2.5.280.0.0.7182481.7.854.1198782116203676810 already downloaded as a zip file.\n2025-05-07 20:58:02,516:WARNING:Series 2.1.540.1.3.8661325.2.323.2090083698883729849 already downloaded as a zip file.\n2025-05-07 20:58:02,968:WARNING:Series 2.1.540.1.3.8661325.2.323.2393752101822659249 already downloaded as a zip file.\n2025-05-07 20:58:03,393:WARNING:Series 3.3.193.0.1.9916426.8.134.1218337709620319560 already downloaded as a zip file.\n2025-05-07 20:58:03,840:WARNING:Series 3.3.193.0.1.9916426.8.134.2636143003054975434 already downloaded as a zip file.\n2025-05-07 20:58:04,277:WARNING:Series 1.3.262.0.3.9682684.9.572.3378365462600630107 already downloaded as a zip file.\n2025-05-07 20:58:04,722:WARNING:Series 1.3.262.0.3.9682684.9.572.4624724063764863947 already downloaded as a zip file.\n2025-05-07 20:58:05,212:WARNING:Series 1.3.262.0.3.9682684.9.572.5218408459530210866 already downloaded as a zip file.\n2025-05-07 20:58:05,636:WARNING:Series 1.2.479.0.0.8763633.9.137.1731791753333121274 already downloaded as a zip file.\n2025-05-07 20:58:06,087:WARNING:Series 3.3.657.1.3.8455343.6.061.3295661495644697867 already downloaded as a zip file.\n2025-05-07 20:58:06,532:WARNING:Series 3.3.623.1.1.7709541.4.925.2182620529184951436 already downloaded as a zip file.\n2025-05-07 20:58:06,979:WARNING:Series 1.3.286.0.3.5157534.8.467.2441286449069039117 already downloaded as a zip file.\n2025-05-07 20:58:07,396:WARNING:Series 3.1.763.1.3.2653841.3.389.1936364059488751947 already downloaded as a zip file.\n2025-05-07 20:58:07,833:WARNING:Series 1.5.748.0.3.9335387.5.248.2233249614394108196 already downloaded as a zip file.\n2025-05-07 20:58:08,374:WARNING:Series 3.4.995.1.0.9199491.4.131.2675932290346650541 already downloaded as a zip file.\n2025-05-07 20:58:08,808:WARNING:Series 3.4.995.1.0.9199491.4.131.2553948619230828900 already downloaded as a zip file.\n2025-05-07 20:58:09,280:WARNING:Series 1.3.497.1.1.0989725.4.508.9635492029873563505 already downloaded as a zip file.\n2025-05-07 20:58:09,711:WARNING:Series 1.3.972.1.0.0250117.9.548.1614502955520314993 already downloaded as a zip file.\n2025-05-07 20:58:10,151:WARNING:Series 2.5.969.0.2.8986842.8.125.3205160095689048877 already downloaded as a zip file.\n2025-05-07 20:58:10,564:WARNING:Series 1.1.331.0.2.9942315.2.295.3008510809397251596 already downloaded as a zip file.\n2025-05-07 20:58:11,013:WARNING:Series 1.2.524.0.1.9096682.2.844.2304332590136804852 already downloaded as a zip file.\n2025-05-07 20:58:11,477:WARNING:Series 1.2.992.1.1.8329200.5.287.1847819022802444267 already downloaded as a zip file.\n2025-05-07 20:58:11,923:WARNING:Series 2.4.628.0.3.5613120.5.756.1458458837837762534 already downloaded as a zip file.\n2025-05-07 20:58:12,354:WARNING:Series 2.4.628.0.3.5613120.5.756.3360276977857146529 already downloaded as a zip file.\n2025-05-07 20:58:12,795:WARNING:Series 1.5.657.1.1.1589203.2.233.3267245223235217185 already downloaded as a zip file.\n2025-05-07 20:58:13,258:WARNING:Series 3.1.803.1.2.4894041.1.723.1712589406305866532 already downloaded as a zip file.\n2025-05-07 20:58:13,723:WARNING:Series 1.1.756.1.1.0630347.4.999.5427158626002538554 already downloaded as a zip file.\n2025-05-07 20:58:14,181:WARNING:Series 2.1.889.0.2.0824559.2.319.9261565322124939777 already downloaded as a zip file.\n2025-05-07 20:58:14,648:WARNING:Series 3.2.499.0.3.1580140.5.968.2598161465932701180 already downloaded as a zip file.\n2025-05-07 20:58:15,085:WARNING:Series 1.2.172.1.2.2965161.2.740.7142972037322188386 already downloaded as a zip file.\n2025-05-07 20:58:15,542:WARNING:Series 3.2.507.1.0.8115330.1.172.7007111909678456590 already downloaded as a zip file.\n2025-05-07 20:58:15,978:WARNING:Series 2.2.617.0.0.1584358.8.560.2389746514130921682 already downloaded as a zip file.\n2025-05-07 20:58:16,393:WARNING:Series 3.2.451.0.2.1192553.9.018.1650806627929769929 already downloaded as a zip file.\n2025-05-07 20:58:16,836:WARNING:Series 1.1.539.1.2.6532436.4.150.2803118946087699485 already downloaded as a zip file.\n2025-05-07 20:58:17,268:WARNING:Series 1.2.643.0.3.9849871.3.060.1511685564222340298 already downloaded as a zip file.\n2025-05-07 20:58:17,715:WARNING:Series 3.4.693.1.2.5699273.4.090.2190749359526123655 already downloaded as a zip file.\n2025-05-07 20:58:18,191:INFO:Downloading... https://services.cancerimagingarchive.net/nbia-api/services/v2/getImage?NewFileNames=Yes&SeriesInstanceUID=1.5.979.1.1.6343455.1.165.2896457310676364946\n2025-05-07 20:58:21,688:INFO:Downloading... https://services.cancerimagingarchive.net/nbia-api/services/v2/getImage?NewFileNames=Yes&SeriesInstanceUID=2.5.589.1.2.3651414.7.651.1031157842162928127\n2025-05-07 20:58:27,175:INFO:Downloading... https://services.cancerimagingarchive.net/nbia-api/services/v2/getImage?NewFileNames=Yes&SeriesInstanceUID=1.1.967.1.2.5430601.3.338.2881939746492\n\n*** WARNING: max output size exceeded, skipping output. ***\n\nding... https://services.cancerimagingarchive.net/nbia-api/services/v2/getImage?NewFileNames=Yes&SeriesInstanceUID=2.5.526.1.2.4815487.5.892.8754909855105752853\n2025-05-07 21:12:53,869:INFO:Downloading... https://services.cancerimagingarchive.net/nbia-api/services/v2/getImage?NewFileNames=Yes&SeriesInstanceUID=3.1.194.0.0.4973381.9.555.1481178922729022046\n2025-05-07 21:12:57,199:INFO:Downloading... https://services.cancerimagingarchive.net/nbia-api/services/v2/getImage?NewFileNames=Yes&SeriesInstanceUID=1.1.649.1.2.3308207.4.515.2638110164847693455\n2025-05-07 21:13:00,614:INFO:Downloading... https://services.cancerimagingarchive.net/nbia-api/services/v2/getImage?NewFileNames=Yes&SeriesInstanceUID=2.1.275.1.3.5240643.4.064.2417652170419278022\n2025-05-07 21:13:07,349:INFO:Downloading... https://services.cancerimagingarchive.net/nbia-api/services/v2/getImage?NewFileNames=Yes&SeriesInstanceUID=3.1.341.0.3.6331097.4.285.1994278620501838446\n2025-05-07 21:13:10,688:INFO:Downloading... https://services.cancerimagingarchive.net/nbia-api/services/v2/getImage?NewFileNames=Yes&SeriesInstanceUID=3.1.341.0.3.6331097.4.285.2788105961290778689\n2025-05-07 21:13:14,013:INFO:Downloading... https://services.cancerimagingarchive.net/nbia-api/services/v2/getImage?NewFileNames=Yes&SeriesInstanceUID=2.3.872.1.0.7836441.6.071.2617216808845724045\n2025-05-07 21:13:22,632:INFO:Downloading... https://services.cancerimagingarchive.net/nbia-api/services/v2/getImage?NewFileNames=Yes&SeriesInstanceUID=1.5.657.1.1.1589203.2.233.8979684016820987320\n2025-05-07 21:13:30,252:INFO:Downloading... https://services.cancerimagingarchive.net/nbia-api/services/v2/getImage?NewFileNames=Yes&SeriesInstanceUID=3.2.692.0.1.0685507.2.491.1062919240917016352\n2025-05-07 21:13:31,337:INFO:Downloading... https://services.cancerimagingarchive.net/nbia-api/services/v2/getImage?NewFileNames=Yes&SeriesInstanceUID=2.3.686.1.1.6914761.7.095.9676534973443849024\n2025-05-07 21:13:34,069:INFO:Downloading... https://services.cancerimagingarchive.net/nbia-api/services/v2/getImage?NewFileNames=Yes&SeriesInstanceUID=1.1.349.0.3.1393175.6.948.2906462033683080701\n2025-05-07 21:13:37,135:INFO:Downloading... https://services.cancerimagingarchive.net/nbia-api/services/v2/getImage?NewFileNames=Yes&SeriesInstanceUID=1.1.260.1.2.0241969.4.313.5148613129975672258\n2025-05-07 21:13:42,875:INFO:Downloading... https://services.cancerimagingarchive.net/nbia-api/services/v2/getImage?NewFileNames=Yes&SeriesInstanceUID=2.1.628.1.2.6043354.9.447.8682696691626031316\n2025-05-07 21:13:43,848:INFO:Downloading... https://services.cancerimagingarchive.net/nbia-api/services/v2/getImage?NewFileNames=Yes&SeriesInstanceUID=1.2.757.1.3.2088512.7.034.9796669599812807633\n2025-05-07 21:13:46,868:INFO:Downloading... https://services.cancerimagingarchive.net/nbia-api/services/v2/getImage?NewFileNames=Yes&SeriesInstanceUID=3.4.176.0.0.7008682.9.709.1082995527042999853\n2025-05-07 21:13:58,846:INFO:Downloading... https://services.cancerimagingarchive.net/nbia-api/services/v2/getImage?NewFileNames=Yes&SeriesInstanceUID=1.5.391.1.3.9088976.4.052.1350136889325547735\n2025-05-07 21:14:01,775:INFO:Downloading... https://services.cancerimagingarchive.net/nbia-api/services/v2/getImage?NewFileNames=Yes&SeriesInstanceUID=1.5.250.1.2.3858378.6.445.2817728424975288811\n2025-05-07 21:14:05,877:INFO:Downloading... https://services.cancerimagingarchive.net/nbia-api/services/v2/getImage?NewFileNames=Yes&SeriesInstanceUID=3.4.153.0.2.1362984.6.286.1638371337549386619\n2025-05-07 21:14:14,341:INFO:Downloading... https://services.cancerimagingarchive.net/nbia-api/services/v2/getImage?NewFileNames=Yes&SeriesInstanceUID=1.3.530.0.0.4809554.9.385.3165889411650292320\n2025-05-07 21:14:22,202:INFO:Downloading... https://services.cancerimagingarchive.net/nbia-api/services/v2/getImage?NewFileNames=Yes&SeriesInstanceUID=1.4.214.1.3.3357985.3.779.2020053295584688282\n2025-05-07 21:14:27,000:INFO:Downloading... https://services.cancerimagingarchive.net/nbia-api/services/v2/getImage?NewFileNames=Yes&SeriesInstanceUID=2.3.255.1.3.3478136.6.173.1267342810986709357\n2025-05-07 21:14:28,814:INFO:Downloading... https://services.cancerimagingarchive.net/nbia-api/services/v2/getImage?NewFileNames=Yes&SeriesInstanceUID=1.3.210.0.3.7392265.8.490.2317268027904721492\n2025-05-07 21:14:30,179:INFO:Downloading... https://services.cancerimagingarchive.net/nbia-api/services/v2/getImage?NewFileNames=Yes&SeriesInstanceUID=2.5.207.0.1.8858934.6.662.3168342403792526196\n2025-05-07 21:14:35,634:INFO:Downloading... https://services.cancerimagingarchive.net/nbia-api/services/v2/getImage?NewFileNames=Yes&SeriesInstanceUID=2.5.207.0.1.8858934.6.662.1486898570872033941\n2025-05-07 21:14:40,723:INFO:Downloading... https://services.cancerimagingarchive.net/nbia-api/services/v2/getImage?NewFileNames=Yes&SeriesInstanceUID=2.5.271.1.0.4045255.4.378.2629832877517129383\n2025-05-07 21:14:45,521:INFO:Downloading... https://services.cancerimagingarchive.net/nbia-api/services/v2/getImage?NewFileNames=Yes&SeriesInstanceUID=3.2.262.0.1.4259946.8.660.1822312564690592482\n2025-05-07 21:14:48,323:INFO:Downloading... https://services.cancerimagingarchive.net/nbia-api/services/v2/getImage?NewFileNames=Yes&SeriesInstanceUID=1.5.149.0.1.5819696.6.296.2678872856140263408\n2025-05-07 21:14:51,013:INFO:Downloading... https://services.cancerimagingarchive.net/nbia-api/services/v2/getImage?NewFileNames=Yes&SeriesInstanceUID=3.1.637.0.0.5284388.1.275.2667562426224443613\n2025-05-07 21:14:52,663:INFO:Downloading... https://services.cancerimagingarchive.net/nbia-api/services/v2/getImage?NewFileNames=Yes&SeriesInstanceUID=2.3.206.0.1.9438032.4.170.2282966119059079988\n2025-05-07 21:14:57,716:INFO:Downloading... https://services.cancerimagingarchive.net/nbia-api/services/v2/getImage?NewFileNames=Yes&SeriesInstanceUID=2.3.994.1.1.0678050.9.876.2458607124225209588\n2025-05-07 21:15:01,192:INFO:Downloading... https://services.cancerimagingarchive.net/nbia-api/services/v2/getImage?NewFileNames=Yes&SeriesInstanceUID=3.5.350.1.1.2252820.2.198.7079005675535691411\n2025-05-07 21:15:09,178:INFO:Downloading... https://services.cancerimagingarchive.net/nbia-api/services/v2/getImage?NewFileNames=Yes&SeriesInstanceUID=2.1.275.1.3.5240643.4.064.1985710324962384812\n2025-05-07 21:15:12,274:INFO:Downloading... https://services.cancerimagingarchive.net/nbia-api/services/v2/getImage?NewFileNames=Yes&SeriesInstanceUID=2.5.793.0.0.5759440.5.735.1982607406843275017\n2025-05-07 21:15:16,799:INFO:Downloading... https://services.cancerimagingarchive.net/nbia-api/services/v2/getImage?NewFileNames=Yes&SeriesInstanceUID=2.2.644.1.1.1785865.8.247.8792011188161073775\n2025-05-07 21:15:20,673:INFO:Downloading... https://services.cancerimagingarchive.net/nbia-api/services/v2/getImage?NewFileNames=Yes&SeriesInstanceUID=2.1.944.0.0.0429336.9.269.5785098228488158658\n2025-05-07 21:15:24,198:INFO:Downloading... https://services.cancerimagingarchive.net/nbia-api/services/v2/getImage?NewFileNames=Yes&SeriesInstanceUID=3.3.715.0.0.6026502.6.195.5959214668264294863\n2025-05-07 21:15:25,197:INFO:Downloading... https://services.cancerimagingarchive.net/nbia-api/services/v2/getImage?NewFileNames=Yes&SeriesInstanceUID=1.2.624.1.0.0674196.2.492.3017626620751651967\n2025-05-07 21:15:28,095:INFO:Downloading... https://services.cancerimagingarchive.net/nbia-api/services/v2/getImage?NewFileNames=Yes&SeriesInstanceUID=2.4.280.1.0.4863550.8.167.2162061805151817602\n2025-05-07 21:15:36,349:INFO:Downloading... https://services.cancerimagingarchive.net/nbia-api/services/v2/getImage?NewFileNames=Yes&SeriesInstanceUID=1.1.478.0.3.5922257.5.534.2930954405391416905\n2025-05-07 21:15:40,356:INFO:Downloading... https://services.cancerimagingarchive.net/nbia-api/services/v2/getImage?NewFileNames=Yes&SeriesInstanceUID=1.1.953.1.0.0885620.8.379.1253375154868859595\n2025-05-07 21:15:45,318:INFO:Downloading... https://services.cancerimagingarchive.net/nbia-api/services/v2/getImage?NewFileNames=Yes&SeriesInstanceUID=1.2.147.0.3.4010217.8.282.1269290575041217365\n2025-05-07 21:15:47,795:INFO:Downloading... https://services.cancerimagingarchive.net/nbia-api/services/v2/getImage?NewFileNames=Yes&SeriesInstanceUID=1.2.488.0.1.2222873.9.795.2686752920478469539\n2025-05-07 21:15:55,158:INFO:Downloading... https://services.cancerimagingarchive.net/nbia-api/services/v2/getImage?NewFileNames=Yes&SeriesInstanceUID=2.3.436.1.3.8684079.4.310.9196019568777594973\n2025-05-07 21:15:56,289:INFO:Downloading... https://services.cancerimagingarchive.net/nbia-api/services/v2/getImage?NewFileNames=Yes&SeriesInstanceUID=1.4.426.1.1.4932301.5.290.1711177385441692380\n2025-05-07 21:15:58,201:INFO:Downloading... https://services.cancerimagingarchive.net/nbia-api/services/v2/getImage?NewFileNames=Yes&SeriesInstanceUID=1.2.375.0.1.9849735.9.276.2534260369573560292\n2025-05-07 21:16:00,596:INFO:Downloading... https://services.cancerimagingarchive.net/nbia-api/services/v2/getImage?NewFileNames=Yes&SeriesInstanceUID=1.3.214.0.3.5851189.9.588.2849407206966661742\n2025-05-07 21:16:03,525:INFO:Downloading... https://services.cancerimagingarchive.net/nbia-api/services/v2/getImage?NewFileNames=Yes&SeriesInstanceUID=3.4.176.0.0.7008682.9.709.3353832255883972235\n2025-05-07 21:16:04,486:INFO:Downloading... https://services.cancerimagingarchive.net/nbia-api/services/v2/getImage?NewFileNames=Yes&SeriesInstanceUID=2.2.225.0.0.3480795.6.230.2341791780259317507\n2025-05-07 21:16:13,225:INFO:Downloading... https://services.cancerimagingarchive.net/nbia-api/services/v2/getImage?NewFileNames=Yes&SeriesInstanceUID=2.5.629.0.0.2486653.1.618.2457403995460249861\n2025-05-07 21:16:14,227:INFO:Downloading... https://services.cancerimagingarchive.net/nbia-api/services/v2/getImage?NewFileNames=Yes&SeriesInstanceUID=1.1.260.0.3.3866565.8.364.9091862285920874621\n2025-05-07 21:16:15,890:INFO:Downloading... https://services.cancerimagingarchive.net/nbia-api/services/v2/getImage?NewFileNames=Yes&SeriesInstanceUID=1.4.873.0.3.5080754.7.663.3156523823792893657\n2025-05-07 21:16:23,190:INFO:Downloading... https://services.cancerimagingarchive.net/nbia-api/services/v2/getImage?NewFileNames=Yes&SeriesInstanceUID=2.4.984.0.0.1271995.5.255.3353467346644185877\n2025-05-07 21:16:24,854:INFO:Downloading... https://services.cancerimagingarchive.net/nbia-api/services/v2/getImage?NewFileNames=Yes&SeriesInstanceUID=2.5.657.0.1.1505321.2.479.1841580784383778101\n2025-05-07 21:16:26,625:INFO:Downloading... https://services.cancerimagingarchive.net/nbia-api/services/v2/getImage?NewFileNames=Yes&SeriesInstanceUID=2.2.623.1.3.6189093.3.568.3193551002942179888\n2025-05-07 21:16:27,544:INFO:Downloading... https://services.cancerimagingarchive.net/nbia-api/services/v2/getImage?NewFileNames=Yes&SeriesInstanceUID=2.4.928.1.1.5736842.8.711.2859616817431189782\n2025-05-07 21:16:29,693:INFO:Downloading... https://services.cancerimagingarchive.net/nbia-api/services/v2/getImage?NewFileNames=Yes&SeriesInstanceUID=3.3.308.1.2.2873245.5.858.2328397807887243912\n2025-05-07 21:16:31,768:INFO:Downloading... https://services.cancerimagingarchive.net/nbia-api/services/v2/getImage?NewFileNames=Yes&SeriesInstanceUID=1.1.766.1.2.3936616.2.547.1967228319604989508\n2025-05-07 21:16:32,916:INFO:Downloading... https://services.cancerimagingarchive.net/nbia-api/services/v2/getImage?NewFileNames=Yes&SeriesInstanceUID=1.4.650.0.3.2275822.2.004.2695049430479825957\n2025-05-07 21:16:35,862:INFO:Downloading... https://services.cancerimagingarchive.net/nbia-api/services/v2/getImage?NewFileNames=Yes&SeriesInstanceUID=2.2.350.1.3.1876037.8.189.6711230665432504280\n2025-05-07 21:16:36,863:INFO:Downloading... https://services.cancerimagingarchive.net/nbia-api/services/v2/getImage?NewFileNames=Yes&SeriesInstanceUID=2.3.583.1.1.6351761.1.601.3020107421873667409\n2025-05-07 21:16:41,722:INFO:Downloading... https://services.cancerimagingarchive.net/nbia-api/services/v2/getImage?NewFileNames=Yes&SeriesInstanceUID=1.4.484.0.3.9521933.5.957.2366822472610716826\n2025-05-07 21:16:42,626:INFO:Downloading... https://services.cancerimagingarchive.net/nbia-api/services/v2/getImage?NewFileNames=Yes&SeriesInstanceUID=2.2.940.1.2.3790565.1.928.3932668942142104499\n2025-05-07 21:16:44,163:INFO:Downloading... https://services.cancerimagingarchive.net/nbia-api/services/v2/getImage?NewFileNames=Yes&SeriesInstanceUID=3.2.543.0.1.9933158.6.815.1684117257772943298\n2025-05-07 21:16:45,204:INFO:Downloading... https://services.cancerimagingarchive.net/nbia-api/services/v2/getImage?NewFileNames=Yes&SeriesInstanceUID=3.1.130.1.0.9878830.3.405.2641317277717078164\n2025-05-07 21:16:46,248:INFO:Downloading... https://services.cancerimagingarchive.net/nbia-api/services/v2/getImage?NewFileNames=Yes&SeriesInstanceUID=1.1.649.1.2.3308207.4.515.1928804155844970577\n2025-05-07 21:16:47,221:INFO:Downloading... https://services.cancerimagingarchive.net/nbia-api/services/v2/getImage?NewFileNames=Yes&SeriesInstanceUID=1.1.496.1.2.3661363.1.646.2141582616307599179\n2025-05-07 21:16:48,195:INFO:Downloading... https://services.cancerimagingarchive.net/nbia-api/services/v2/getImage?NewFileNames=Yes&SeriesInstanceUID=1.3.836.0.1.9582338.5.374.1455718718183171676\n2025-05-07 21:16:49,643:INFO:Downloading... https://services.cancerimagingarchive.net/nbia-api/services/v2/getImage?NewFileNames=Yes&SeriesInstanceUID=1.5.574.1.3.9676046.6.572.4829671497592882703\n2025-05-07 21:16:50,560:INFO:Downloading... https://services.cancerimagingarchive.net/nbia-api/services/v2/getImage?NewFileNames=Yes&SeriesInstanceUID=3.4.956.1.3.8856560.9.121.3385223255730564810\n2025-05-07 21:16:53,482:INFO:Downloading... https://services.cancerimagingarchive.net/nbia-api/services/v2/getImage?NewFileNames=Yes&SeriesInstanceUID=1.4.113.1.0.9142375.4.788.4744016837713161415\n2025-05-07 21:16:54,870:INFO:Downloading... https://services.cancerimagingarchive.net/nbia-api/services/v2/getImage?NewFileNames=Yes&SeriesInstanceUID=2.5.201.1.0.9867064.3.709.4211762502233404661\n2025-05-07 21:16:55,782:INFO:Downloading... https://services.cancerimagingarchive.net/nbia-api/services/v2/getImage?NewFileNames=Yes&SeriesInstanceUID=2.1.628.1.2.6043354.9.447.2710575500111790905\n2025-05-07 21:16:56,726:INFO:Downloading... https://services.cancerimagingarchive.net/nbia-api/services/v2/getImage?NewFileNames=Yes&SeriesInstanceUID=2.1.628.1.2.6043354.9.447.2761876497762378202\n2025-05-07 21:16:57,730:INFO:Downloading... https://services.cancerimagingarchive.net/nbia-api/services/v2/getImage?NewFileNames=Yes&SeriesInstanceUID=1.1.478.0.3.5922257.5.534.1497635990484264536\n2025-05-07 21:16:58,684:INFO:Downloading... https://services.cancerimagingarchive.net/nbia-api/services/v2/getImage?NewFileNames=Yes&SeriesInstanceUID=2.5.536.1.0.0555875.2.028.1631384510190509033\n2025-05-07 21:17:05,931:INFO:Downloading... https://services.cancerimagingarchive.net/nbia-api/services/v2/getImage?NewFileNames=Yes&SeriesInstanceUID=3.1.824.0.0.7646646.1.872.1813606151703439701\n2025-05-07 21:17:07,012:INFO:Downloading... https://services.cancerimagingarchive.net/nbia-api/services/v2/getImage?NewFileNames=Yes&SeriesInstanceUID=2.3.255.1.3.3478136.6.173.6773625498529792338\n2025-05-07 21:17:07,943:INFO:Downloading... https://services.cancerimagingarchive.net/nbia-api/services/v2/getImage?NewFileNames=Yes&SeriesInstanceUID=3.3.695.1.2.9897056.9.665.1697970613097799106\n2025-05-07 21:17:09,041:INFO:Downloading... https://services.cancerimagingarchive.net/nbia-api/services/v2/getImage?NewFileNames=Yes&SeriesInstanceUID=3.3.695.1.2.9897056.9.665.2992938317179004916\n2025-05-07 21:17:10,251:INFO:Downloading... https://services.cancerimagingarchive.net/nbia-api/services/v2/getImage?NewFileNames=Yes&SeriesInstanceUID=1.5.574.1.3.9676046.6.572.2771019694544979427\n2025-05-07 21:17:11,246:INFO:Downloading... https://services.cancerimagingarchive.net/nbia-api/services/v2/getImage?NewFileNames=Yes&SeriesInstanceUID=3.1.689.1.1.6167165.8.590.1319830249871739196\n2025-05-07 21:17:14,709:INFO:Downloading... https://services.cancerimagingarchive.net/nbia-api/services/v2/getImage?NewFileNames=Yes&SeriesInstanceUID=2.5.944.0.3.9964134.1.771.1775763368866840010\n2025-05-07 21:17:16,939:INFO:Downloading... https://services.cancerimagingarchive.net/nbia-api/services/v2/getImage?NewFileNames=Yes&SeriesInstanceUID=3.2.282.0.1.1936603.5.268.6084962899094728925\n2025-05-07 21:17:22,304:INFO:Downloading... https://services.cancerimagingarchive.net/nbia-api/services/v2/getImage?NewFileNames=Yes&SeriesInstanceUID=2.2.374.1.2.1964017.6.944.1296505580249696336\n2025-05-07 21:17:23,519:INFO:Downloading... https://services.cancerimagingarchive.net/nbia-api/services/v2/getImage?NewFileNames=Yes&SeriesInstanceUID=3.3.953.1.0.4501375.4.754.1794460390400150730\n2025-05-07 21:17:29,343:INFO:Downloading... https://services.cancerimagingarchive.net/nbia-api/services/v2/getImage?NewFileNames=Yes&SeriesInstanceUID=2.5.201.1.0.9867064.3.709.7870683202354106360\n2025-05-07 21:17:30,268:INFO:Downloading... https://services.cancerimagingarchive.net/nbia-api/services/v2/getImage?NewFileNames=Yes&SeriesInstanceUID=3.4.673.1.3.8882403.8.547.3375722828650930549\n2025-05-07 21:17:36,951:INFO:Downloading... https://services.cancerimagingarchive.net/nbia-api/services/v2/getImage?NewFileNames=Yes&SeriesInstanceUID=3.5.121.1.0.6191890.5.560.2066337766246819060\n2025-05-07 21:17:38,069:INFO:Downloading... https://services.cancerimagingarchive.net/nbia-api/services/v2/getImage?NewFileNames=Yes&SeriesInstanceUID=3.1.288.0.0.0294644.7.950.1814813335855596137\n2025-05-07 21:17:39,097:INFO:Downloading... https://services.cancerimagingarchive.net/nbia-api/services/v2/getImage?NewFileNames=Yes&SeriesInstanceUID=3.4.606.1.1.5612736.5.875.1057939889775126808\n2025-05-07 21:17:43,755:INFO:Downloading... https://services.cancerimagingarchive.net/nbia-api/services/v2/getImage?NewFileNames=Yes&SeriesInstanceUID=2.5.770.0.1.0806810.7.891.3057184426010948565\n2025-05-07 21:17:44,842:INFO:Downloading... https://services.cancerimagingarchive.net/nbia-api/services/v2/getImage?NewFileNames=Yes&SeriesInstanceUID=3.4.564.1.3.7735693.1.832.2283585561686441648\n2025-05-07 21:17:51,093:INFO:Downloading... https://services.cancerimagingarchive.net/nbia-api/services/v2/getImage?NewFileNames=Yes&SeriesInstanceUID=2.3.151.1.1.9151252.9.955.1981614352754313895\n2025-05-07 21:17:56,050:INFO:Downloading... https://services.cancerimagingarchive.net/nbia-api/services/v2/getImage?NewFileNames=Yes&SeriesInstanceUID=1.1.377.1.2.2021279.1.724.1943672249939374389\n2025-05-07 21:17:57,242:INFO:Downloading... https://services.cancerimagingarchive.net/nbia-api/services/v2/getImage?NewFileNames=Yes&SeriesInstanceUID=1.5.574.1.3.9676046.6.572.3298422981625797210\n2025-05-07 21:17:58,181:INFO:Downloading... https://services.cancerimagingarchive.net/nbia-api/services/v2/getImage?NewFileNames=Yes&SeriesInstanceUID=3.1.194.0.0.4973381.9.555.1068229646994216781\n2025-05-07 21:17:59,687:INFO:Downloading... https://services.cancerimagingarchive.net/nbia-api/services/v2/getImage?NewFileNames=Yes&SeriesInstanceUID=2.1.682.1.2.9292046.6.960.6519043771577242434\n2025-05-07 21:18:05,454:INFO:Downloading... https://services.cancerimagingarchive.net/nbia-api/services/v2/getImage?NewFileNames=Yes&SeriesInstanceUID=1.5.519.0.3.7832762.4.720.1454302612416763531\n2025-05-07 21:18:07,073:INFO:Downloading... https://services.cancerimagingarchive.net/nbia-api/services/v2/getImage?NewFileNames=Yes&SeriesInstanceUID=3.3.460.0.1.2362797.9.443.2998246167714965001\n2025-05-07 21:18:10,754:INFO:Downloading... https://services.cancerimagingarchive.net/nbia-api/services/v2/getImage?NewFileNames=Yes&SeriesInstanceUID=1.5.839.1.0.8341099.3.074.2980402023017288442\n2025-05-07 21:18:15,030:INFO:Downloading... https://services.cancerimagingarchive.net/nbia-api/services/v2/getImage?NewFileNames=Yes&SeriesInstanceUID=1.3.120.1.1.5656496.7.255.2289907110842596835\n2025-05-07 21:18:18,504:INFO:Downloading... https://services.cancerimagingarchive.net/nbia-api/services/v2/getImage?NewFileNames=Yes&SeriesInstanceUID=3.1.824.0.0.7646646.1.872.1589510765494740603\n2025-05-07 21:18:19,865:INFO:Downloading... https://services.cancerimagingarchive.net/nbia-api/services/v2/getImage?NewFileNames=Yes&SeriesInstanceUID=1.3.551.1.3.2801865.6.849.3272968305773959251\n2025-05-07 21:18:24,150:INFO:Downloading... https://services.cancerimagingarchive.net/nbia-api/services/v2/getImage?NewFileNames=Yes&SeriesInstanceUID=2.4.624.0.0.6485331.4.980.2574685170543898234\n2025-05-07 21:18:25,219:INFO:Downloading... https://services.cancerimagingarchive.net/nbia-api/services/v2/getImage?NewFileNames=Yes&SeriesInstanceUID=3.2.912.1.1.8105157.5.203.8606679538060432706\n2025-05-07 21:18:29,457:INFO:Downloading... https://services.cancerimagingarchive.net/nbia-api/services/v2/getImage?NewFileNames=Yes&SeriesInstanceUID=1.1.252.0.3.0425260.5.745.3908721639974131352\n2025-05-07 21:18:34,497:INFO:Downloading... https://services.cancerimagingarchive.net/nbia-api/services/v2/getImage?NewFileNames=Yes&SeriesInstanceUID=2.2.623.1.3.6189093.3.568.1699409520505468204\n2025-05-07 21:18:35,450:INFO:Downloading... https://services.cancerimagingarchive.net/nbia-api/services/v2/getImage?NewFileNames=Yes&SeriesInstanceUID=1.5.165.1.1.9328667.2.214.1631445029509109976\n2025-05-07 21:18:40,261:INFO:Downloading... https://services.cancerimagingarchive.net/nbia-api/services/v2/getImage?NewFileNames=Yes&SeriesInstanceUID=1.4.873.0.3.5080754.7.663.2083524497902192107\n2025-05-07 21:18:41,319:INFO:Downloading... https://services.cancerimagingarchive.net/nbia-api/services/v2/getImage?NewFileNames=Yes&SeriesInstanceUID=1.2.624.1.0.0674196.2.492.2506107775560139223\n2025-05-07 21:18:42,327:INFO:Downloading... https://services.cancerimagingarchive.net/nbia-api/services/v2/getImage?NewFileNames=Yes&SeriesInstanceUID=2.1.667.1.0.4442605.5.072.2578283230115037845\n2025-05-07 21:18:47,166:INFO:Downloading... https://services.cancerimagingarchive.net/nbia-api/services/v2/getImage?NewFileNames=Yes&SeriesInstanceUID=1.1.822.0.2.1158253.6.888.2601213696435379909\n2025-05-07 21:18:49,193:INFO:Downloading... https://services.cancerimagingarchive.net/nbia-api/services/v2/getImage?NewFileNames=Yes&SeriesInstanceUID=3.2.378.1.1.2748657.9.727.6235019597460996120\n2025-05-07 21:19:01,471:INFO:Downloading... https://services.cancerimagingarchive.net/nbia-api/services/v2/getImage?NewFileNames=Yes&SeriesInstanceUID=2.5.793.0.0.5759440.5.735.1130839304879064089\n2025-05-07 21:19:04,920:INFO:Downloading... https://services.cancerimagingarchive.net/nbia-api/services/v2/getImage?NewFileNames=Yes&SeriesInstanceUID=3.5.676.0.3.2759022.2.577.3930814632414593745\n2025-05-07 21:19:06,309:INFO:Downloading... https://services.cancerimagingarchive.net/nbia-api/services/v2/getImage?NewFileNames=Yes&SeriesInstanceUID=3.4.528.0.2.1421735.2.484.1735603469498346596\n2025-05-07 21:19:07,970:INFO:Downloading... https://services.cancerimagingarchive.net/nbia-api/services/v2/getImage?NewFileNames=Yes&SeriesInstanceUID=1.2.153.0.0.6931445.8.984.2733460162079201385\n2025-05-07 21:19:08,941:INFO:Downloading... https://services.cancerimagingarchive.net/nbia-api/services/v2/getImage?NewFileNames=Yes&SeriesInstanceUID=3.5.686.0.2.5623304.3.188.2730417341482247206\n2025-05-07 21:19:16,742:INFO:Downloading... https://services.cancerimagingarchive.net/nbia-api/services/v2/getImage?NewFileNames=Yes&SeriesInstanceUID=3.5.846.0.3.2183611.1.711.1753719923168723392\n2025-05-07 21:19:22,282:INFO:Downloading... https://services.cancerimagingarchive.net/nbia-api/services/v2/getImage?NewFileNames=Yes&SeriesInstanceUID=2.5.433.1.2.0414878.7.202.1095078230333760855\n2025-05-07 21:19:29,049:INFO:Downloading... https://services.cancerimagingarchive.net/nbia-api/services/v2/getImage?NewFileNames=Yes&SeriesInstanceUID=1.2.216.1.3.9716867.9.155.2659204473054638257\n2025-05-07 21:19:32,121:INFO:Downloading... https://services.cancerimagingarchive.net/nbia-api/services/v2/getImage?NewFileNames=Yes&SeriesInstanceUID=2.5.201.1.0.9867064.3.709.1630782234554554729\n2025-05-07 21:19:33,088:INFO:Downloading... https://services.cancerimagingarchive.net/nbia-api/services/v2/getImage?NewFileNames=Yes&SeriesInstanceUID=2.1.624.1.1.1227660.2.477.1537591757805922104\n2025-05-07 21:19:37,309:INFO:Downloading... https://services.cancerimagingarchive.net/nbia-api/services/v2/getImage?NewFileNames=Yes&SeriesInstanceUID=3.5.732.0.0.6672518.9.059.5135574929421269681\n2025-05-07 21:19:38,850:INFO:Downloading... https://services.cancerimagingarchive.net/nbia-api/services/v2/getImage?NewFileNames=Yes&SeriesInstanceUID=2.2.623.1.3.6189093.3.568.1763379927177860983\n2025-05-07 21:19:39,746:INFO:Downloading... https://services.cancerimagingarchive.net/nbia-api/services/v2/getImage?NewFileNames=Yes&SeriesInstanceUID=1.5.981.1.1.8629452.4.211.2597889252719722266\n2025-05-07 21:19:44,708:INFO:Downloaded 225 out of 428 Series Instance UIDs (scans).\n0 failed to download.\n203 previously downloaded.\n2025-05-07 21:19:44,929:INFO:Series metadata saved as MIDI-B-Synthetic-Test.csv\n"
     ]
    },
    {
     "output_type": "stream",
     "name": "stdout",
     "output_type": "stream",
     "text": [
      "done\n"
     ]
    }
   ],
   "source": [
    "for collection_name in collection_names:\n",
    "    series = nbia.getSeries(collection=collection_name)\n",
    "    try:\n",
    "        nbia.downloadSeries(series, as_zip=True, csv_filename=f\"{collection_name}\")\n",
    "    except Exception as e:\n",
    "        print(f\"{collection_name}: {e}\")\n",
    "print('done')"
   ]
  },
  {
   "cell_type": "markdown",
   "metadata": {
    "application/vnd.databricks.v1+cell": {
     "cellMetadata": {
      "byteLimit": 2048000,
      "rowLimit": 10000
     },
     "inputWidgets": {},
     "nuid": "3011030e-830f-4c70-83da-d6d88ebf0f95",
     "showTitle": false,
     "tableResultSettingsMap": {},
     "title": ""
    }
   },
   "source": [
    "## See the verifyer notebook"
   ]
  }
 ],
 "metadata": {
  "application/vnd.databricks.v1+notebook": {
   "computePreferences": null,
   "dashboards": [],
   "environmentMetadata": {
    "base_environment": "",
    "environment_version": "2"
   },
   "inputWidgetPreferences": null,
   "language": "python",
   "notebookMetadata": {
    "mostRecentlyExecutedCommandWithImplicitDF": {
     "commandId": 2860937170873772,
     "dataframes": [
      "_sqldf"
     ]
    },
    "pythonIndentUnit": 4
   },
   "notebookName": "TCIA Cancer Image Net downloader Notebook",
   "widgets": {}
  },
  "language_info": {
   "name": "python"
  }
 },
 "nbformat": 4,
 "nbformat_minor": 0
}
