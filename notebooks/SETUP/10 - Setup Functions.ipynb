{
 "cells": [
  {
   "cell_type": "code",
   "execution_count": 0,
   "metadata": {
    "application/vnd.databricks.v1+cell": {
     "cellMetadata": {
      "byteLimit": 2048000,
      "rowLimit": 10000
     },
     "inputWidgets": {},
     "nuid": "50649020-157f-4605-99a0-94d0f8c3f674",
     "showTitle": false,
     "tableResultSettingsMap": {},
     "title": ""
    }
   },
   "outputs": [],
   "source": [
    "use catalog IDENTIFIER(:catalog);\n",
    "use schema IDENTIFIER(:schema);"
   ]
  },
  {
   "cell_type": "code",
   "execution_count": 0,
   "metadata": {
    "application/vnd.databricks.v1+cell": {
     "cellMetadata": {
      "byteLimit": 2048000,
      "rowLimit": 10000
     },
     "inputWidgets": {},
     "nuid": "4abb99b9-2bed-4f77-a51d-c97d2fb2c3da",
     "showTitle": false,
     "tableResultSettingsMap": {},
     "title": ""
    }
   },
   "outputs": [],
   "source": [
    "CREATE OR REPLACE FUNCTION generate_viewer_url(modality STRING, viewer_host STRING, StudyInstanceUID STRING) RETURNS STRING\n",
    "RETURN\n",
    "CASE \n",
    "    WHEN modality = 'CT' THEN concat('<a target=\"_blank\" rel=\"noopener noreferrer\" href=\"',viewer_host,'/ohif/monai-label?StudyInstanceUIDs=',StudyInstanceUID,'\">view</a>')\n",
    "    ELSE concat('<a target=\"_blank\" rel=\"noopener noreferrer\" href=\"',viewer_host,'/ohif/viewer?StudyInstanceUIDs=',StudyInstanceUID,'\">view</a>') \n",
    "END;"
   ]
  },
  {
   "cell_type": "code",
   "execution_count": 0,
   "metadata": {
    "application/vnd.databricks.v1+cell": {
     "cellMetadata": {
      "byteLimit": 2048000,
      "rowLimit": 10000
     },
     "inputWidgets": {},
     "nuid": "1fca791e-b74e-4e4f-b8c5-2d053442f2f6",
     "showTitle": false,
     "tableResultSettingsMap": {},
     "title": ""
    }
   },
   "outputs": [],
   "source": [
    "select \n",
    "  generate_viewer_url(\n",
    "    meta:['00080060'].Value[0],\n",
    "    'https://e2-demo-field-eng.cloud.databricks.com',\n",
    "    meta:['0020000D'].Value[0]\n",
    "  ) as viewer_url\n",
    "from hls_radiology.tcia.object_catalog;"
   ]
  },
  {
   "cell_type": "code",
   "execution_count": 0,
   "metadata": {
    "application/vnd.databricks.v1+cell": {
     "cellMetadata": {
      "byteLimit": 2048000,
      "rowLimit": 10000
     },
     "inputWidgets": {},
     "nuid": "d058cd19-f543-4ada-af53-0d2aa12d5874",
     "showTitle": false,
     "tableResultSettingsMap": {},
     "title": ""
    }
   },
   "outputs": [],
   "source": [
    "%python\n",
    "-- cohort builder for Pixels Dashboard\n",
    "view_sql = \"\"\"\n",
    "CREATE OR REPLACE VIEW cohort_builder_pixels AS\n",
    "  with base (\n",
    "\n",
    "  select\n",
    "    meta:['00100010'].Value[0].Alphabetic as PatientName,\n",
    "    meta:['00100020'].Value[0] PatientID,\n",
    "    to_date(meta:['00100030'].Value[0],\"yyyyMMdd\") as PatientBirthDate,\n",
    "    cast(left(meta:['00101010'].Value[0],3) as int) as PatientAge,\n",
    "    meta:['00100040'].Value[0] PatientSex,\n",
    "    to_date(meta:['00080020'].Value[0],\"yyyyMMdd\") as StudyDate,\n",
    "    meta:['00080030'].Value[0] StudyTime,\n",
    "    meta:['00080050'].Value[0] AccessionNumber,\n",
    "    meta:['00080060'].Value[0] Modality,\n",
    "    meta:['00080008'].Value[0] ImageType,\n",
    "    meta:['00081030'].Value[0] StudyDescription,\n",
    "    meta:['0008103E'].Value[0] SeriesDescription,\n",
    "    meta:['0020000D'].Value[0] StudyInstanceUID,\n",
    "    meta:['0020000E'].Value[0] SeriesInstanceUID,\n",
    "    meta:['00200010'].Value[0] StudyID,\n",
    "    meta:['00200011'].Value[0] SeriesNumber,\n",
    "    meta:['00200013'].Value[0] InstanceNumber,\n",
    "    meta:['00180015'].Value[0] BodyPartExamined,\n",
    "    meta:['00181030'].Value[0] ProtocolName,\n",
    "    meta:['00080070'].Value[0] Manufacturer,\n",
    "    meta:['00080080'].Value[0] InstitutionName,\n",
    "    meta:['00080081'].Value[0] InstitutionAddress,\n",
    "    meta:['0018700A'].Value[0] DetectorManufacturerName,\n",
    "    meta:['0018700B'].Value[0] DetectorManufacturersModelName,\n",
    "    meta:['00189024'].Value[0] MRTransmitCoilManufacturerName,\n",
    "    meta:['00189025'].Value[0] ReceiveCoilManufacturerName,\n",
    "    meta:['00120063'].Value[0] DeidentificationMethod,\n",
    "    meta:['0008001C'].Value[0] SyntheticData,\n",
    "    meta:['00120064'].Value[0] CodingSchemeVersion,\n",
    "    meta:['00282110'].Value[0] LossyImageCompression,\n",
    "    meta:['00131010'].Value[0] Creator,\n",
    "    meta:['pixel_hash'] pixel_hash,\n",
    "    meta:['hash'] hash,\n",
    "    path,\n",
    "    length,\n",
    "    modificationTime,\n",
    "    meta\n",
    "  from identifier(:table)\n",
    "  )\n",
    "  -- CASE expr {WHEN opt1 THEN res1} [...] [ELSE def] END\n",
    "  -- CASE {WHEN cond1 THEN res1} [...] [ELSE def] END\n",
    "  SELECT \n",
    "      hls_radiology.common.generate_viewer_url(\n",
    "        modality,\n",
    "        :viewer_host,\n",
    "        SeriesInstanceUID\n",
    "      ) as url\n",
    "      ,*\n",
    "  FROM base\n",
    "\"\"\"\n",
    "spark.sql(view_sql, {\"table\": f\"{table}\")"
   ]
  },
  {
   "cell_type": "code",
   "execution_count": 0,
   "metadata": {
    "application/vnd.databricks.v1+cell": {
     "cellMetadata": {},
     "inputWidgets": {},
     "nuid": "190a025c-03a4-4527-bf7b-60db9c8a16a9",
     "showTitle": false,
     "tableResultSettingsMap": {},
     "title": ""
    }
   },
   "outputs": [],
   "source": []
  }
 ],
 "metadata": {
  "application/vnd.databricks.v1+notebook": {
   "computePreferences": null,
   "dashboards": [],
   "environmentMetadata": {
    "base_environment": "",
    "environment_version": "2"
   },
   "inputWidgetPreferences": null,
   "language": "sql",
   "notebookMetadata": {
    "pythonIndentUnit": 4
   },
   "notebookName": "10 - Setup Functions",
   "widgets": {
    "catalog": {
     "currentValue": "hls_radiology",
     "nuid": "a4bbfefe-c0a0-4962-aa76-c73ed03c961a",
     "typedWidgetInfo": {
      "autoCreated": true,
      "defaultValue": "",
      "label": null,
      "name": "catalog",
      "options": {
       "widgetDisplayType": "Text",
       "validationRegex": null
      },
      "parameterDataType": "String"
     },
     "widgetInfo": {
      "widgetType": "text",
      "defaultValue": "",
      "label": null,
      "name": "catalog",
      "options": {
       "widgetType": "text",
       "autoCreated": true,
       "validationRegex": null
      }
     }
    },
    "row_limit": {
     "currentValue": "1000",
     "nuid": "a21d86bc-cf72-48af-a9c9-f33b81b5c7a8",
     "typedWidgetInfo": {
      "autoCreated": false,
      "defaultValue": "",
      "label": "",
      "name": "row_limit",
      "options": {
       "widgetDisplayType": "Text",
       "validationRegex": null
      },
      "parameterDataType": "String"
     },
     "widgetInfo": {
      "widgetType": "text",
      "defaultValue": "",
      "label": "",
      "name": "row_limit",
      "options": {
       "widgetType": "text",
       "autoCreated": false,
       "validationRegex": null
      }
     }
    },
    "schema": {
     "currentValue": "common",
     "nuid": "2181de52-4625-42a8-8ffc-50e8ef9ac925",
     "typedWidgetInfo": {
      "autoCreated": true,
      "defaultValue": "",
      "label": null,
      "name": "schema",
      "options": {
       "widgetDisplayType": "Text",
       "validationRegex": null
      },
      "parameterDataType": "String"
     },
     "widgetInfo": {
      "widgetType": "text",
      "defaultValue": "",
      "label": null,
      "name": "schema",
      "options": {
       "widgetType": "text",
       "autoCreated": true,
       "validationRegex": null
      }
     }
    }
   }
  },
  "language_info": {
   "name": "sql"
  }
 },
 "nbformat": 4,
 "nbformat_minor": 0
}
