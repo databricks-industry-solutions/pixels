{
 "cells": [
  {
   "cell_type": "markdown",
   "metadata": {
    "application/vnd.databricks.v1+cell": {
     "cellMetadata": {
      "byteLimit": 2048000,
      "rowLimit": 10000
     },
     "inputWidgets": {},
     "nuid": "19f0f30a-a4d1-497a-98e8-d731e7363c4b",
     "showTitle": false,
     "tableResultSettingsMap": {},
     "title": ""
    }
   },
   "source": [
    "# Index compressed images\n",
    "After image compression, put the images back into the index\n",
    "\n",
    "## Requires\n",
    "Currently requires more than 1024 MB worker memory especially with large DICOM files.\n",
    "- Recommend a classic UC enabled cluster"
   ]
  },
  {
   "cell_type": "code",
   "execution_count": 0,
   "metadata": {
    "application/vnd.databricks.v1+cell": {
     "cellMetadata": {
      "byteLimit": 2048000,
      "rowLimit": 10000
     },
     "inputWidgets": {},
     "nuid": "3c24a657-a273-4a2b-b7ed-789d626503d5",
     "showTitle": false,
     "tableResultSettingsMap": {},
     "title": ""
    }
   },
   "outputs": [],
   "source": [
    "%pip install --quiet numpy==1.26.4 pydicom==3.0.1 pylibjpeg>=2.0 pylibjpeg-openjpeg>=2.0"
   ]
  },
  {
   "cell_type": "code",
   "execution_count": 0,
   "metadata": {
    "application/vnd.databricks.v1+cell": {
     "cellMetadata": {
      "byteLimit": 2048000,
      "rowLimit": 10000
     },
     "inputWidgets": {},
     "nuid": "fec08f1e-0d9e-4028-b73d-0d570f85c975",
     "showTitle": false,
     "tableResultSettingsMap": {},
     "title": ""
    }
   },
   "outputs": [],
   "source": [
    "dbutils.library.restartPython()"
   ]
  },
  {
   "cell_type": "markdown",
   "metadata": {
    "application/vnd.databricks.v1+cell": {
     "cellMetadata": {
      "byteLimit": 2048000,
      "rowLimit": 10000
     },
     "inputWidgets": {},
     "nuid": "089b46b3-09a2-4b55-ad52-0a160317137b",
     "showTitle": false,
     "tableResultSettingsMap": {},
     "title": ""
    }
   },
   "source": [
    "### Config\n",
    "This will create and save to a local config.yaml file"
   ]
  },
  {
   "cell_type": "code",
   "execution_count": 0,
   "metadata": {
    "application/vnd.databricks.v1+cell": {
     "cellMetadata": {
      "byteLimit": 2048000,
      "rowLimit": 10000
     },
     "inputWidgets": {},
     "nuid": "152f9c0c-0164-494e-8045-3976b568fb27",
     "showTitle": false,
     "tableResultSettingsMap": {},
     "title": ""
    }
   },
   "outputs": [],
   "source": [
    "import yaml\n",
    "cfg = yaml.safe_load(open(\"config.yaml\", \"r\"))\n",
    "\n",
    "# Output path for the compressed DICOM file\n",
    "dbutils.widgets.text(\"output_path\", cfg.get(\"output_path\"))\n",
    "output_path = dbutils.widgets.get(\"output_path\")\n",
    "\n",
    "dbutils.widgets.text(\"table\", cfg.get(\"table\"))\n",
    "table = dbutils.widgets.get(\"table\")\n",
    "\n",
    "yaml.safe_dump({\"output_path\": output_path, \"table\": table}, open(\"config.yaml\", \"w\"))"
   ]
  },
  {
   "cell_type": "code",
   "execution_count": 0,
   "metadata": {
    "application/vnd.databricks.v1+cell": {
     "cellMetadata": {
      "byteLimit": 2048000,
      "rowLimit": 10000
     },
     "inputWidgets": {},
     "nuid": "7bc089eb-35bc-476a-975b-ebf2f51e378f",
     "showTitle": false,
     "tableResultSettingsMap": {},
     "title": ""
    }
   },
   "outputs": [],
   "source": [
    "from dbx.pixels import Catalog\n",
    "from dbx.pixels.dicom import DicomMetaExtractor # The Dicom transformers\n",
    "\n",
    "catalog = Catalog(spark, table=table)\n",
    "catalog_df = catalog.catalog(path=output_path)\n",
    "meta_df = DicomMetaExtractor(catalog=catalog).transform(catalog_df)"
   ]
  },
  {
   "cell_type": "code",
   "execution_count": 0,
   "metadata": {
    "application/vnd.databricks.v1+cell": {
     "cellMetadata": {
      "byteLimit": 2048000,
      "rowLimit": 10000
     },
     "inputWidgets": {},
     "nuid": "40c63b5c-24d6-4cc7-afc9-72a3373a5c3c",
     "showTitle": false,
     "tableResultSettingsMap": {},
     "title": ""
    }
   },
   "outputs": [],
   "source": [
    "meta_df.write.mode('overwrite').saveAsTable(table)"
   ]
  },
  {
   "cell_type": "code",
   "execution_count": 0,
   "metadata": {
    "application/vnd.databricks.v1+cell": {
     "cellMetadata": {
      "byteLimit": 2048000,
      "implicitDf": true,
      "rowLimit": 10000
     },
     "inputWidgets": {},
     "nuid": "f3fbc6fa-6a3a-48af-a74f-d6b51eb829a8",
     "showTitle": false,
     "tableResultSettingsMap": {},
     "title": ""
    }
   },
   "outputs": [],
   "source": [
    "%sql select * from IDENTIFIER(:table)"
   ]
  },
  {
   "cell_type": "code",
   "execution_count": 0,
   "metadata": {
    "application/vnd.databricks.v1+cell": {
     "cellMetadata": {
      "byteLimit": 2048000,
      "rowLimit": 10000
     },
     "inputWidgets": {},
     "nuid": "01cfbee9-2928-4fad-acb4-2f5545eb7b77",
     "showTitle": false,
     "tableResultSettingsMap": {},
     "title": ""
    }
   },
   "outputs": [],
   "source": []
  }
 ],
 "metadata": {
  "application/vnd.databricks.v1+notebook": {
   "computePreferences": null,
   "dashboards": [],
   "environmentMetadata": {
    "base_environment": "",
    "environment_version": "3"
   },
   "inputWidgetPreferences": null,
   "language": "python",
   "notebookMetadata": {
    "mostRecentlyExecutedCommandWithImplicitDF": {
     "commandId": 5448090906034939,
     "dataframes": [
      "_sqldf"
     ]
    },
    "pythonIndentUnit": 4,
    "widgetLayout": [
     {
      "breakBefore": false,
      "name": "output_path",
      "width": 531
     },
     {
      "breakBefore": false,
      "name": "table",
      "width": 276
     }
    ]
   },
   "notebookName": "jpeg2000 - index",
   "widgets": {
    "output_path": {
     "currentValue": "/Volumes/hls_radiology/demo/random/20250227134948_CT_ISRA_0_HTJ2K.dcm",
     "nuid": "2497268c-c28c-411d-a8c2-35a7227ea0ff",
     "typedWidgetInfo": {
      "autoCreated": false,
      "defaultValue": "/Volumes/hls_radiology/demo/random/20250227134948_CT_ISRA_0_HTJ2K.dcm",
      "label": null,
      "name": "output_path",
      "options": {
       "widgetDisplayType": "Text",
       "validationRegex": null
      },
      "parameterDataType": "String"
     },
     "widgetInfo": {
      "widgetType": "text",
      "defaultValue": "/Volumes/hls_radiology/demo/random/20250227134948_CT_ISRA_0_HTJ2K.dcm",
      "label": null,
      "name": "output_path",
      "options": {
       "widgetType": "text",
       "autoCreated": null,
       "validationRegex": null
      }
     }
    },
    "table": {
     "currentValue": "hls_radiology.demo.object_catalog",
     "nuid": "3ebd0bb4-73eb-4da3-a0e4-cb0e8c60e347",
     "typedWidgetInfo": {
      "autoCreated": false,
      "defaultValue": "hls_radiology.demo.object_catalog",
      "label": null,
      "name": "table",
      "options": {
       "widgetDisplayType": "Text",
       "validationRegex": null
      },
      "parameterDataType": "String"
     },
     "widgetInfo": {
      "widgetType": "text",
      "defaultValue": "hls_radiology.demo.object_catalog",
      "label": null,
      "name": "table",
      "options": {
       "widgetType": "text",
       "autoCreated": null,
       "validationRegex": null
      }
     }
    }
   }
  },
  "language_info": {
   "name": "python"
  }
 },
 "nbformat": 4,
 "nbformat_minor": 0
}
