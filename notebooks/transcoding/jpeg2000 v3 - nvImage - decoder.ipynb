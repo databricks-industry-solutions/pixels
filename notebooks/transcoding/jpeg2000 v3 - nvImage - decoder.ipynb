{
 "cells": [
  {
   "cell_type": "markdown",
   "metadata": {
    "application/vnd.databricks.v1+cell": {
     "cellMetadata": {
      "byteLimit": 2048000,
      "rowLimit": 10000
     },
     "inputWidgets": {},
     "nuid": "834a0734-5665-4926-abe3-2ed3f3189f96",
     "showTitle": false,
     "tableResultSettingsMap": {},
     "title": ""
    }
   },
   "source": [
    "## Compress DICOMs using JPEG 2000 Lossless compression\n",
    "- take a large 1.9GB DICOM multi-frame image and compress it\n",
    "- HTJ2K lossless compression"
   ]
  },
  {
   "cell_type": "markdown",
   "metadata": {
    "application/vnd.databricks.v1+cell": {
     "cellMetadata": {
      "byteLimit": 2048000,
      "rowLimit": 10000
     },
     "inputWidgets": {},
     "nuid": "160efd0c-fc43-4d26-a1c9-3c9db2d5c2da",
     "showTitle": false,
     "tableResultSettingsMap": {},
     "title": ""
    }
   },
   "source": [
    "### Requirements\n",
    "- Transcoding: `nvidia-nvimgcodec-cu12[all] pydicom==3.0.1 cupy-cuda12x>=13.5.0`\n",
    "- Indexing: `pylibjpeg>=2.0 pylibjpeg-openjpeg>=2.0`"
   ]
  },
  {
   "cell_type": "code",
   "execution_count": 0,
   "metadata": {
    "application/vnd.databricks.v1+cell": {
     "cellMetadata": {
      "byteLimit": 2048000,
      "rowLimit": 10000
     },
     "inputWidgets": {},
     "nuid": "9a372dcb-317e-4bb4-9dcd-786a44d9d8b7",
     "showTitle": false,
     "tableResultSettingsMap": {},
     "title": ""
    }
   },
   "outputs": [],
   "source": [
    "%pip install --quiet numpy==1.26.4 nvidia-nvimgcodec-cu12[all] pydicom==3.0.1 cupy-cuda12x>=13.5.0 pylibjpeg[all]\n",
    "%pip install mlflow[skinny]"
   ]
  },
  {
   "cell_type": "code",
   "execution_count": 0,
   "metadata": {
    "application/vnd.databricks.v1+cell": {
     "cellMetadata": {
      "byteLimit": 2048000,
      "rowLimit": 10000
     },
     "inputWidgets": {},
     "nuid": "72d3db77-1571-42b3-bb80-b1ea591848bb",
     "showTitle": false,
     "tableResultSettingsMap": {},
     "title": ""
    }
   },
   "outputs": [],
   "source": [
    "dbutils.library.restartPython()"
   ]
  },
  {
   "cell_type": "code",
   "execution_count": 0,
   "metadata": {
    "application/vnd.databricks.v1+cell": {
     "cellMetadata": {
      "byteLimit": 2048000,
      "rowLimit": 10000
     },
     "inputWidgets": {},
     "nuid": "f2ee8b5d-99d3-4072-b2be-151802a864e9",
     "showTitle": false,
     "tableResultSettingsMap": {},
     "title": ""
    }
   },
   "outputs": [],
   "source": [
    "import yaml\n",
    "import pprint\n",
    "compression = \"nvImage_HTJ2K\"\n",
    "cfg = yaml.safe_load(open(\"config.yaml\", \"r\"))\n",
    "input_path = cfg.get(\"input_path\")\n",
    "output_path = cfg.get(\"output_path\").replace(\"{compression}\", f\"{compression}\")\n",
    "table = cfg.get(\"table\")\n",
    "\n",
    "pprint.pprint(cfg, indent=4)\n",
    "print(output_path)"
   ]
  },
  {
   "cell_type": "code",
   "execution_count": 0,
   "metadata": {
    "application/vnd.databricks.v1+cell": {
     "cellMetadata": {
      "byteLimit": 2048000,
      "rowLimit": 10000
     },
     "inputWidgets": {},
     "nuid": "19379f41-a0d1-4b09-84ae-c3bf8b7d9828",
     "showTitle": false,
     "tableResultSettingsMap": {},
     "title": ""
    }
   },
   "outputs": [],
   "source": [
    "import pydicom\n",
    "import numpy as np\n",
    "import cupy as cp\n",
    "from nvidia import nvimgcodec\n",
    "from pydicom.encaps import encapsulate\n",
    "from pydicom.uid import JPEG2000Lossless  # or JPEG2000 for lossy\n",
    "import time\n",
    "import torch\n",
    "print(f\"Has GPU: {torch.cuda.is_available()}\")\n",
    "print(f\"#GPUs: {torch.cuda.device_count()}\")\n",
    "import os\n",
    "#os.environ[\"PYLIBJPEG_OPENJPEG\"] = \"1\""
   ]
  },
  {
   "cell_type": "markdown",
   "metadata": {
    "application/vnd.databricks.v1+cell": {
     "cellMetadata": {
      "byteLimit": 2048000,
      "rowLimit": 10000
     },
     "inputWidgets": {},
     "nuid": "287b44a8-69c4-4d55-8e58-1d211dd99c24",
     "showTitle": false,
     "tableResultSettingsMap": {},
     "title": ""
    }
   },
   "source": [
    "## Decode\n"
   ]
  },
  {
   "cell_type": "code",
   "execution_count": 0,
   "metadata": {
    "application/vnd.databricks.v1+cell": {
     "cellMetadata": {
      "byteLimit": 2048000,
      "rowLimit": 10000
     },
     "inputWidgets": {},
     "nuid": "8db8a41b-5573-4285-bf98-581252a45ddd",
     "showTitle": false,
     "tableResultSettingsMap": {},
     "title": ""
    }
   },
   "outputs": [],
   "source": [
    "# test decode\n",
    "import pydicom\n",
    "import pylibjpeg\n",
    "ds = pydicom.dcmread(output_path)\n",
    "pixel_array = ds.pixel_array\n",
    "shape = pixel_array.shape\n",
    "is_compressed = ds.file_meta.TransferSyntaxUID.is_compressed\n",
    "shape, is_compressed"
   ]
  },
  {
   "cell_type": "code",
   "execution_count": 0,
   "metadata": {
    "application/vnd.databricks.v1+cell": {
     "cellMetadata": {
      "byteLimit": 2048000,
      "rowLimit": 10000
     },
     "inputWidgets": {},
     "nuid": "b20d14b4-befe-420c-b42d-0583f45887ec",
     "showTitle": false,
     "tableResultSettingsMap": {},
     "title": ""
    }
   },
   "outputs": [],
   "source": [
    "pixel_array.shape, ds.pixel_array_options"
   ]
  },
  {
   "cell_type": "code",
   "execution_count": 0,
   "metadata": {
    "application/vnd.databricks.v1+cell": {
     "cellMetadata": {
      "byteLimit": 2048000,
      "rowLimit": 10000
     },
     "inputWidgets": {},
     "nuid": "f8e0b26e-1068-4303-b68b-2422bed652ae",
     "showTitle": false,
     "tableResultSettingsMap": {},
     "title": ""
    }
   },
   "outputs": [],
   "source": [
    "from pydicom.dataset import validate_file_meta\n",
    "\n",
    "# Validate file meta information\n",
    "try:\n",
    "    validate_file_meta(ds.file_meta, enforce_standard=True)\n",
    "    print(\"File meta information is valid\")\n",
    "except Exception as e:\n",
    "    print(f\"File meta validation error: {e}\")"
   ]
  },
  {
   "cell_type": "code",
   "execution_count": 0,
   "metadata": {
    "application/vnd.databricks.v1+cell": {
     "cellMetadata": {
      "byteLimit": 2048000,
      "rowLimit": 10000
     },
     "inputWidgets": {},
     "nuid": "26670dae-e3d5-4a68-85e0-82d25bb5b1aa",
     "showTitle": false,
     "tableResultSettingsMap": {},
     "title": ""
    }
   },
   "outputs": [],
   "source": []
  }
 ],
 "metadata": {
  "application/vnd.databricks.v1+notebook": {
   "computePreferences": {
    "hardware": {
     "accelerator": null,
     "gpuPoolId": null,
     "memory": null
    }
   },
   "dashboards": [],
   "environmentMetadata": {
    "base_environment": "",
    "environment_version": "3"
   },
   "inputWidgetPreferences": null,
   "language": "python",
   "notebookMetadata": {
    "mostRecentlyExecutedCommandWithImplicitDF": {
     "commandId": 5448090906021465,
     "dataframes": [
      "_sqldf"
     ]
    },
    "pythonIndentUnit": 4,
    "widgetLayout": [
     {
      "breakBefore": false,
      "name": "input_path",
      "width": 345
     },
     {
      "breakBefore": false,
      "name": "output_path",
      "width": 448
     },
     {
      "breakBefore": false,
      "name": "table",
      "width": 294
     }
    ]
   },
   "notebookName": "jpeg2000 v3 - nvImage - decoder",
   "widgets": {}
  },
  "language_info": {
   "name": "python"
  }
 },
 "nbformat": 4,
 "nbformat_minor": 0
}
