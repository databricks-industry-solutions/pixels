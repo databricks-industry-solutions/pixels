{
 "cells": [
  {
   "cell_type": "markdown",
   "metadata": {
    "application/vnd.databricks.v1+cell": {
     "cellMetadata": {},
     "inputWidgets": {},
     "nuid": "834a0734-5665-4926-abe3-2ed3f3189f96",
     "showTitle": false,
     "tableResultSettingsMap": {},
     "title": ""
    }
   },
   "source": [
    "## Compress DICOMs using JPEG 2000 Lossless compression\n",
    "- take a large 1.9GB DICOM multi-frame image and compress it"
   ]
  },
  {
   "cell_type": "code",
   "execution_count": 0,
   "metadata": {
    "application/vnd.databricks.v1+cell": {
     "cellMetadata": {
      "byteLimit": 2048000,
      "rowLimit": 10000
     },
     "inputWidgets": {},
     "nuid": "9a372dcb-317e-4bb4-9dcd-786a44d9d8b7",
     "showTitle": false,
     "tableResultSettingsMap": {},
     "title": ""
    }
   },
   "outputs": [],
   "source": [
    "%pip install --quiet numpy==1.26.4 pydicom==3.0.1 pylibjpeg pylibjpeg-libjpeg pylibjpeg-openjpeg"
   ]
  },
  {
   "cell_type": "code",
   "execution_count": 0,
   "metadata": {
    "application/vnd.databricks.v1+cell": {
     "cellMetadata": {
      "byteLimit": 2048000,
      "rowLimit": 10000
     },
     "inputWidgets": {},
     "nuid": "72d3db77-1571-42b3-bb80-b1ea591848bb",
     "showTitle": false,
     "tableResultSettingsMap": {},
     "title": ""
    }
   },
   "outputs": [],
   "source": [
    "dbutils.library.restartPython()"
   ]
  },
  {
   "cell_type": "code",
   "execution_count": 0,
   "metadata": {
    "application/vnd.databricks.v1+cell": {
     "cellMetadata": {
      "byteLimit": 2048000,
      "rowLimit": 10000
     },
     "inputWidgets": {},
     "nuid": "19379f41-a0d1-4b09-84ae-c3bf8b7d9828",
     "showTitle": false,
     "tableResultSettingsMap": {},
     "title": ""
    }
   },
   "outputs": [],
   "source": [
    "import pydicom\n",
    "from pydicom.uid import JPEG2000Lossless  # Choose according to your needs\n",
    "\n",
    "# Path to your input DICOM file (uncompressed)\n",
    "input_path = \"/Volumes/hls_radiology/demo/random/20250227134948_CT_ISRA_0.dcm\"\n",
    "#input_path = \"/Volumes/hls_radiology/tcia/midi-b-test-midi-b-validation/1.3.6.1.4.1.14519.5.2.1.8700.9920.100978261763502178697642345559/1-01.dcm\"\n",
    "# Output path for the compressed DICOM file\n",
    "output_path = \"/Volumes/douglas_moore/demo/temp/output_jpeg2000.dcm\"\n"
   ]
  },
  {
   "cell_type": "code",
   "execution_count": 0,
   "metadata": {
    "application/vnd.databricks.v1+cell": {
     "cellMetadata": {
      "byteLimit": 2048000,
      "rowLimit": 10000
     },
     "inputWidgets": {},
     "nuid": "e247afe0-1711-4e89-abf6-35d05deaa77c",
     "showTitle": false,
     "tableResultSettingsMap": {},
     "title": ""
    }
   },
   "outputs": [],
   "source": [
    "# Read the DICOM file\n",
    "ds = pydicom.dcmread(input_path, force=False)"
   ]
  },
  {
   "cell_type": "code",
   "execution_count": 0,
   "metadata": {
    "application/vnd.databricks.v1+cell": {
     "cellMetadata": {
      "byteLimit": 2048000,
      "rowLimit": 10000
     },
     "inputWidgets": {},
     "nuid": "0ca15b60-caf2-42bb-b8f2-b48919dd75f2",
     "showTitle": false,
     "tableResultSettingsMap": {},
     "title": ""
    }
   },
   "outputs": [],
   "source": [
    "\n",
    "# Optionally, decompress if already compressed\n",
    "if \"TransferSyntaxUID\" in ds.file_meta and ds.file_meta.TransferSyntaxUID.is_compressed:\n",
    "    ds.decompress()\n"
   ]
  },
  {
   "cell_type": "code",
   "execution_count": 0,
   "metadata": {
    "application/vnd.databricks.v1+cell": {
     "cellMetadata": {
      "byteLimit": 2048000,
      "rowLimit": 10000
     },
     "inputWidgets": {},
     "nuid": "9f53d305-b827-481c-b858-419fd6745e00",
     "showTitle": false,
     "tableResultSettingsMap": {},
     "title": ""
    }
   },
   "outputs": [],
   "source": [
    "# Compress pixel data using JPEG 2000 (choose lossless or lossy)\n",
    "# For **lossless** JPEG 2000:\n",
    "ds.compress(JPEG2000Lossless)"
   ]
  },
  {
   "cell_type": "code",
   "execution_count": 0,
   "metadata": {
    "application/vnd.databricks.v1+cell": {
     "cellMetadata": {
      "byteLimit": 2048000,
      "rowLimit": 10000
     },
     "inputWidgets": {},
     "nuid": "e08b596b-0985-4209-b9e6-b4f94191439e",
     "showTitle": false,
     "tableResultSettingsMap": {},
     "title": ""
    }
   },
   "outputs": [],
   "source": [
    "# Save the new compressed DICOM file\n",
    "ds.save_as(output_path)\n",
    "\n",
    "print(f\"Saved JPEG2000-compressed DICOM to {output_path}\")\n"
   ]
  },
  {
   "cell_type": "code",
   "execution_count": 0,
   "metadata": {
    "application/vnd.databricks.v1+cell": {
     "cellMetadata": {
      "byteLimit": 2048000,
      "rowLimit": 10000
     },
     "inputWidgets": {},
     "nuid": "efee56a5-cd4f-4945-9d37-79a46cbd1a57",
     "showTitle": false,
     "tableResultSettingsMap": {},
     "title": ""
    }
   },
   "outputs": [],
   "source": [
    "%sh ls -laht \\\n",
    "/Volumes/hls_radiology/demo/random/20250227134948_CT_ISRA_0.dcm \\\n",
    "/Volumes/douglas_moore/demo/temp/output_jpeg2000.dcm"
   ]
  },
  {
   "cell_type": "code",
   "execution_count": 0,
   "metadata": {
    "application/vnd.databricks.v1+cell": {
     "cellMetadata": {
      "byteLimit": 2048000,
      "rowLimit": 10000
     },
     "inputWidgets": {},
     "nuid": "7d51470b-4619-4be4-aca0-22273c5edb8d",
     "showTitle": false,
     "tableResultSettingsMap": {},
     "title": ""
    }
   },
   "outputs": [],
   "source": []
  }
 ],
 "metadata": {
  "application/vnd.databricks.v1+notebook": {
   "computePreferences": {
    "hardware": {
     "accelerator": null,
     "gpuPoolId": null,
     "memory": null
    }
   },
   "dashboards": [],
   "environmentMetadata": {
    "base_environment": "",
    "environment_version": "3"
   },
   "inputWidgetPreferences": null,
   "language": "python",
   "notebookMetadata": {
    "mostRecentlyExecutedCommandWithImplicitDF": {
     "commandId": 2805190872848256,
     "dataframes": [
      "_sqldf"
     ]
    },
    "pythonIndentUnit": 4
   },
   "notebookName": "jpeg2000 v2",
   "widgets": {}
  },
  "language_info": {
   "name": "python"
  }
 },
 "nbformat": 4,
 "nbformat_minor": 0
}
