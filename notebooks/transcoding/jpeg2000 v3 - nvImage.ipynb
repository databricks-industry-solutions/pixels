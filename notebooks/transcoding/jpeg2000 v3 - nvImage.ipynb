{
 "cells": [
  {
   "cell_type": "markdown",
   "metadata": {
    "application/vnd.databricks.v1+cell": {
     "cellMetadata": {
      "byteLimit": 2048000,
      "rowLimit": 10000
     },
     "inputWidgets": {},
     "nuid": "834a0734-5665-4926-abe3-2ed3f3189f96",
     "showTitle": false,
     "tableResultSettingsMap": {},
     "title": ""
    }
   },
   "source": [
    "# Compress DICOMs using JPEG 2000 Lossless compression\n",
    "- take a large 1.9GB DICOM multi-frame 3d scan DICOM and compress it\n",
    "- HTJ2K lossless compression\n",
    "- NVImage library"
   ]
  },
  {
   "cell_type": "markdown",
   "metadata": {
    "application/vnd.databricks.v1+cell": {
     "cellMetadata": {
      "byteLimit": 2048000,
      "rowLimit": 10000
     },
     "inputWidgets": {},
     "nuid": "160efd0c-fc43-4d26-a1c9-3c9db2d5c2da",
     "showTitle": false,
     "tableResultSettingsMap": {},
     "title": ""
    }
   },
   "source": [
    "### Requirements\n",
    "- Transcoding: `nvidia-nvimgcodec-cu12[all] pydicom==3.0.1 cupy-cuda12x>=13.5.0 pylibjpeg[all]`\n",
    "- Indexing: `pylibjpeg>=2.0 pylibjpeg-openjpeg>=2.0`\n",
    "\n",
    "Tested on Databricks Accelerated Serverless Compute, A10 GPU; Env 3"
   ]
  },
  {
   "cell_type": "code",
   "execution_count": 0,
   "metadata": {
    "application/vnd.databricks.v1+cell": {
     "cellMetadata": {
      "byteLimit": 2048000,
      "rowLimit": 10000
     },
     "inputWidgets": {},
     "nuid": "9a372dcb-317e-4bb4-9dcd-786a44d9d8b7",
     "showTitle": false,
     "tableResultSettingsMap": {},
     "title": ""
    }
   },
   "outputs": [],
   "source": [
    "%pip install --quiet numpy==1.26.4 nvidia-nvimgcodec-cu12[all] pydicom==3.0.1 cupy-cuda12x>=13.5.0 pylibjpeg[all]\n",
    "%pip install mlflow[skinny]"
   ]
  },
  {
   "cell_type": "code",
   "execution_count": 0,
   "metadata": {
    "application/vnd.databricks.v1+cell": {
     "cellMetadata": {
      "byteLimit": 2048000,
      "rowLimit": 10000
     },
     "inputWidgets": {},
     "nuid": "72d3db77-1571-42b3-bb80-b1ea591848bb",
     "showTitle": false,
     "tableResultSettingsMap": {},
     "title": ""
    }
   },
   "outputs": [],
   "source": [
    "dbutils.library.restartPython()"
   ]
  },
  {
   "cell_type": "code",
   "execution_count": 0,
   "metadata": {
    "application/vnd.databricks.v1+cell": {
     "cellMetadata": {
      "byteLimit": 2048000,
      "rowLimit": 10000
     },
     "inputWidgets": {},
     "nuid": "f2ee8b5d-99d3-4072-b2be-151802a864e9",
     "showTitle": false,
     "tableResultSettingsMap": {},
     "title": ""
    }
   },
   "outputs": [],
   "source": [
    "#\n",
    "# Pull configuration from config.yaml\n",
    "#\n",
    "\n",
    "import yaml\n",
    "import pprint\n",
    "compression = \"nvImage_HTJ2K\"\n",
    "cfg = yaml.safe_load(open(\"config.yaml\", \"r\"))\n",
    "input_path = cfg.get(\"input_path\")\n",
    "output_path = cfg.get(\"output_path\").replace(\"{compression}\", f\"{compression}\")\n",
    "table = cfg.get(\"table\")\n",
    "\n",
    "tempfile = \"/tmp/compressed.dcm\"\n",
    "\n",
    "pprint.pprint(cfg, indent=4)\n",
    "print(output_path)"
   ]
  },
  {
   "cell_type": "code",
   "execution_count": 0,
   "metadata": {
    "application/vnd.databricks.v1+cell": {
     "cellMetadata": {
      "byteLimit": 2048000,
      "rowLimit": 10000
     },
     "inputWidgets": {},
     "nuid": "19379f41-a0d1-4b09-84ae-c3bf8b7d9828",
     "showTitle": false,
     "tableResultSettingsMap": {},
     "title": ""
    }
   },
   "outputs": [],
   "source": [
    "import pydicom\n",
    "import numpy as np\n",
    "import cupy as cp\n",
    "from nvidia import nvimgcodec\n",
    "from pydicom.encaps import encapsulate\n",
    "from pydicom.uid import JPEG2000Lossless  # or JPEG2000 for lossy\n",
    "import time\n",
    "import torch\n",
    "print(f\"Has GPU: {torch.cuda.is_available()}\")\n",
    "print(f\"#GPUs: {torch.cuda.device_count()}\")\n",
    "import os\n",
    "#os.environ[\"PYLIBJPEG_OPENJPEG\"] = \"1\"\n",
    "\n"
   ]
  },
  {
   "cell_type": "markdown",
   "metadata": {
    "application/vnd.databricks.v1+cell": {
     "cellMetadata": {
      "byteLimit": 2048000,
      "rowLimit": 10000
     },
     "inputWidgets": {},
     "nuid": "1ab8181c-9796-4ed3-bdfc-4c878ec4e2f5",
     "showTitle": false,
     "tableResultSettingsMap": {},
     "title": ""
    }
   },
   "source": [
    "## Encode DICOM"
   ]
  },
  {
   "cell_type": "code",
   "execution_count": 0,
   "metadata": {
    "application/vnd.databricks.v1+cell": {
     "cellMetadata": {
      "byteLimit": 2048000,
      "rowLimit": 10000
     },
     "inputWidgets": {},
     "nuid": "a25b2e91-30fe-4c1b-9f97-0f5285c28b33",
     "showTitle": false,
     "tableResultSettingsMap": {},
     "title": ""
    }
   },
   "outputs": [],
   "source": [
    "#\n",
    "# encoder setup\n",
    "# (default works amazingly well)\n",
    "\n",
    "encoded_frames = []\n",
    "encoder = nvimgcodec.Encoder()\n",
    "\n",
    "htj2k_params = nvimgcodec.Jpeg2kEncodeParams(\n",
    "    ht=True,\n",
    "#    num_resolutions=1\n",
    ")\n",
    "\n",
    "enc_params = nvimgcodec.EncodeParams(jpeg2k_encode_params=htj2k_params)\n",
    "\n",
    "\n",
    "print(f\"{enc_params.jpeg2k_params.ht=}\")\n",
    "print(f\"{enc_params.jpeg2k_params.num_resolutions=}\")\n"
   ]
  },
  {
   "cell_type": "code",
   "execution_count": 0,
   "metadata": {
    "application/vnd.databricks.v1+cell": {
     "cellMetadata": {
      "byteLimit": 2048000,
      "rowLimit": 10000
     },
     "inputWidgets": {},
     "nuid": "148f217f-9c8d-424a-b490-e19fd079bf4a",
     "showTitle": false,
     "tableResultSettingsMap": {},
     "title": ""
    }
   },
   "outputs": [],
   "source": [
    "if True or torch.cuda.is_available():\n",
    "    start = time.time()\n",
    "    # Step 1: Load the DICOM\n",
    "    # read DICOM image\n",
    "    ds = pydicom.dcmread(input_path)\n",
    "    print(f\"Starting value {ds.file_meta.TransferSyntaxUID=}\")\n",
    "    ds.pixel_array_options(use_v2_backend=True)\n",
    "    pixel_array = ds.pixel_array  # shape: (frames, rows, cols)\n",
    "\n",
    "\n",
    "    # Step 2: For each frame, move to GPU, encode, and store results\n",
    "    for i in range(pixel_array.shape[0]):\n",
    "        frame = pixel_array[i]  # NumPy CPU array, shape (rows, cols)\n",
    "        frame_cp = cp.asarray(frame[:, :, np.newaxis])  # shape (rows, cols, 1), CuPy GPU array\n",
    "        nv_img = nvimgcodec.as_image(frame_cp.astype(cp.uint16))  # pass CuPy array directly\n",
    "        j2k_bytes = encoder.encode(nv_img, \"jpeg2k\", params=enc_params)\n",
    "        encoded_frames.append(j2k_bytes)\n",
    "\n",
    "    # Step 3: Encapsulate for DICOM\n",
    "    ds.PixelData = encapsulate(encoded_frames)\n",
    "    ds['PixelData'].is_undefined_length = True\n",
    "\n",
    "\n",
    "    # Step 4: Set correct Transfer Syntax UID for HTJ2K (lossless)\n",
    "    ds.file_meta.TransferSyntaxUID = \"1.2.840.10008.1.2.4.201\"\n",
    "\n",
    "    shutil.os.remove(output_path)\n",
    "    ds.save_as(output_path)\n",
    "\n",
    "    duration = time.time() - start\n",
    "    print(f\"Saved to {output_path} \\nduration: {duration:.2f} seconds\")"
   ]
  },
  {
   "cell_type": "code",
   "execution_count": 0,
   "metadata": {
    "application/vnd.databricks.v1+cell": {
     "cellMetadata": {
      "byteLimit": 2048000,
      "rowLimit": 10000
     },
     "inputWidgets": {},
     "nuid": "cfe6587b-f980-415d-a2ca-63b9fbf7ee44",
     "showTitle": false,
     "tableResultSettingsMap": {},
     "title": ""
    }
   },
   "outputs": [],
   "source": [
    "# report stats\n",
    "output_size = os.stat(output_path).st_size\n",
    "input_size = os.stat(input_path).st_size\n",
    "\n",
    "print(f\"{input_path}\")\n",
    "print(f\"{output_path}\")\n",
    "print(f\"Input  size: {input_size:>15,}\")\n",
    "print(f\"Output size: {output_size:>15,}\")\n",
    "print(f\"Reduction:   {round(input_size/output_size,2):>18.2f}x\")\n",
    "print(f\"Savings:     {round(100*(input_size-output_size)/input_size,2):>18.2f}%\")\n",
    "print(f\"Time taken:  {round(duration,2):>18.2f} seconds\")"
   ]
  },
  {
   "cell_type": "markdown",
   "metadata": {
    "application/vnd.databricks.v1+cell": {
     "cellMetadata": {
      "byteLimit": 2048000,
      "rowLimit": 10000
     },
     "inputWidgets": {},
     "nuid": "287b44a8-69c4-4d55-8e58-1d211dd99c24",
     "showTitle": false,
     "tableResultSettingsMap": {},
     "title": ""
    }
   },
   "source": [
    "## Decode\n"
   ]
  },
  {
   "cell_type": "code",
   "execution_count": 0,
   "metadata": {
    "application/vnd.databricks.v1+cell": {
     "cellMetadata": {
      "byteLimit": 2048000,
      "rowLimit": 10000
     },
     "inputWidgets": {},
     "nuid": "8db8a41b-5573-4285-bf98-581252a45ddd",
     "showTitle": false,
     "tableResultSettingsMap": {},
     "title": ""
    }
   },
   "outputs": [],
   "source": [
    "# test decode\n",
    "import pydicom\n",
    "import pylibjpeg\n",
    "ds = pydicom.dcmread(output_path)\n",
    "pixel_array = ds.pixel_array\n",
    "pixel_array.shape"
   ]
  },
  {
   "cell_type": "code",
   "execution_count": 0,
   "metadata": {
    "application/vnd.databricks.v1+cell": {
     "cellMetadata": {
      "byteLimit": 2048000,
      "rowLimit": 10000
     },
     "inputWidgets": {},
     "nuid": "f8e0b26e-1068-4303-b68b-2422bed652ae",
     "showTitle": false,
     "tableResultSettingsMap": {},
     "title": ""
    }
   },
   "outputs": [],
   "source": [
    "from pydicom.dataset import validate_file_meta\n",
    "\n",
    "# Validate file meta information\n",
    "try:\n",
    "    validate_file_meta(ds.file_meta, enforce_standard=True)\n",
    "    print(\"File meta information is valid\")\n",
    "except Exception as e:\n",
    "    print(f\"File meta validation error: {e}\")"
   ]
  },
  {
   "cell_type": "code",
   "execution_count": 0,
   "metadata": {
    "application/vnd.databricks.v1+cell": {
     "cellMetadata": {
      "byteLimit": 2048000,
      "rowLimit": 10000
     },
     "inputWidgets": {},
     "nuid": "a5f9f31a-1b70-4102-9662-6a29933bf0fe",
     "showTitle": false,
     "tableResultSettingsMap": {},
     "title": ""
    }
   },
   "outputs": [],
   "source": []
  }
 ],
 "metadata": {
  "application/vnd.databricks.v1+notebook": {
   "computePreferences": {
    "hardware": {
     "accelerator": null,
     "gpuPoolId": null,
     "memory": null
    }
   },
   "dashboards": [],
   "environmentMetadata": {
    "base_environment": "",
    "environment_version": "3"
   },
   "inputWidgetPreferences": null,
   "language": "python",
   "notebookMetadata": {
    "mostRecentlyExecutedCommandWithImplicitDF": {
     "commandId": 8321753609868104,
     "dataframes": [
      "_sqldf"
     ]
    },
    "pythonIndentUnit": 4,
    "widgetLayout": [
     {
      "breakBefore": false,
      "name": "input_path",
      "width": 345
     },
     {
      "breakBefore": false,
      "name": "output_path",
      "width": 448
     },
     {
      "breakBefore": false,
      "name": "table",
      "width": 294
     }
    ]
   },
   "notebookName": "jpeg2000 v3 - nvImage",
   "widgets": {}
  },
  "language_info": {
   "name": "python"
  }
 },
 "nbformat": 4,
 "nbformat_minor": 0
}
