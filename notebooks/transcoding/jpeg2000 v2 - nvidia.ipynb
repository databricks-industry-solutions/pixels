{
 "cells": [
  {
   "cell_type": "markdown",
   "metadata": {
    "application/vnd.databricks.v1+cell": {
     "cellMetadata": {
      "byteLimit": 2048000,
      "rowLimit": 10000
     },
     "inputWidgets": {},
     "nuid": "834a0734-5665-4926-abe3-2ed3f3189f96",
     "showTitle": false,
     "tableResultSettingsMap": {},
     "title": ""
    }
   },
   "source": [
    "## Compress DICOMs using JPEG 2000 Lossless compression\n",
    "- take a large 1.9GB DICOM multi-frame image and compress each frame"
   ]
  },
  {
   "cell_type": "code",
   "execution_count": 0,
   "metadata": {
    "application/vnd.databricks.v1+cell": {
     "cellMetadata": {
      "byteLimit": 2048000,
      "rowLimit": 10000
     },
     "inputWidgets": {},
     "nuid": "9a372dcb-317e-4bb4-9dcd-786a44d9d8b7",
     "showTitle": false,
     "tableResultSettingsMap": {},
     "title": ""
    }
   },
   "outputs": [],
   "source": [
    "%pip install --quiet numpy==1.26.4 pydicom  nvidia-nvimgcodec-cu12 nvidia-nvjpeg2k-cu12"
   ]
  },
  {
   "cell_type": "code",
   "execution_count": 0,
   "metadata": {
    "application/vnd.databricks.v1+cell": {
     "cellMetadata": {
      "byteLimit": 2048000,
      "rowLimit": 10000
     },
     "inputWidgets": {},
     "nuid": "72d3db77-1571-42b3-bb80-b1ea591848bb",
     "showTitle": false,
     "tableResultSettingsMap": {},
     "title": ""
    }
   },
   "outputs": [],
   "source": [
    "dbutils.library.restartPython()"
   ]
  },
  {
   "cell_type": "code",
   "execution_count": 0,
   "metadata": {
    "application/vnd.databricks.v1+cell": {
     "cellMetadata": {
      "byteLimit": 2048000,
      "rowLimit": 10000
     },
     "inputWidgets": {},
     "nuid": "19379f41-a0d1-4b09-84ae-c3bf8b7d9828",
     "showTitle": false,
     "tableResultSettingsMap": {},
     "title": ""
    }
   },
   "outputs": [],
   "source": [
    "import pydicom\n",
    "import numpy as np\n",
    "from nvidia import nvimgcodec\n",
    "from pydicom.encaps import encapsulate\n",
    "from pydicom.uid import JPEG2000Lossless  # or JPEG2000 for lossy\n",
    "\n",
    "\n",
    "# Path to your input DICOM file (uncompressed)\n",
    "input_path = \"/Volumes/hls_radiology/demo/random/20250227134948_CT_ISRA_0.dcm\"\n",
    "\n",
    "# Output path for the compressed DICOM file\n",
    "output_path = \"/Volumes/hls_radiology/demo/random/20250227134948_CT_ISRA_0-jpeg2000-nv-compressed.dcm\"\n"
   ]
  },
  {
   "cell_type": "code",
   "execution_count": 0,
   "metadata": {
    "application/vnd.databricks.v1+cell": {
     "cellMetadata": {
      "byteLimit": 2048000,
      "rowLimit": 10000
     },
     "inputWidgets": {},
     "nuid": "437515e6-2aca-454f-b2b7-142c8b08caf1",
     "showTitle": false,
     "tableResultSettingsMap": {},
     "title": ""
    }
   },
   "outputs": [],
   "source": [
    "encoded_frames = []\n",
    "encoder = nvimgcodec.Encoder()\n",
    "#params = nvimgcodec.Jpeg2kEncodeParams(reversible=True)\n",
    "params = nvimgcodec.Jpeg2kEncodeParams(ht=True)\n",
    "encode_params = nvimgcodec.EncodeParams(jpeg2k_encode_params=params)"
   ]
  },
  {
   "cell_type": "code",
   "execution_count": 0,
   "metadata": {
    "application/vnd.databricks.v1+cell": {
     "cellMetadata": {
      "byteLimit": 2048000,
      "rowLimit": 10000
     },
     "inputWidgets": {},
     "nuid": "2f1db270-5923-4ff8-8a2b-710fa16c0329",
     "showTitle": false,
     "tableResultSettingsMap": {},
     "title": ""
    }
   },
   "outputs": [],
   "source": [
    "\n",
    "# Read the multi-frame DICOM\n",
    "ds = pydicom.dcmread(input_path)\n",
    "pixel_array = ds.pixel_array  # shape: (frames, rows, cols)\n",
    "\n"
   ]
  },
  {
   "cell_type": "code",
   "execution_count": 0,
   "metadata": {
    "application/vnd.databricks.v1+cell": {
     "cellMetadata": {
      "byteLimit": 2048000,
      "rowLimit": 10000
     },
     "inputWidgets": {},
     "nuid": "6917ac82-6283-42fe-882c-1fb158cd2a55",
     "showTitle": false,
     "tableResultSettingsMap": {},
     "title": ""
    }
   },
   "outputs": [],
   "source": [
    "# for each frame\n",
    "for i in range(pixel_array.shape[0]):\n",
    "    frame = pixel_array[i]\n",
    "    if frame.ndim == 2:\n",
    "        frame = frame[:, :, np.newaxis]  # Shape: (rows, cols, 1)\n",
    "    frame = np.ascontiguousarray(frame)\n",
    "    nv_img = nvimgcodec.as_image(frame.astype(np.uint16))  # Adjust dtype if needed\n",
    "    j2k_bytes = encoder.encode(nv_img, 'jpeg2k', params=encode_params)\n",
    "    encoded_frames.append(j2k_bytes)\n"
   ]
  },
  {
   "cell_type": "code",
   "execution_count": 0,
   "metadata": {
    "application/vnd.databricks.v1+cell": {
     "cellMetadata": {
      "byteLimit": 2048000,
      "rowLimit": 10000
     },
     "inputWidgets": {},
     "nuid": "2baa7f81-823f-471f-ade8-0c6b7e07c471",
     "showTitle": false,
     "tableResultSettingsMap": {},
     "title": ""
    }
   },
   "outputs": [],
   "source": [
    "# Encapsulate all JPEG 2000 encoded frames\n",
    "ds.PixelData = encapsulate(encoded_frames)\n",
    "ds['PixelData'].is_undefined_length = True"
   ]
  },
  {
   "cell_type": "code",
   "execution_count": 0,
   "metadata": {
    "application/vnd.databricks.v1+cell": {
     "cellMetadata": {
      "byteLimit": 2048000,
      "rowLimit": 10000
     },
     "inputWidgets": {},
     "nuid": "e18991f0-dfa1-497b-9cf7-a834ba581555",
     "showTitle": false,
     "tableResultSettingsMap": {},
     "title": ""
    }
   },
   "outputs": [],
   "source": [
    "ds.file_meta.TransferSyntaxUID = JPEG2000Lossless\n",
    "ds.save_as(output_path)"
   ]
  },
  {
   "cell_type": "code",
   "execution_count": 0,
   "metadata": {
    "application/vnd.databricks.v1+cell": {
     "cellMetadata": {
      "byteLimit": 2048000,
      "rowLimit": 10000
     },
     "inputWidgets": {},
     "nuid": "efee56a5-cd4f-4945-9d37-79a46cbd1a57",
     "showTitle": false,
     "tableResultSettingsMap": {},
     "title": ""
    }
   },
   "outputs": [],
   "source": [
    "%sh ls -laht \\\n",
    "/Volumes/hls_radiology/demo/random/20250227134948_CT_ISRA_0*"
   ]
  },
  {
   "cell_type": "code",
   "execution_count": 0,
   "metadata": {
    "application/vnd.databricks.v1+cell": {
     "cellMetadata": {
      "byteLimit": 2048000,
      "rowLimit": 10000
     },
     "inputWidgets": {},
     "nuid": "7d51470b-4619-4be4-aca0-22273c5edb8d",
     "showTitle": false,
     "tableResultSettingsMap": {},
     "title": ""
    }
   },
   "outputs": [],
   "source": [
    "%sh file /Volumes/hls_radiology/demo/random/20250227134948_CT_ISRA_0*"
   ]
  },
  {
   "cell_type": "code",
   "execution_count": 0,
   "metadata": {
    "application/vnd.databricks.v1+cell": {
     "cellMetadata": {},
     "inputWidgets": {},
     "nuid": "047d36da-4693-422d-b8f1-7b3fcada46d0",
     "showTitle": false,
     "tableResultSettingsMap": {},
     "title": ""
    }
   },
   "outputs": [],
   "source": []
  }
 ],
 "metadata": {
  "application/vnd.databricks.v1+notebook": {
   "computePreferences": {
    "hardware": {
     "accelerator": null,
     "gpuPoolId": null,
     "memory": null
    }
   },
   "dashboards": [],
   "environmentMetadata": {
    "base_environment": "",
    "environment_version": "3"
   },
   "inputWidgetPreferences": null,
   "language": "python",
   "notebookMetadata": {
    "mostRecentlyExecutedCommandWithImplicitDF": {
     "commandId": 6758469288519525,
     "dataframes": [
      "_sqldf"
     ]
    },
    "pythonIndentUnit": 4
   },
   "notebookName": "jpeg2000 v2 - nvidia",
   "widgets": {}
  },
  "language_info": {
   "name": "python"
  }
 },
 "nbformat": 4,
 "nbformat_minor": 0
}
