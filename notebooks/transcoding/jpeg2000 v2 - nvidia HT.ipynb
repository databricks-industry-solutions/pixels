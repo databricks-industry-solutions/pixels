{
 "cells": [
  {
   "cell_type": "markdown",
   "metadata": {
    "application/vnd.databricks.v1+cell": {
     "cellMetadata": {},
     "inputWidgets": {},
     "nuid": "834a0734-5665-4926-abe3-2ed3f3189f96",
     "showTitle": false,
     "tableResultSettingsMap": {},
     "title": ""
    }
   },
   "source": [
    "## Compress DICOMs using JPEG 2000 Lossless compression\n",
    "- take a large 1.9GB DICOM multi-frame image and compress it\n",
    "- HTJ2K lossless compression"
   ]
  },
  {
   "cell_type": "code",
   "execution_count": 0,
   "metadata": {
    "application/vnd.databricks.v1+cell": {
     "cellMetadata": {
      "byteLimit": 2048000,
      "rowLimit": 10000
     },
     "inputWidgets": {},
     "nuid": "9a372dcb-317e-4bb4-9dcd-786a44d9d8b7",
     "showTitle": false,
     "tableResultSettingsMap": {},
     "title": ""
    }
   },
   "outputs": [],
   "source": [
    "%pip install --quiet numpy==1.26.4 cupy-cuda12x pydicom  nvidia-nvimgcodec-cu12 nvidia-nvjpeg2k-cu12 "
   ]
  },
  {
   "cell_type": "code",
   "execution_count": 0,
   "metadata": {
    "application/vnd.databricks.v1+cell": {
     "cellMetadata": {
      "byteLimit": 2048000,
      "rowLimit": 10000
     },
     "inputWidgets": {},
     "nuid": "72d3db77-1571-42b3-bb80-b1ea591848bb",
     "showTitle": false,
     "tableResultSettingsMap": {},
     "title": ""
    }
   },
   "outputs": [],
   "source": [
    "dbutils.library.restartPython()"
   ]
  },
  {
   "cell_type": "code",
   "execution_count": 0,
   "metadata": {
    "application/vnd.databricks.v1+cell": {
     "cellMetadata": {
      "byteLimit": 2048000,
      "rowLimit": 10000
     },
     "inputWidgets": {},
     "nuid": "19379f41-a0d1-4b09-84ae-c3bf8b7d9828",
     "showTitle": false,
     "tableResultSettingsMap": {},
     "title": ""
    }
   },
   "outputs": [],
   "source": [
    "import pydicom\n",
    "import numpy as np\n",
    "import cupy as cp\n",
    "from nvidia import nvimgcodec\n",
    "from pydicom.encaps import encapsulate\n",
    "from pydicom.uid import JPEG2000Lossless  # or JPEG2000 for lossy\n",
    "\n",
    "# Path to your input DICOM file (uncompressed)\n",
    "input_path = \"/Volumes/hls_radiology/demo/random/20250227134948_CT_ISRA_0.dcm\"\n",
    "\n",
    "# Output path for the compressed DICOM file\n",
    "output_path = \"/Volumes/douglas_moore/demo/temp/output_jpeg2000-nv-HTJ2K.dcm\"\n"
   ]
  },
  {
   "cell_type": "code",
   "execution_count": 0,
   "metadata": {
    "application/vnd.databricks.v1+cell": {
     "cellMetadata": {
      "byteLimit": 2048000,
      "rowLimit": 10000
     },
     "inputWidgets": {},
     "nuid": "387f5f0e-ef6a-4256-8732-bf78a2f07928",
     "showTitle": false,
     "tableResultSettingsMap": {},
     "title": ""
    }
   },
   "outputs": [],
   "source": [
    "ds = pydicom.dcmread(input_path)\n",
    "ds.pixel_array_options(use_v2_backend=False)\n",
    "pixel_array = ds.pixel_array  # shape: (frames, rows, cols)\n"
   ]
  },
  {
   "cell_type": "code",
   "execution_count": 0,
   "metadata": {
    "application/vnd.databricks.v1+cell": {
     "cellMetadata": {
      "byteLimit": 2048000,
      "rowLimit": 10000
     },
     "inputWidgets": {},
     "nuid": "148f217f-9c8d-424a-b490-e19fd079bf4a",
     "showTitle": false,
     "tableResultSettingsMap": {},
     "title": ""
    }
   },
   "outputs": [],
   "source": [
    "# Step 1: Load the DICOM\n",
    "\n",
    "encoded_frames = []\n",
    "encoder = nvimgcodec.Encoder()\n",
    "# Set HTJ2K parameters as needed; example uses lossless mode.\n",
    "htj2k_params = nvimgcodec.Jpeg2kEncodeParams(\n",
    "    reversible=True,\n",
    "#    use_ht=True  # Some versions require 'use_ht' flag or similar for HTJ2K\n",
    "    # other options if needed:\n",
    "     code_block_size=(64,64),\n",
    "     num_resolutions=6,\n",
    "     bitstream_type=nvimgcodec.Jpeg2kBitstreamType.JP2,\n",
    "     prog_order=nvimgcodec.Jpeg2kProgOrder.RPCL\n",
    ")\n",
    "\n",
    "enc_params = nvimgcodec.EncodeParams(jpeg2k_encode_params=htj2k_params)\n",
    "\n",
    "# Step 2: For each frame, move to GPU, encode, and store results\n",
    "for i in range(pixel_array.shape[0]):\n",
    "    frame = pixel_array[i]  # NumPy CPU array, shape (rows, cols)\n",
    "    frame_cp = cp.asarray(frame[:, :, np.newaxis])  # shape (rows, cols, 1), CuPy GPU array\n",
    "    nv_img = nvimgcodec.as_image(frame_cp.astype(cp.uint16))  # pass CuPy array directly\n",
    "    j2k_bytes = encoder.encode(nv_img, \"jpeg2k\", params=enc_params)\n",
    "    encoded_frames.append(j2k_bytes)\n",
    "\n",
    "# Step 3: Encapsulate for DICOM\n",
    "ds.PixelData = encapsulate(encoded_frames)\n",
    "ds['PixelData'].is_undefined_length = True\n",
    "\n",
    "# Step 4: Set correct Transfer Syntax UID for HTJ2K (lossless)\n",
    "ds.file_meta.TransferSyntaxUID = \"1.2.840.10008.1.2.4.201\"\n",
    "\n",
    "ds.save_as(output_path)"
   ]
  },
  {
   "cell_type": "code",
   "execution_count": 0,
   "metadata": {
    "application/vnd.databricks.v1+cell": {
     "cellMetadata": {
      "byteLimit": 2048000,
      "rowLimit": 10000
     },
     "inputWidgets": {},
     "nuid": "efee56a5-cd4f-4945-9d37-79a46cbd1a57",
     "showTitle": false,
     "tableResultSettingsMap": {},
     "title": ""
    }
   },
   "outputs": [],
   "source": [
    "%sh ls -lat \\\n",
    "/Volumes/hls_radiology/demo/random/20250227134948_CT_ISRA_0.dcm \\\n",
    "/Volumes/douglas_moore/demo/temp/output_jpeg2000-nv.dcm \\\n",
    "/Volumes/douglas_moore/demo/temp/output_jpeg2000-nv-HTJ2K.dcm"
   ]
  }
 ],
 "metadata": {
  "application/vnd.databricks.v1+notebook": {
   "computePreferences": {
    "hardware": {
     "accelerator": null,
     "gpuPoolId": null,
     "memory": null
    }
   },
   "dashboards": [],
   "environmentMetadata": {
    "base_environment": "",
    "environment_version": "3"
   },
   "inputWidgetPreferences": null,
   "language": "python",
   "notebookMetadata": {
    "mostRecentlyExecutedCommandWithImplicitDF": {
     "commandId": 2805190872848844,
     "dataframes": [
      "_sqldf"
     ]
    },
    "pythonIndentUnit": 4
   },
   "notebookName": "jpeg2000 v2 - nvidia HT",
   "widgets": {}
  },
  "language_info": {
   "name": "python"
  }
 },
 "nbformat": 4,
 "nbformat_minor": 0
}
