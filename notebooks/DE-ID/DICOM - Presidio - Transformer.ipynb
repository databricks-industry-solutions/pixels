{
 "cells": [
  {
   "cell_type": "code",
   "execution_count": 0,
   "metadata": {
    "application/vnd.databricks.v1+cell": {
     "cellMetadata": {
      "byteLimit": 2048000,
      "rowLimit": 10000
     },
     "inputWidgets": {},
     "nuid": "b51973f8-24da-42b7-a19f-48bba34b84da",
     "showTitle": false,
     "tableResultSettingsMap": {},
     "title": ""
    }
   },
   "outputs": [],
   "source": [
    "%load_ext autoreload\n",
    "%autoreload 2\n",
    "# Enables autoreload; learn more at https://docs.databricks.com/en/files/workspace-modules.html#autoreload-for-python-modules\n",
    "# To disable autoreload; run %autoreload 0"
   ]
  },
  {
   "cell_type": "markdown",
   "metadata": {
    "application/vnd.databricks.v1+cell": {
     "cellMetadata": {},
     "inputWidgets": {},
     "nuid": "6a671940-c0fe-46b6-bb9d-8ee8d1d85f8a",
     "showTitle": false,
     "tableResultSettingsMap": {},
     "title": ""
    }
   },
   "source": [
    "# Presidio test bed"
   ]
  },
  {
   "cell_type": "markdown",
   "metadata": {
    "application/vnd.databricks.v1+cell": {
     "cellMetadata": {},
     "inputWidgets": {},
     "nuid": "09bff290-08cd-4aad-959d-a5c79a0d8900",
     "showTitle": false,
     "tableResultSettingsMap": {},
     "title": ""
    }
   },
   "source": [
    "## Installs"
   ]
  },
  {
   "cell_type": "code",
   "execution_count": 0,
   "metadata": {
    "application/vnd.databricks.v1+cell": {
     "cellMetadata": {
      "byteLimit": 2048000,
      "rowLimit": 10000
     },
     "inputWidgets": {},
     "nuid": "653062ae-40c1-4de2-a190-8faec0025489",
     "showTitle": false,
     "tableResultSettingsMap": {},
     "title": ""
    }
   },
   "outputs": [],
   "source": [
    "%pip install --quiet presidio_analyzer presidio_anonymizer presidio_image_redactor pydicom"
   ]
  },
  {
   "cell_type": "code",
   "execution_count": 0,
   "metadata": {
    "application/vnd.databricks.v1+cell": {
     "cellMetadata": {
      "byteLimit": 2048000,
      "rowLimit": 10000
     },
     "inputWidgets": {},
     "nuid": "1541bcea-c263-4bc7-9a66-13b9cfe1f811",
     "showTitle": false,
     "tableResultSettingsMap": {},
     "title": ""
    }
   },
   "outputs": [],
   "source": [
    "dbutils.library.restartPython()"
   ]
  },
  {
   "cell_type": "code",
   "execution_count": 0,
   "metadata": {
    "application/vnd.databricks.v1+cell": {
     "cellMetadata": {
      "byteLimit": 2048000,
      "rowLimit": 10000
     },
     "inputWidgets": {},
     "nuid": "90cbe650-fe86-487e-b741-2f2714e04ee9",
     "showTitle": false,
     "tableResultSettingsMap": {},
     "title": ""
    }
   },
   "outputs": [],
   "source": [
    "%sh python -m spacy download en_core_web_lg"
   ]
  },
  {
   "cell_type": "code",
   "execution_count": 0,
   "metadata": {
    "application/vnd.databricks.v1+cell": {
     "cellMetadata": {
      "byteLimit": 2048000,
      "rowLimit": 10000
     },
     "inputWidgets": {},
     "nuid": "8e58a1cc-99df-4842-a1a3-96575a84224a",
     "showTitle": false,
     "tableResultSettingsMap": {},
     "title": ""
    }
   },
   "outputs": [],
   "source": [
    "import logging\n",
    "import sys\n",
    "logging.basicConfig(stream=sys.stderr,\n",
    "                    level=logging.WARNING,\n",
    "                    format='%(asctime)s [%(name)s][%(levelname)s] %(message)s')\n",
    "logging.getLogger('dbx.pixels').setLevel(logging.DEBUG)\n",
    "logger = logging.getLogger('dbx.pixels')"
   ]
  },
  {
   "cell_type": "markdown",
   "metadata": {
    "application/vnd.databricks.v1+cell": {
     "cellMetadata": {},
     "inputWidgets": {},
     "nuid": "76059e11-3705-4824-9f95-49bd92a268aa",
     "showTitle": false,
     "tableResultSettingsMap": {},
     "title": ""
    }
   },
   "source": [
    "## Test Setup"
   ]
  },
  {
   "cell_type": "code",
   "execution_count": 0,
   "metadata": {
    "application/vnd.databricks.v1+cell": {
     "cellMetadata": {
      "byteLimit": 2048000,
      "rowLimit": 10000
     },
     "inputWidgets": {},
     "nuid": "aa02f18d-d081-4da2-a971-c943fd6d8194",
     "showTitle": false,
     "tableResultSettingsMap": {},
     "title": ""
    }
   },
   "outputs": [],
   "source": [
    "paths = [\n",
    "    \"/Volumes/hls_radiology/pseudo-phi-dicom-data/pseudo-phi-dicom-data/pseudo_phi_dicom_data/manifest-1744203894606/Pseudo-PHI-DICOM-Data/292821506/07-13-2013-NA-XR CHEST AP PORTABLE for Douglas Davidson-46198/1001.000000-NA-37718/1-1.dcm\",\n",
    "\n",
    "    \"/Volumes/hls_radiology/pseudo-phi-dicom-data/pseudo-phi-dicom-data/pseudo_phi_dicom_data/manifest-1744203894606/Pseudo-PHI-DICOM-Data/292821506/07-13-2013-NA-XR CHEST AP PORTABLE for Douglas Davidson-46198/1002.000000-NA-53238/1-1.dcm\",\n",
    "\n",
    "    \"/Volumes/hls_radiology/pseudo-phi-dicom-data/pseudo-phi-dicom-data/pseudo_phi_deid_dicom_data/manifest-1744157828937/Pseudo-PHI-DICOM-Data/Pseudo-PHI-001/06-26-2003-NA-XR CHEST AP PORTABLE-96544/1001.000000-NA-42825/1-1.dcm\"\n",
    "]\n",
    "\n",
    "# Download\n",
    "import shutil\n",
    "for i, path in enumerate(paths):\n",
    "    shutil.copy(path, f\"/local_disk0/tmp/{i}.dcm\")"
   ]
  },
  {
   "cell_type": "markdown",
   "metadata": {
    "application/vnd.databricks.v1+cell": {
     "cellMetadata": {},
     "inputWidgets": {},
     "nuid": "ff1c15ec-a497-48c1-8648-3e4f632f262f",
     "showTitle": false,
     "tableResultSettingsMap": {},
     "title": ""
    }
   },
   "source": [
    "## Test Presidio engine\n",
    "https://microsoft.github.io/presidio/"
   ]
  },
  {
   "cell_type": "code",
   "execution_count": 0,
   "metadata": {
    "application/vnd.databricks.v1+cell": {
     "cellMetadata": {
      "byteLimit": 2048000,
      "rowLimit": 10000
     },
     "inputWidgets": {},
     "nuid": "ff7cca77-809e-4096-930a-07002eab5501",
     "showTitle": false,
     "tableResultSettingsMap": {},
     "title": ""
    }
   },
   "outputs": [],
   "source": [
    "source_path = \"/Volumes/hls_radiology/pseudo-phi-dicom-data/pseudo-phi-dicom-data/pseudo_phi_dicom_data/manifest-1744203894606/Pseudo-PHI-DICOM-Data\""
   ]
  },
  {
   "cell_type": "markdown",
   "metadata": {
    "application/vnd.databricks.v1+cell": {
     "cellMetadata": {},
     "inputWidgets": {},
     "nuid": "e9e41651-b439-4b0b-8580-d405241ece43",
     "showTitle": false,
     "tableResultSettingsMap": {},
     "title": ""
    }
   },
   "source": [
    "### Presidio as a Spark UDF"
   ]
  },
  {
   "cell_type": "code",
   "execution_count": 0,
   "metadata": {
    "application/vnd.databricks.v1+cell": {
     "cellMetadata": {
      "byteLimit": 2048000,
      "implicitDf": true,
      "rowLimit": 10000
     },
     "inputWidgets": {},
     "nuid": "0d8d22f8-d8ae-4b19-9899-f4a4d2ea743c",
     "showTitle": false,
     "tableResultSettingsMap": {},
     "title": ""
    }
   },
   "outputs": [],
   "source": [
    "%sql \n",
    "-- truncate table douglas_moore.pixels.pixels_deid_presidio;"
   ]
  },
  {
   "cell_type": "code",
   "execution_count": 0,
   "metadata": {
    "application/vnd.databricks.v1+cell": {
     "cellMetadata": {
      "byteLimit": 2048000,
      "rowLimit": 10000
     },
     "inputWidgets": {},
     "nuid": "e2cc5a1b-da51-493f-a075-f772b01240ae",
     "showTitle": false,
     "tableResultSettingsMap": {},
     "title": ""
    }
   },
   "outputs": [],
   "source": [
    "from dbx.pixels.dicom import PresidioTransformer"
   ]
  },
  {
   "cell_type": "code",
   "execution_count": 0,
   "metadata": {
    "application/vnd.databricks.v1+cell": {
     "cellMetadata": {
      "byteLimit": 2048000,
      "rowLimit": 10000
     },
     "inputWidgets": {},
     "nuid": "caca0bd0-1029-4b17-adb1-3219889dd277",
     "showTitle": false,
     "tableResultSettingsMap": {},
     "title": ""
    }
   },
   "outputs": [],
   "source": [
    "# Create a DataFrame with the DICOM file paths\n",
    "limit = 100\n",
    "\n",
    "## Read all the DICOM path names\n",
    "df = (spark.read.format(\"binaryFile\")\n",
    "  .option(\"pathGlobFilter\", \"*.dcm\")\n",
    "  .option(\"recursiveFileLookup\", \"true\")\n",
    "  .load(source_path)\n",
    "  .drop(\"content\")\n",
    "  .limit(limit)\n",
    ")\n",
    "\n",
    "# Apply Transformer\n",
    "result_df = PresidioTransformer().transform(df)\n",
    "\n",
    "from pyspark.sql.functions import current_timestamp\n",
    "res = (result_df\n",
    "       .withColumn('insert_dt', current_timestamp())\n",
    "       .write.mode('append')\n",
    "       .option(\"mergeSchema\", \"true\")\n",
    "       .saveAsTable('douglas_moore.pixels.pixels_deid_presidio'))\n",
    "res"
   ]
  },
  {
   "cell_type": "markdown",
   "metadata": {
    "application/vnd.databricks.v1+cell": {
     "cellMetadata": {},
     "inputWidgets": {},
     "nuid": "59a85b7b-7d03-4cda-b9cb-44a0a48eca75",
     "showTitle": false,
     "tableResultSettingsMap": {},
     "title": ""
    }
   },
   "source": [
    "### Evaulate transformation"
   ]
  },
  {
   "cell_type": "code",
   "execution_count": 0,
   "metadata": {
    "application/vnd.databricks.v1+cell": {
     "cellMetadata": {
      "byteLimit": 2048000,
      "implicitDf": true,
      "rowLimit": 10000
     },
     "inputWidgets": {},
     "nuid": "c7782953-7e12-491c-af86-816d68d27ac0",
     "showTitle": false,
     "tableResultSettingsMap": {},
     "title": ""
    }
   },
   "outputs": [],
   "source": [
    "%sql select insert_dt, count(1) \n",
    "from douglas_moore.pixels.pixels_deid_presidio\n",
    "group by all"
   ]
  },
  {
   "cell_type": "code",
   "execution_count": 0,
   "metadata": {
    "application/vnd.databricks.v1+cell": {
     "cellMetadata": {
      "byteLimit": 2048000,
      "implicitDf": true,
      "rowLimit": 10000
     },
     "inputWidgets": {},
     "nuid": "6cff0a57-ad80-48f6-8f0d-b44cabe9fbc8",
     "showTitle": false,
     "tableResultSettingsMap": {},
     "title": ""
    }
   },
   "outputs": [],
   "source": [
    "%sql\n",
    "select * from douglas_moore.pixels.pixels_deid_presidio\n",
    "order by insert_dt desc\n",
    "limit 10"
   ]
  },
  {
   "cell_type": "code",
   "execution_count": 0,
   "metadata": {
    "application/vnd.databricks.v1+cell": {
     "cellMetadata": {
      "byteLimit": 2048000,
      "implicitDf": true,
      "rowLimit": 10000
     },
     "inputWidgets": {},
     "nuid": "16e1bd4a-5f65-4551-b2d0-0a556288987e",
     "showTitle": false,
     "tableResultSettingsMap": {},
     "title": ""
    }
   },
   "outputs": [],
   "source": [
    "%sql\n",
    "with pii(\n",
    "  select right(path,30)path , explode(pii_analysis) analysis\n",
    "  from douglas_moore.pixels.pixels_deid_presidio\n",
    ")\n",
    "select path, sum(analysis.analyzer_score) total_score\n",
    "from pii\n",
    "where analysis.analyzer_score is not null\n",
    "group by all"
   ]
  },
  {
   "cell_type": "markdown",
   "metadata": {
    "application/vnd.databricks.v1+cell": {
     "cellMetadata": {},
     "inputWidgets": {},
     "nuid": "c89b89c8-393b-4545-a6e4-5e8e90fb76ac",
     "showTitle": false,
     "tableResultSettingsMap": {},
     "title": ""
    }
   },
   "source": [
    "## presidio timing\n",
    "\n",
    "| files - frames   | run time | worker-core-seconds / frame | config |\n",
    "| -------- | -------- | --------------- | ----|\n",
    "|1,693  | 8m 13s  | 4.659 | Single GPU A10 cluster |\n",
    "|1,693  | 6m 13s  | 3.525 | Single GPU A10 cluster |\n",
    "|1,693  | 5m 42s. | 12.929  | 4 x `c6gd.4xlarge` CPU cluster (config 3) |\n",
    "| 1,693 | 4m 56s.  | 6.464 | 2 x `c6gd.4xlarge` CPU cluster (config 3) |\n",
    "\n",
    "Config 3: \n",
    "```\n",
    "{\n",
    "    \"cluster_name\": \"DM - Pixels\",\n",
    "    \"spark_version\": \"16.4.x-scala2.13\",\n",
    "    \"aws_attributes\": {\n",
    "        \"first_on_demand\": 1,\n",
    "        \"zone_id\": \"auto\",\n",
    "        \"spot_bid_price_percent\": 100\n",
    "    },\n",
    "    \"node_type_id\": \"c6gd.4xlarge\",\n",
    "    \"custom_tags\": {\n",
    "        \"solacc\": \"pixels\",\n",
    "        \"owner\": \"douglas.moore@databricks.com\",\n",
    "        \"removeAfter\": \"20250531\"\n",
    "    },\n",
    "    \"autotermination_minutes\": 60,\n",
    "    \"enable_elastic_disk\": true,\n",
    "    \"single_user_name\": \"douglas.moore@databricks.com\",\n",
    "    \"enable_local_disk_encryption\": false,\n",
    "    \"data_security_mode\": \"DATA_SECURITY_MODE_DEDICATED\",\n",
    "    \"runtime_engine\": \"STANDARD\",\n",
    "    \"kind\": \"CLASSIC_PREVIEW\",\n",
    "    \"use_ml_runtime\": true,\n",
    "    \"is_single_node\": false,\n",
    "    \"num_workers\": 4,\n",
    "    \"apply_policy_default_values\": false\n",
    "}```"
   ]
  }
 ],
 "metadata": {
  "application/vnd.databricks.v1+notebook": {
   "computePreferences": null,
   "dashboards": [],
   "environmentMetadata": {
    "base_environment": "",
    "environment_version": "2"
   },
   "inputWidgetPreferences": null,
   "language": "python",
   "notebookMetadata": {
    "mostRecentlyExecutedCommandWithImplicitDF": {
     "commandId": 2493754673804779,
     "dataframes": [
      "_sqldf"
     ]
    },
    "pythonIndentUnit": 4
   },
   "notebookName": "DICOM - Presidio - Transformer",
   "widgets": {}
  },
  "language_info": {
   "name": "python"
  }
 },
 "nbformat": 4,
 "nbformat_minor": 0
}
