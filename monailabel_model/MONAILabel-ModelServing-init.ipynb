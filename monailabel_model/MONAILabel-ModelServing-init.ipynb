{
 "cells": [
  {
   "cell_type": "code",
   "execution_count": 0,
   "metadata": {
    "application/vnd.databricks.v1+cell": {
     "cellMetadata": {
      "byteLimit": 2048000,
      "rowLimit": 10000
     },
     "inputWidgets": {},
     "nuid": "717a34d2-fe63-4a11-ad41-66cf3910914c",
     "showTitle": false,
     "tableResultSettingsMap": {},
     "title": ""
    }
   },
   "outputs": [],
   "source": [
    "%pip install -r bundles/requirements.txt\n",
    "%pip install ./artifacts/monailabel-0.8.5-py3-none-any.whl --no-deps\n",
    "%pip install monai==1.4.0 pytorch-ignite --no-deps\n",
    "%pip install databricks-sdk==0.56 --upgrade"
   ]
  },
  {
   "cell_type": "code",
   "execution_count": 0,
   "metadata": {
    "application/vnd.databricks.v1+cell": {
     "cellMetadata": {
      "byteLimit": 2048000,
      "rowLimit": 10000
     },
     "inputWidgets": {},
     "nuid": "5a02e225-ffcd-4e5e-bb56-38bdccefe8ae",
     "showTitle": false,
     "tableResultSettingsMap": {},
     "title": ""
    }
   },
   "outputs": [],
   "source": [
    "dbutils.library.restartPython()"
   ]
  },
  {
   "cell_type": "code",
   "execution_count": 0,
   "metadata": {
    "application/vnd.databricks.v1+cell": {
     "cellMetadata": {
      "byteLimit": 2048000,
      "rowLimit": 10000
     },
     "inputWidgets": {},
     "nuid": "438a7daa-804f-4578-8d0e-c6c7f1aeb802",
     "showTitle": false,
     "tableResultSettingsMap": {},
     "title": ""
    }
   },
   "outputs": [],
   "source": [
    "from types import SimpleNamespace\n",
    "\n",
    "def init_monai_widgets_environment():\n",
    "\n",
    "  dbutils.widgets.text(\"table\", \"main.pixels_solacc.object_catalog\", label=\"1.0 Catalog Schema Table to store object metadata into\")\n",
    "  table = dbutils.widgets.get(\"table\")\n",
    "\n",
    "  dbutils.widgets.text(\"sqlWarehouseID\", \"\", label=\"2.0 SQL Warehouse\")\n",
    "  sql_warehouse_id = dbutils.widgets.get(\"sqlWarehouseID\")\n",
    "\n",
    "  if sql_warehouse_id == \"\":\n",
    "    from databricks.sdk import WorkspaceClient\n",
    "    w = WorkspaceClient()\n",
    "    sql_warehouse = w.warehouses.list()[0]\n",
    "    sql_warehouse_id = sql_warehouse.id\n",
    "    dbutils.widgets.text(\"sqlWarehouseID\", sql_warehouse_id, label=\"2.0 SQL Warehouse\")\n",
    "    print(f\"SQL Warehouse is mandatory, taking the first available: '{sql_warehouse.name}'\")\n",
    "\n",
    "    dbutils.widgets.text(\"volume\", \"main.pixels_solacc.pixels_volume\", label=\"3.0 Catalog Schema Volume where pixel volumes are stored into\")\n",
    "    volume = dbutils.widgets.get(\"volume\")\n",
    "\n",
    "    dbutils.widgets.text(\"model_uc_name\", \"main.pixels_solacc.monai_pixels_model\", label=\"3.1 Model name stored in UC\")\n",
    "    model_uc_name = dbutils.widgets.get(\"model_uc_name\")\n",
    "    dbutils.widgets.text(\"serving_endpoint_name\", \"pixels-monai-uc\", label=\"4.0 Serving Endpoint name\")\n",
    "    serving_endpoint_name = dbutils.widgets.get(\"serving_endpoint_name\")\n",
    "\n",
    "#    sql_warehouse_id, table, volume = init_widgets(show_volume=True)\n",
    "#    model_uc_name, serving_endpoint_name = init_model_serving_widgets()\n",
    "\n",
    "    dbutils.widgets.text(\"use_service_principal\", \"False\", label=\"5.0 Use Service Principal\")\n",
    "    use_service_principal = dbutils.widgets.get(\"use_service_principal\").lower() == \"true\"\n",
    "\n",
    "    volume_path = volume.replace(\".\",\"/\")\n",
    "\n",
    "    dbutils.widgets.text(\"model_name\", \"wholeBody_ct_segmentation\", label=\"6.0 Model Name\")\n",
    "    model_name = dbutils.widgets.get(\"model_name\")\n",
    "\n",
    "    dbutils.widgets.text(\"dest_dir\", f\"/Volumes/{volume_path}/monai_serving/{model_name}/\", label=\"7.0 Destination Folder\")\n",
    "    dest_dir = dbutils.widgets.get(\"dest_dir\")\n",
    "\n",
    "    # Pick one of the series_uid available in the pixels' catalog table\n",
    "    dbutils.widgets.text(\"series_uid\", \"1.2.156.14702.1.1000.16.1.2020031111365289000020001\", label=\"8. Example Series UID\")\n",
    "    series_uid = dbutils.widgets.get(\"series_uid\")\n",
    "\n",
    "    # Bulk Inferencing Result Table\n",
    "    dbutils.widgets.text(\"inference_results_table\", f\"{table}_{model_name}_results\", label=\"9. Inference Results\")\n",
    "    inference_results_table = dbutils.widgets.get(\"inference_results_table\")\n",
    "    \n",
    "    #init_env()\n",
    "#    sql_warehouse_id = dbutils.widgets.get(\"sqlWarehouseID\")\n",
    "#    table = dbutils.widgets.get(\"table\")\n",
    "\n",
    "    if not spark.catalog.tableExists(table):\n",
    "        raise Exception(\"The configured table does not exist!\")\n",
    "\n",
    "    os.environ[\"DATABRICKS_TOKEN\"] = ctx.apiToken\n",
    "    os.environ[\"DATABRICKS_WAREHOUSE_ID\"] = sql_warehouse_id\n",
    "    os.environ[\"DATABRICKS_HOST\"] = ctx.apiUrl\n",
    "    os.environ[\"DATABRICKS_PIXELS_TABLE\"] = table\n",
    "    os.environ[\"DEST_DIR\"] = dest_dir\n",
    "\n",
    "\n",
    "    return SimpleNamespace(**{\n",
    "        \"sql_warehouse_id\": sql_warehouse_id,\n",
    "        \"table\": table,\n",
    "        \"volume\": volume,\n",
    "        \"model_uc_name\": model_uc_name,\n",
    "        \"serving_endpoint_name\": serving_endpoint_name,\n",
    "        \"use_service_principal\": use_service_principal,\n",
    "        \"model_name\": model_name,\n",
    "        \"dest_dir\": dest_dir,\n",
    "        \"series_uid\":series_uid,\n",
    "        \"inference_results_table\": inference_results_table\n",
    "    })\n",
    "\n"
   ]
  },
  {
   "cell_type": "code",
   "execution_count": 0,
   "metadata": {
    "application/vnd.databricks.v1+cell": {
     "cellMetadata": {
      "byteLimit": 2048000,
      "rowLimit": 10000
     },
     "inputWidgets": {},
     "nuid": "6f73d783-75da-4c13-977f-e3f35077f865",
     "showTitle": false,
     "tableResultSettingsMap": {},
     "title": ""
    }
   },
   "outputs": [],
   "source": [
    "init_monai_widgets_environment()"
   ]
  }
 ],
 "metadata": {
  "application/vnd.databricks.v1+notebook": {
   "computePreferences": null,
   "dashboards": [],
   "environmentMetadata": {
    "base_environment": "dbe_f14fbde8-5353-4144-89be-f0a3e93fffc9",
    "environment_version": "2"
   },
   "inputWidgetPreferences": null,
   "language": "python",
   "notebookMetadata": {
    "pythonIndentUnit": 4
   },
   "notebookName": "MONAILabel-ModelServing-init",
   "widgets": {
    "dest_dir": {
     "currentValue": "/Volumes/main/pixelsdev/pixels_volume/monai_serving/wholeBody_ct_segmentation/",
     "nuid": "fe9f87a3-b469-4fbc-9498-07284f56d2de",
     "typedWidgetInfo": {
      "autoCreated": false,
      "defaultValue": "/Volumes/main/pixelsdev/pixels_volume/monai_serving/wholeBody_ct_segmentation/",
      "label": "7.0 Destination Folder",
      "name": "dest_dir",
      "options": {
       "widgetDisplayType": "Text",
       "validationRegex": null
      },
      "parameterDataType": "String"
     },
     "widgetInfo": {
      "widgetType": "text",
      "defaultValue": "/Volumes/main/pixelsdev/pixels_volume/monai_serving/wholeBody_ct_segmentation/",
      "label": "7.0 Destination Folder",
      "name": "dest_dir",
      "options": {
       "widgetType": "text",
       "autoCreated": null,
       "validationRegex": null
      }
     }
    },
    "inference_results_table": {
     "currentValue": "main.pixelsdev.object_catalog_wholeBody_ct_segmentation_results",
     "nuid": "6584b49b-2f2c-4c56-ab26-5782ea32058b",
     "typedWidgetInfo": {
      "autoCreated": false,
      "defaultValue": "main.pixelsdev.object_catalog_wholeBody_ct_segmentation_results",
      "label": "9. Inference Results",
      "name": "inference_results_table",
      "options": {
       "widgetDisplayType": "Text",
       "validationRegex": null
      },
      "parameterDataType": "String"
     },
     "widgetInfo": {
      "widgetType": "text",
      "defaultValue": "main.pixelsdev.object_catalog_wholeBody_ct_segmentation_results",
      "label": "9. Inference Results",
      "name": "inference_results_table",
      "options": {
       "widgetType": "text",
       "autoCreated": null,
       "validationRegex": null
      }
     }
    },
    "model_name": {
     "currentValue": "wholeBody_ct_segmentation",
     "nuid": "d70d5a39-ced0-4a4e-afc8-b0321bfca010",
     "typedWidgetInfo": {
      "autoCreated": false,
      "defaultValue": "wholeBody_ct_segmentation",
      "label": "6.0 Model Name",
      "name": "model_name",
      "options": {
       "widgetDisplayType": "Text",
       "validationRegex": null
      },
      "parameterDataType": "String"
     },
     "widgetInfo": {
      "widgetType": "text",
      "defaultValue": "wholeBody_ct_segmentation",
      "label": "6.0 Model Name",
      "name": "model_name",
      "options": {
       "widgetType": "text",
       "autoCreated": null,
       "validationRegex": null
      }
     }
    },
    "model_uc_name": {
     "currentValue": "main.pixelsdev.monai_pixels_model",
     "nuid": "5744038d-b8fd-47b7-ba42-618ab8c2f260",
     "typedWidgetInfo": {
      "autoCreated": false,
      "defaultValue": "main.pixels_solacc.monai_pixels_model",
      "label": "3.0 Model name stored in UC",
      "name": "model_uc_name",
      "options": {
       "widgetDisplayType": "Text",
       "validationRegex": null
      },
      "parameterDataType": "String"
     },
     "widgetInfo": {
      "widgetType": "text",
      "defaultValue": "main.pixels_solacc.monai_pixels_model",
      "label": "3.0 Model name stored in UC",
      "name": "model_uc_name",
      "options": {
       "widgetType": "text",
       "autoCreated": null,
       "validationRegex": null
      }
     }
    },
    "series_uid": {
     "currentValue": "1.2.156.14702.1.1000.16.1.2020031111365289000020001",
     "nuid": "b97b29e8-ca54-42b6-9ed1-f6c6016cdbc1",
     "typedWidgetInfo": {
      "autoCreated": false,
      "defaultValue": "1.2.156.14702.1.1000.16.1.2020031111365289000020001",
      "label": "8. Example Series UID",
      "name": "series_uid",
      "options": {
       "widgetDisplayType": "Text",
       "validationRegex": null
      },
      "parameterDataType": "String"
     },
     "widgetInfo": {
      "widgetType": "text",
      "defaultValue": "1.2.156.14702.1.1000.16.1.2020031111365289000020001",
      "label": "8. Example Series UID",
      "name": "series_uid",
      "options": {
       "widgetType": "text",
       "autoCreated": null,
       "validationRegex": null
      }
     }
    },
    "serving_endpoint_name": {
     "currentValue": "pixels-monai-uc",
     "nuid": "04b759ed-5756-44ef-a5f5-9e21e88d5d66",
     "typedWidgetInfo": {
      "autoCreated": false,
      "defaultValue": "pixels-monai-uc",
      "label": "4.0 Serving Endpoint name",
      "name": "serving_endpoint_name",
      "options": {
       "widgetDisplayType": "Text",
       "validationRegex": null
      },
      "parameterDataType": "String"
     },
     "widgetInfo": {
      "widgetType": "text",
      "defaultValue": "pixels-monai-uc",
      "label": "4.0 Serving Endpoint name",
      "name": "serving_endpoint_name",
      "options": {
       "widgetType": "text",
       "autoCreated": null,
       "validationRegex": null
      }
     }
    },
    "sqlWarehouseID": {
     "currentValue": "4b9b953939869799",
     "nuid": "4158b390-c9df-46d4-8027-6225cdcf4a89",
     "typedWidgetInfo": {
      "autoCreated": false,
      "defaultValue": "",
      "label": "2.0 SQL Warehouse",
      "name": "sqlWarehouseID",
      "options": {
       "widgetDisplayType": "Text",
       "validationRegex": null
      },
      "parameterDataType": "String"
     },
     "widgetInfo": {
      "widgetType": "text",
      "defaultValue": "",
      "label": "2.0 SQL Warehouse",
      "name": "sqlWarehouseID",
      "options": {
       "widgetType": "text",
       "autoCreated": null,
       "validationRegex": null
      }
     }
    },
    "table": {
     "currentValue": "main.pixelsdev.object_catalog",
     "nuid": "30801008-1273-496c-b8b7-06274069b4bc",
     "typedWidgetInfo": {
      "autoCreated": false,
      "defaultValue": "main.pixels_solacc.object_catalog",
      "label": "1.0 Catalog Schema Table to store object metadata into",
      "name": "table",
      "options": {
       "widgetDisplayType": "Text",
       "validationRegex": null
      },
      "parameterDataType": "String"
     },
     "widgetInfo": {
      "widgetType": "text",
      "defaultValue": "main.pixels_solacc.object_catalog",
      "label": "1.0 Catalog Schema Table to store object metadata into",
      "name": "table",
      "options": {
       "widgetType": "text",
       "autoCreated": null,
       "validationRegex": null
      }
     }
    },
    "use_service_principal": {
     "currentValue": "True",
     "nuid": "a7e9c608-6e2d-4f65-b14e-bf0a0b1604b2",
     "typedWidgetInfo": {
      "autoCreated": false,
      "defaultValue": "False",
      "label": "5.0 Use Service Principal",
      "name": "use_service_principal",
      "options": {
       "widgetDisplayType": "Text",
       "validationRegex": null
      },
      "parameterDataType": "String"
     },
     "widgetInfo": {
      "widgetType": "text",
      "defaultValue": "False",
      "label": "5.0 Use Service Principal",
      "name": "use_service_principal",
      "options": {
       "widgetType": "text",
       "autoCreated": null,
       "validationRegex": null
      }
     }
    },
    "volume": {
     "currentValue": "main.pixelsdev.pixels_volume",
     "nuid": "8063b732-cf42-4b43-8526-db7b757fbaf7",
     "typedWidgetInfo": {
      "autoCreated": false,
      "defaultValue": "main.pixels_solacc.pixels_volume",
      "label": "3.0 Catalog Schema Volume where pixel volumes are stored into",
      "name": "volume",
      "options": {
       "widgetDisplayType": "Text",
       "validationRegex": null
      },
      "parameterDataType": "String"
     },
     "widgetInfo": {
      "widgetType": "text",
      "defaultValue": "main.pixels_solacc.pixels_volume",
      "label": "3.0 Catalog Schema Volume where pixel volumes are stored into",
      "name": "volume",
      "options": {
       "widgetType": "text",
       "autoCreated": null,
       "validationRegex": null
      }
     }
    }
   }
  },
  "language_info": {
   "name": "python"
  }
 },
 "nbformat": 4,
 "nbformat_minor": 0
}
