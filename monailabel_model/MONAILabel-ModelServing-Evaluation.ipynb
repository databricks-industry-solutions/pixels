{
 "cells": [
  {
   "cell_type": "markdown",
   "metadata": {
    "application/vnd.databricks.v1+cell": {
     "cellMetadata": {
      "byteLimit": 2048000,
      "rowLimit": 10000
     },
     "inputWidgets": {},
     "nuid": "64a1e7c4-7d39-4e5d-8e20-e223ab842e04",
     "showTitle": false,
     "tableResultSettingsMap": {},
     "title": ""
    }
   },
   "source": [
    "### Initialize a GPUTransformer to process the pixels' catalog table using GPU resources."
   ]
  },
  {
   "cell_type": "code",
   "execution_count": 0,
   "metadata": {
    "application/vnd.databricks.v1+cell": {
     "cellMetadata": {
      "byteLimit": 2048000,
      "rowLimit": 10000
     },
     "inputWidgets": {},
     "nuid": "2411484b-97c1-4973-a773-a5a7347ecaad",
     "showTitle": false,
     "tableResultSettingsMap": {},
     "title": ""
    }
   },
   "outputs": [],
   "source": [
    "%run ./MONAILabel-ModelServing-init"
   ]
  },
  {
   "cell_type": "code",
   "execution_count": 0,
   "metadata": {
    "application/vnd.databricks.v1+cell": {
     "cellMetadata": {
      "byteLimit": 2048000,
      "rowLimit": 10000
     },
     "inputWidgets": {},
     "nuid": "949c2444-acea-44a0-b0e1-212d1e81badf",
     "showTitle": false,
     "tableResultSettingsMap": {},
     "title": ""
    }
   },
   "outputs": [],
   "source": [
    "from dbx.pixels.modelserving.bundles.servingendpoint import MonaiLabelBundlesTransformer\n",
    "\n",
    "df = spark.table(table)\n",
    "\n",
    "df_monai = MonaiLabelBundlesTransformer(table=table, destDir=os.environ[\"DEST_DIR\"], endpointName=serving_endpoint_name, exportMetrics=True).transform(df)\n",
    "\n",
    "display(df_monai.filter('series_uid = \"1.2.156.14702.1.1000.16.1.2020031111365289000020001\"'))\n",
    "\n",
    "df_monai.repartition(8).write.saveAsTable(inference_results_table)\n",
    "\n",
    "spark.table(inference_results_table).display()\n",
    "\n",
    "# Test performance using noop\n",
    "#df_monai.repartition(4).write.format(\"noop\").mode(\"overwrite\").save()"
   ]
  },
  {
   "cell_type": "code",
   "execution_count": 0,
   "metadata": {
    "application/vnd.databricks.v1+cell": {
     "cellMetadata": {
      "byteLimit": 2048000,
      "rowLimit": 10000
     },
     "inputWidgets": {},
     "nuid": "78eb42b7-2040-4831-9aee-2f5355af90b3",
     "showTitle": false,
     "tableResultSettingsMap": {},
     "title": ""
    }
   },
   "outputs": [],
   "source": []
  },
  {
   "cell_type": "code",
   "execution_count": 0,
   "metadata": {
    "application/vnd.databricks.v1+cell": {
     "cellMetadata": {
      "byteLimit": 2048000,
      "rowLimit": 10000
     },
     "inputWidgets": {},
     "nuid": "36b47351-3e49-4d85-9b43-e93ee14c014c",
     "showTitle": false,
     "tableResultSettingsMap": {},
     "title": ""
    }
   },
   "outputs": [],
   "source": [
    "import torch\n",
    "from dbx.pixels.modelserving.bundles.gpu import MonaiLabelBundlesGPUTransformer\n",
    "\n",
    "gpuCount = int(spark.conf.get(\"spark.executor.resource.gpu.amount\",\"0\") or torch.cuda.device_count())\n",
    "nWorkers = (int(spark.conf.get(\"spark.databricks.clusterUsageTags.clusterWorkers\")) or 1)\n",
    "tasksPerGpu = int(spark.conf.get(\"spark.task.resource.gpu.amount\",\"1\"))\n",
    "\n",
    "df = spark.table(table)\n",
    "\n",
    "df_monai = MonaiLabelBundlesGPUTransformer(inputCol=\"meta\", \n",
    "                                 table=table, \n",
    "                                 destDir=os.environ[\"DEST_DIR\"], \n",
    "                                 modelName=model_name,\n",
    "                                 sqlWarehouseId=os.environ[\"DATABRICKS_WAREHOUSE_ID\"], \n",
    "                                 labelPrompt=None, exportMetrics=True, exportOverlays=False, \n",
    "                                 secret=os.environ[\"DATABRICKS_TOKEN\"], \n",
    "                                 host=os.environ[\"DATABRICKS_HOST\"], \n",
    "                                 gpuCount=gpuCount, nWorkers=nWorkers, tasksPerGpu=tasksPerGpu).transform(df)\n",
    "\n",
    "display(df_monai)\n",
    "\n",
    "# Test performance using noop\n",
    "#df_monai.write.format(\"noop\").mode(\"overwrite\").save()"
   ]
  },
  {
   "cell_type": "code",
   "execution_count": 0,
   "metadata": {
    "application/vnd.databricks.v1+cell": {
     "cellMetadata": {
      "byteLimit": 2048000,
      "rowLimit": 10000
     },
     "inputWidgets": {},
     "nuid": "f6518e5d-1078-4d7f-9894-bd018d21b499",
     "showTitle": false,
     "tableResultSettingsMap": {},
     "title": ""
    }
   },
   "outputs": [],
   "source": []
  },
  {
   "cell_type": "code",
   "execution_count": 0,
   "metadata": {
    "application/vnd.databricks.v1+cell": {
     "cellMetadata": {
      "byteLimit": 2048000,
      "implicitDf": true,
      "rowLimit": 10000
     },
     "inputWidgets": {},
     "nuid": "aa9cb11c-d42b-43b7-aac9-1fbba0f5701a",
     "showTitle": false,
     "tableResultSettingsMap": {},
     "title": ""
    }
   },
   "outputs": [],
   "source": [
    "%sql\n",
    "-- Requires Databricks Runtime 15.2 and above or Serverless\n",
    "-- Sample query to illustrate how to use the ai_query function to query model in serving endpoint \n",
    "with ct as (\n",
    "  select distinct(meta:['0020000E'].Value[0]) as series_uid\n",
    "  from IDENTIFIER(:table)\n",
    "  where meta:['00080008'] like '%AXIAL%'\n",
    ")\n",
    "\n",
    "select series_uid, parse_json(ai_query(\n",
    "  endpoint => :serving_endpoint_name,\n",
    "  request => named_struct(\n",
    "      'series_uid', series_uid,\n",
    "      'params', named_struct(\n",
    "                    'export_metrics', True,\n",
    "                    'export_overlays', False\n",
    "                )\n",
    "  ),\n",
    "  returnType => 'STRING'\n",
    ")) as result from ct"
   ]
  }
 ],
 "metadata": {
  "application/vnd.databricks.v1+notebook": {
   "computePreferences": null,
   "dashboards": [],
   "environmentMetadata": {
    "base_environment": "dbe_f14fbde8-5353-4144-89be-f0a3e93fffc9",
    "environment_version": "2"
   },
   "inputWidgetPreferences": null,
   "language": "python",
   "notebookMetadata": {
    "mostRecentlyExecutedCommandWithImplicitDF": {
     "commandId": 8748648698906182,
     "dataframes": [
      "_sqldf"
     ]
    },
    "pythonIndentUnit": 4
   },
   "notebookName": "MONAILabel-ModelServing-Evaluation",
   "widgets": {}
  },
  "language_info": {
   "name": "python"
  }
 },
 "nbformat": 4,
 "nbformat_minor": 0
}
