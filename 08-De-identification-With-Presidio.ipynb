{
 "cells": [
  {
   "cell_type": "markdown",
   "metadata": {
    "application/vnd.databricks.v1+cell": {
     "cellMetadata": {},
     "inputWidgets": {},
     "nuid": "9f269332-ca64-4ece-a096-da2d95fbda54",
     "showTitle": false,
     "tableResultSettingsMap": {},
     "title": ""
    }
   },
   "source": [
    "You may find this solution accelerator at https://github.com/databricks-industry-solutions/pixels. "
   ]
  },
  {
   "cell_type": "markdown",
   "metadata": {
    "application/vnd.databricks.v1+cell": {
     "cellMetadata": {},
     "inputWidgets": {},
     "nuid": "43c5908a-9d00-49a5-b00d-1d0dd3091858",
     "showTitle": false,
     "tableResultSettingsMap": {},
     "title": ""
    }
   },
   "source": [
    "# De-identifying DICOM Data\n",
    "\n",
    "Since the image and metadata around DICOM imaging can contain sensitive information, you may want to think about ways to de-identify this data. But what sort of de-identification scheme should you adopt? Do you want pure anonymization, or two-way de-identification that allows anonymizing the data and then allowing for the data to be recreated in it's original form? \n",
    "\n",
    "Since the previous examples showed you how easy it is to get the data into Delta, let's now extend this capability using open source libraries to anonomize and/or de-identify the data."
   ]
  },
  {
   "cell_type": "code",
   "execution_count": 0,
   "metadata": {
    "application/vnd.databricks.v1+cell": {
     "cellMetadata": {
      "byteLimit": 2048000,
      "rowLimit": 10000
     },
     "inputWidgets": {},
     "nuid": "e21bafc3-5e11-47e3-ae5e-b943dcc7c35e",
     "showTitle": true,
     "tableResultSettingsMap": {},
     "title": "Initialize the environment"
    }
   },
   "outputs": [],
   "source": [
    "%run ./config/setup"
   ]
  },
  {
   "cell_type": "code",
   "execution_count": 0,
   "metadata": {
    "application/vnd.databricks.v1+cell": {
     "cellMetadata": {
      "byteLimit": 2048000,
      "rowLimit": 10000
     },
     "inputWidgets": {},
     "nuid": "906de608-359e-45b8-b2b7-0dcb055ed57d",
     "showTitle": false,
     "tableResultSettingsMap": {},
     "title": ""
    }
   },
   "outputs": [],
   "source": [
    "path,table,volume,write_mode = init_widgets()"
   ]
  },
  {
   "cell_type": "markdown",
   "metadata": {
    "application/vnd.databricks.v1+cell": {
     "cellMetadata": {},
     "inputWidgets": {},
     "nuid": "cd2a8002-6bdc-4a05-9bd8-5ccb69fb69f2",
     "showTitle": false,
     "tableResultSettingsMap": {},
     "title": ""
    }
   },
   "source": [
    "### Introducing Presidio\n",
    "\n",
    "Microsoft has been working on an open source library called Presidio (https://microsoft.github.io/presidio/) that provides this capability not just for tabular data, but for images as well. This library is built in Python. Before we begin, we need to make sure we install our dependancies. This starts with installing the specific Python packages: "
   ]
  },
  {
   "cell_type": "code",
   "execution_count": 0,
   "metadata": {
    "application/vnd.databricks.v1+cell": {
     "cellMetadata": {
      "byteLimit": 2048000,
      "rowLimit": 10000
     },
     "inputWidgets": {},
     "nuid": "6a7802de-a403-4b71-b103-95c72073f4b0",
     "showTitle": false,
     "tableResultSettingsMap": {},
     "title": ""
    }
   },
   "outputs": [],
   "source": [
    "%pip install presidio_analyzer presidio_anonymizer presidio-structured\n",
    "%pip install faker"
   ]
  },
  {
   "cell_type": "markdown",
   "metadata": {
    "application/vnd.databricks.v1+cell": {
     "cellMetadata": {},
     "inputWidgets": {},
     "nuid": "869b6a0d-485d-4dd6-bad1-bce0bc7f3ef7",
     "showTitle": false,
     "tableResultSettingsMap": {},
     "title": ""
    }
   },
   "source": [
    "We also need to install one Python-based NLP engine, in our case we'll use SpaCy:"
   ]
  },
  {
   "cell_type": "code",
   "execution_count": 0,
   "metadata": {
    "application/vnd.databricks.v1+cell": {
     "cellMetadata": {
      "byteLimit": 2048000,
      "rowLimit": 10000
     },
     "inputWidgets": {},
     "nuid": "036d149f-fef0-4385-b191-03d74102ec66",
     "showTitle": false,
     "tableResultSettingsMap": {},
     "title": ""
    }
   },
   "outputs": [],
   "source": [
    "%sh\n",
    "python -m spacy download en_core_web_lg"
   ]
  },
  {
   "cell_type": "markdown",
   "metadata": {
    "application/vnd.databricks.v1+cell": {
     "cellMetadata": {},
     "inputWidgets": {},
     "nuid": "c1c96d1e-3448-4080-bc10-f3d98669c78b",
     "showTitle": false,
     "tableResultSettingsMap": {},
     "title": ""
    }
   },
   "source": [
    "## Revisiting our test data\n",
    "\n",
    "Before we begin, let's re-look at our sample data from the starter notebooks provided in this repository. If we select our data from our table:"
   ]
  },
  {
   "cell_type": "code",
   "execution_count": 0,
   "metadata": {
    "application/vnd.databricks.v1+cell": {
     "cellMetadata": {
      "byteLimit": 2048000,
      "implicitDf": true,
      "rowLimit": 10000
     },
     "inputWidgets": {},
     "nuid": "fc426b44-299b-4443-9522-ceddf6297e87",
     "showTitle": false,
     "tableResultSettingsMap": {},
     "title": ""
    }
   },
   "outputs": [],
   "source": [
    "%sql select * from ${table}"
   ]
  },
  {
   "cell_type": "code",
   "execution_count": 0,
   "metadata": {
    "application/vnd.databricks.v1+cell": {
     "cellMetadata": {
      "byteLimit": 2048000,
      "implicitDf": true,
      "rowLimit": 10000
     },
     "inputWidgets": {},
     "nuid": "4198a527-0101-4228-b6cb-f13830ad1812",
     "showTitle": false,
     "tableResultSettingsMap": {},
     "title": ""
    }
   },
   "outputs": [],
   "source": [
    "%sql\n",
    "SELECT\n",
    "    --rowid,\n",
    "    meta:['00100010'].Value[0].Alphabetic patient_name, \n",
    "    meta:['00082218'].Value[0]['00080104'].Value[0] `Anatomic Region Sequence Attribute decoded`,\n",
    "    meta:['0008103E'].Value[0] `Series Description Attribute`,\n",
    "    meta:['00081030'].Value[0] `Study Description Attribute`,\n",
    "    meta:`00540220`.Value[0].`00080104`.Value[0] `projection` -- backticks work for numeric keys\n",
    "FROM ${table}"
   ]
  },
  {
   "cell_type": "markdown",
   "metadata": {
    "application/vnd.databricks.v1+cell": {
     "cellMetadata": {},
     "inputWidgets": {},
     "nuid": "c38c098f-336c-4199-aa2b-a588090f99a9",
     "showTitle": false,
     "tableResultSettingsMap": {},
     "title": ""
    }
   },
   "source": [
    "We see that the metadata has a patient name in it; however, our test data is already anonymized. For demonstration purposes, we'll clone the table, and use the `faker` Python library to generate some random names for the rows:"
   ]
  },
  {
   "cell_type": "code",
   "execution_count": 0,
   "metadata": {
    "application/vnd.databricks.v1+cell": {
     "cellMetadata": {
      "byteLimit": 2048000,
      "implicitDf": true,
      "rowLimit": 10000
     },
     "inputWidgets": {},
     "nuid": "16ace103-77f3-4241-b1b8-94be7948f9af",
     "showTitle": false,
     "tableResultSettingsMap": {},
     "title": ""
    }
   },
   "outputs": [],
   "source": [
    "%sql\n",
    "CREATE TABLE ${table}_presidio DEEP CLONE ${table}"
   ]
  },
  {
   "cell_type": "code",
   "execution_count": 0,
   "metadata": {
    "application/vnd.databricks.v1+cell": {
     "cellMetadata": {
      "byteLimit": 2048000,
      "rowLimit": 10000
     },
     "inputWidgets": {},
     "nuid": "c7b15175-b444-489c-a399-8f45edec12c2",
     "showTitle": false,
     "tableResultSettingsMap": {},
     "title": ""
    }
   },
   "outputs": [],
   "source": [
    "from faker import Faker\n",
    "fake = Faker()\n",
    "\n",
    "from pyspark.sql.types import StringType\n",
    "def generate_faker_name():\n",
    "  return fake.name()\n",
    "spark.udf.register(\"generate_faker_name\", generate_faker_name, StringType())"
   ]
  },
  {
   "cell_type": "code",
   "execution_count": 0,
   "metadata": {
    "application/vnd.databricks.v1+cell": {
     "cellMetadata": {
      "byteLimit": 2048000,
      "implicitDf": true,
      "rowLimit": 10000
     },
     "inputWidgets": {},
     "nuid": "6417cdd3-3d97-485b-ba65-c385de8dba36",
     "showTitle": false,
     "tableResultSettingsMap": {},
     "title": ""
    }
   },
   "outputs": [],
   "source": [
    "%sql\n",
    "CREATE OR REPLACE TEMPORARY VIEW patients_to_faker_names AS\n",
    "SELECT\n",
    "    --rowid,\n",
    "    row_number() over(order by meta:['00100010'].Value[0].Alphabetic) patient_row_id,\n",
    "    meta:['00100010'].Value[0].Alphabetic patient_name,\n",
    "    generate_faker_name() as fake_name\n",
    "FROM ${table}_presidio\n",
    "WHERE meta:['00100010'].Value[0].Alphabetic IS NOT NULL\n",
    "GROUP BY patient_name"
   ]
  },
  {
   "cell_type": "code",
   "execution_count": 0,
   "metadata": {
    "application/vnd.databricks.v1+cell": {
     "cellMetadata": {
      "byteLimit": 2048000,
      "implicitDf": true,
      "rowLimit": 10000
     },
     "inputWidgets": {},
     "nuid": "f987270f-514e-4f2f-b090-408bb6203a9b",
     "showTitle": false,
     "tableResultSettingsMap": {},
     "title": ""
    }
   },
   "outputs": [],
   "source": [
    "%sql\n",
    "select * from patients_to_faker_names"
   ]
  },
  {
   "cell_type": "code",
   "execution_count": 0,
   "metadata": {
    "application/vnd.databricks.v1+cell": {
     "cellMetadata": {
      "byteLimit": 2048000,
      "implicitDf": true,
      "rowLimit": 10000
     },
     "inputWidgets": {},
     "nuid": "9a285a06-77b6-44ab-b6c9-cadd27e8f6ff",
     "showTitle": false,
     "tableResultSettingsMap": {},
     "title": ""
    }
   },
   "outputs": [],
   "source": [
    "%sql\n",
    "MERGE INTO ${table}_presidio a\n",
    "USING patients_to_faker_names b ON meta:['00100010'].Value[0].Alphabetic = b.patient_name\n",
    "WHEN MATCHED THEN UPDATE SET meta = replace(meta, meta:['00100010'].Value[0].Alphabetic, b.fake_name)"
   ]
  },
  {
   "cell_type": "code",
   "execution_count": 0,
   "metadata": {
    "application/vnd.databricks.v1+cell": {
     "cellMetadata": {
      "byteLimit": 2048000,
      "implicitDf": true,
      "rowLimit": 10000
     },
     "inputWidgets": {},
     "nuid": "730d31f6-0590-45ac-bb00-cc37a5fddf81",
     "showTitle": false,
     "tableResultSettingsMap": {},
     "title": ""
    }
   },
   "outputs": [],
   "source": [
    "%sql\n",
    "SELECT\n",
    "    --rowid,\n",
    "    meta:['00100010'].Value[0].Alphabetic patient_name, \n",
    "    meta:['00082218'].Value[0]['00080104'].Value[0] `Anatomic Region Sequence Attribute decoded`,\n",
    "    meta:['0008103E'].Value[0] `Series Description Attribute`,\n",
    "    meta:['00081030'].Value[0] `Study Description Attribute`,\n",
    "    meta:`00540220`.Value[0].`00080104`.Value[0] `projection` -- backticks work for numeric keys\n",
    "FROM ${table}_presidio"
   ]
  },
  {
   "cell_type": "code",
   "execution_count": 0,
   "metadata": {
    "application/vnd.databricks.v1+cell": {
     "cellMetadata": {
      "byteLimit": 2048000,
      "rowLimit": 10000
     },
     "inputWidgets": {},
     "nuid": "0823a093-4d4b-49cd-9948-4296432b3651",
     "showTitle": false,
     "tableResultSettingsMap": {},
     "title": ""
    }
   },
   "outputs": [],
   "source": [
    "import pandas as pd\n",
    "from presidio_structured import StructuredEngine, PandasAnalysisBuilder, StructuredAnalysis\n",
    "from presidio_anonymizer.entities import OperatorConfig\n",
    "from faker import Faker\n",
    "\n",
    "pandas_engine = StructuredEngine()"
   ]
  },
  {
   "cell_type": "code",
   "execution_count": 0,
   "metadata": {
    "application/vnd.databricks.v1+cell": {
     "cellMetadata": {
      "byteLimit": 2048000,
      "rowLimit": 10000
     },
     "inputWidgets": {},
     "nuid": "771e84b6-7f66-48fd-8c1e-1c6088a67855",
     "showTitle": false,
     "tableResultSettingsMap": {},
     "title": ""
    }
   },
   "outputs": [],
   "source": [
    "df = spark.sql(f\"\"\"SELECT\n",
    "    --rowid,\n",
    "    meta:['00100010'].Value[0].Alphabetic patient_name, \n",
    "    meta:['00082218'].Value[0]['00080104'].Value[0] `Anatomic Region Sequence Attribute decoded`,\n",
    "    meta:['0008103E'].Value[0] `Series Description Attribute`,\n",
    "    meta:['00081030'].Value[0] `Study Description Attribute`,\n",
    "    meta:`00540220`.Value[0].`00080104`.Value[0] `projection`\n",
    "    FROM {table}_presidio\n",
    "  \"\"\")\n",
    "\n",
    "pandas_df = df.toPandas()"
   ]
  },
  {
   "cell_type": "code",
   "execution_count": 0,
   "metadata": {
    "application/vnd.databricks.v1+cell": {
     "cellMetadata": {
      "byteLimit": 2048000,
      "rowLimit": 10000
     },
     "inputWidgets": {},
     "nuid": "3b4c891c-5e12-45bc-ab53-dc3a40a3d658",
     "showTitle": false,
     "tableResultSettingsMap": {},
     "title": ""
    }
   },
   "outputs": [],
   "source": [
    "display(pandas_df)"
   ]
  },
  {
   "cell_type": "code",
   "execution_count": 0,
   "metadata": {
    "application/vnd.databricks.v1+cell": {
     "cellMetadata": {
      "byteLimit": 2048000,
      "rowLimit": 10000
     },
     "inputWidgets": {},
     "nuid": "10283a15-ebae-4529-91f1-db4a23cdf386",
     "showTitle": false,
     "tableResultSettingsMap": {},
     "title": ""
    }
   },
   "outputs": [],
   "source": [
    "tabular_analysis = PandasAnalysisBuilder().generate_analysis(pandas_df, language = \"en\")\n",
    "tabular_analysis"
   ]
  },
  {
   "cell_type": "code",
   "execution_count": 0,
   "metadata": {
    "application/vnd.databricks.v1+cell": {
     "cellMetadata": {
      "byteLimit": 2048000,
      "rowLimit": 10000
     },
     "inputWidgets": {},
     "nuid": "a6ec6b9e-f33c-455b-9569-0125fdb44a60",
     "showTitle": false,
     "tableResultSettingsMap": {},
     "title": ""
    }
   },
   "outputs": [],
   "source": [
    "custom_analysis = StructuredAnalysis(entity_mapping={\n",
    "    \"patient_name\":\"PERSON\"\n",
    "})"
   ]
  },
  {
   "cell_type": "code",
   "execution_count": 0,
   "metadata": {
    "application/vnd.databricks.v1+cell": {
     "cellMetadata": {
      "byteLimit": 2048000,
      "rowLimit": 10000
     },
     "inputWidgets": {},
     "nuid": "aa39cf70-b642-48f5-b343-d8d74faba462",
     "showTitle": false,
     "tableResultSettingsMap": {},
     "title": ""
    }
   },
   "outputs": [],
   "source": [
    "operators = {\n",
    "    \"PERSON\": OperatorConfig(\"replace\", {\"new_value\": \"REDACTED\"})\n",
    "}\n",
    "\n",
    "\n",
    "operators = {\n",
    "    \"PERSON\": OperatorConfig(\"custom\", {\"lambda\": lambda x: None if x is None else x[0]})\n",
    "}"
   ]
  },
  {
   "cell_type": "code",
   "execution_count": 0,
   "metadata": {
    "application/vnd.databricks.v1+cell": {
     "cellMetadata": {
      "byteLimit": 2048000,
      "rowLimit": 10000
     },
     "inputWidgets": {},
     "nuid": "a62bcc75-d965-4be4-b465-fe11bb05aef7",
     "showTitle": false,
     "tableResultSettingsMap": {},
     "title": ""
    }
   },
   "outputs": [],
   "source": [
    "anonymized_df = pandas_engine.anonymize(pandas_df, custom_analysis, operators=operators)"
   ]
  },
  {
   "cell_type": "code",
   "execution_count": 0,
   "metadata": {
    "application/vnd.databricks.v1+cell": {
     "cellMetadata": {
      "byteLimit": 2048000,
      "rowLimit": 10000
     },
     "inputWidgets": {},
     "nuid": "46d23f21-0b0c-48e1-bee5-4a1b39a6a7f4",
     "showTitle": false,
     "tableResultSettingsMap": {},
     "title": ""
    }
   },
   "outputs": [],
   "source": [
    "display(anonymized_df)"
   ]
  },
  {
   "cell_type": "code",
   "execution_count": 0,
   "metadata": {
    "application/vnd.databricks.v1+cell": {
     "cellMetadata": {},
     "inputWidgets": {},
     "nuid": "80196c58-7357-448c-9d7e-38584ce45cbc",
     "showTitle": false,
     "tableResultSettingsMap": {},
     "title": ""
    }
   },
   "outputs": [],
   "source": []
  }
 ],
 "metadata": {
  "application/vnd.databricks.v1+notebook": {
   "computePreferences": null,
   "dashboards": [],
   "environmentMetadata": {
    "base_environment": "",
    "client": "2"
   },
   "language": "python",
   "notebookMetadata": {
    "mostRecentlyExecutedCommandWithImplicitDF": {
     "commandId": 1242762839999198,
     "dataframes": [
      "_sqldf"
     ]
    },
    "pythonIndentUnit": 2
   },
   "notebookName": "08-De-identification-With-Presidio",
   "widgets": {
    "mode": {
     "currentValue": "append",
     "nuid": "8b0d7469-a00c-4f36-989b-e0a4f31f7aee",
     "typedWidgetInfo": {
      "autoCreated": false,
      "defaultValue": "append",
      "label": "4.0 Update mode on object metadata table",
      "name": "mode",
      "options": {
       "widgetDisplayType": "Dropdown",
       "choices": [
        "overwrite",
        "append"
       ],
       "fixedDomain": true,
       "multiselect": false
      },
      "parameterDataType": "String"
     },
     "widgetInfo": {
      "widgetType": "dropdown",
      "defaultValue": "append",
      "label": "4.0 Update mode on object metadata table",
      "name": "mode",
      "options": {
       "widgetType": "dropdown",
       "autoCreated": null,
       "choices": [
        "overwrite",
        "append"
       ]
      }
     }
    },
    "path": {
     "currentValue": "s3://hls-eng-data-public/dicom/landing_zone/*.zip",
     "nuid": "59881fab-fa47-4233-a62d-d8f52ea28b22",
     "typedWidgetInfo": {
      "autoCreated": false,
      "defaultValue": "s3://hls-eng-data-public/dicom/landing_zone/*.zip",
      "label": "1.0 Path to directory tree containing files. /dbfs , /Volumes/ or s3:// supported",
      "name": "path",
      "options": {
       "widgetDisplayType": "Text",
       "validationRegex": null
      },
      "parameterDataType": "String"
     },
     "widgetInfo": {
      "widgetType": "text",
      "defaultValue": "s3://hls-eng-data-public/dicom/landing_zone/*.zip",
      "label": "1.0 Path to directory tree containing files. /dbfs , /Volumes/ or s3:// supported",
      "name": "path",
      "options": {
       "widgetType": "text",
       "autoCreated": null,
       "validationRegex": null
      }
     }
    },
    "table": {
     "currentValue": "drewfurgiuele.pixels_solacc.object_catalog",
     "nuid": "4ef8a1e7-f2e8-4c0c-a22b-0fec986ffb5d",
     "typedWidgetInfo": {
      "autoCreated": false,
      "defaultValue": "main.pixels_solacc.object_catalog",
      "label": "2.0 Catalog Schema Table to store object metadata into",
      "name": "table",
      "options": {
       "widgetDisplayType": "Text",
       "validationRegex": null
      },
      "parameterDataType": "String"
     },
     "widgetInfo": {
      "widgetType": "text",
      "defaultValue": "main.pixels_solacc.object_catalog",
      "label": "2.0 Catalog Schema Table to store object metadata into",
      "name": "table",
      "options": {
       "widgetType": "text",
       "autoCreated": null,
       "validationRegex": null
      }
     }
    },
    "volume": {
     "currentValue": "drewfurgiuele.pixels_solacc.pixels_volume",
     "nuid": "0bb07912-3bf0-43cf-9117-a9354292736c",
     "typedWidgetInfo": {
      "autoCreated": false,
      "defaultValue": "main.pixels_solacc.pixels_volume",
      "label": "3.0 Catalog Schema Volume to store checkpoints and unzipped files",
      "name": "volume",
      "options": {
       "widgetDisplayType": "Text",
       "validationRegex": null
      },
      "parameterDataType": "String"
     },
     "widgetInfo": {
      "widgetType": "text",
      "defaultValue": "main.pixels_solacc.pixels_volume",
      "label": "3.0 Catalog Schema Volume to store checkpoints and unzipped files",
      "name": "volume",
      "options": {
       "widgetType": "text",
       "autoCreated": null,
       "validationRegex": null
      }
     }
    }
   }
  },
  "language_info": {
   "name": "python"
  }
 },
 "nbformat": 4,
 "nbformat_minor": 0
}
