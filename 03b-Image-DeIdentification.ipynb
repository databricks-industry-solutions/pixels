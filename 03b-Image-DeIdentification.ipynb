{
 "cells": [
  {
   "cell_type": "markdown",
   "metadata": {
    "application/vnd.databricks.v1+cell": {
     "cellMetadata": {},
     "inputWidgets": {},
     "nuid": "50bb7869-cb72-47cc-b0a4-8ffbd193891c",
     "showTitle": false,
     "tableResultSettingsMap": {},
     "title": ""
    }
   },
   "source": [
    "# Detect DICOM Image PHI and Redact PHI\n",
    "- Recommended cluster: >= 15.4 LTS ML (avoid Serverless)"
   ]
  },
  {
   "cell_type": "markdown",
   "metadata": {
    "application/vnd.databricks.v1+cell": {
     "cellMetadata": {},
     "inputWidgets": {},
     "nuid": "a4f3528b-1338-4383-9ced-dcba4c64169b",
     "showTitle": false,
     "tableResultSettingsMap": {},
     "title": ""
    }
   },
   "source": [
    "## Setup `pixels` package (if you haven't done so)\n",
    "1. [Create a git folder](https://docs.databricks.com/aws/en/repos/git-operations-with-repos) cloning the [pixels](https://github.com/databricks-industry-solutions/pixels) package\n",
    "2. Then run the [`config/setup.py`]($./config/setup) script in the repo folder"
   ]
  },
  {
   "cell_type": "code",
   "execution_count": 0,
   "metadata": {
    "application/vnd.databricks.v1+cell": {
     "cellMetadata": {
      "byteLimit": 2048000,
      "rowLimit": 10000
     },
     "inputWidgets": {},
     "nuid": "245b51ab-6685-46a8-b26b-0d5e2a11f235",
     "showTitle": false,
     "tableResultSettingsMap": {},
     "title": ""
    }
   },
   "outputs": [],
   "source": [
    "%run ./config/setup"
   ]
  },
  {
   "cell_type": "code",
   "execution_count": 0,
   "metadata": {
    "application/vnd.databricks.v1+cell": {
     "cellMetadata": {
      "byteLimit": 2048000,
      "rowLimit": 10000
     },
     "inputWidgets": {},
     "nuid": "6c41547d-6a8a-4a90-a0d2-71853d25cc62",
     "showTitle": false,
     "tableResultSettingsMap": {},
     "title": ""
    }
   },
   "outputs": [],
   "source": [
    "%pip install --upgrade openai"
   ]
  },
  {
   "cell_type": "code",
   "execution_count": 0,
   "metadata": {
    "application/vnd.databricks.v1+cell": {
     "cellMetadata": {
      "byteLimit": 2048000,
      "rowLimit": 10000
     },
     "inputWidgets": {},
     "nuid": "066aebc1-258f-4921-84c6-14377c82a970",
     "showTitle": false,
     "tableResultSettingsMap": {},
     "title": ""
    }
   },
   "outputs": [],
   "source": [
    "import pandas as pd\n",
    "from dbx.pixels.logging import LoggerProvider\n",
    "\n",
    "logger = LoggerProvider()"
   ]
  },
  {
   "cell_type": "code",
   "execution_count": 0,
   "metadata": {
    "application/vnd.databricks.v1+cell": {
     "cellMetadata": {
      "byteLimit": 2048000,
      "rowLimit": 10000
     },
     "inputWidgets": {},
     "nuid": "82ff62d1-2b29-4dc1-b9ce-f1e9a99a8ebb",
     "showTitle": false,
     "tableResultSettingsMap": {},
     "title": ""
    }
   },
   "outputs": [],
   "source": [
    "dbutils.widgets.text(\"table\", \"hls_radiology.tcia.midi_b_val_subset\", label=\"1. table of DICOM paths\")\n",
    "table = dbutils.widgets.get(\"table\")\n",
    "dbutils.widgets.text(\"output_dir\", \"/Volumes/hls_radiology/tcia/redacted\", label=\"2. volumes folder for storing redacted images\")\n",
    "dbutils.widgets.text(\"num_images\", \"-1\", label=\"3. Limit images to process (-1 is all)\")\n",
    "dbutils.widgets.text(\"num_partitions\", \"8\", label=\"4. number of parallel tasks (~ 2x vCores) \")\n",
    "output_dir = dbutils.widgets.get(\"output_dir\")\n",
    "num_images = int(dbutils.widgets.get(\"num_images\"))\n",
    "num_partitions = int(dbutils.widgets.get(\"num_partitions\"))"
   ]
  },
  {
   "cell_type": "markdown",
   "metadata": {
    "application/vnd.databricks.v1+cell": {
     "cellMetadata": {},
     "inputWidgets": {},
     "nuid": "717f4ca4-412e-4638-bb01-38f3541e6f34",
     "showTitle": false,
     "tableResultSettingsMap": {},
     "title": ""
    }
   },
   "source": [
    "### Load input dataframe\n",
    "This assumes a table of DICOM paths already exists with the UC path set in `table`.<br>\n",
    "To ingest DICOM files into a delta spark table, see [01-dcm-demo]($./01-dcm-demo) for examples.\n",
    "\n",
    "`VLMPhiExtractor` requires that input be must be ONE of the following:\n",
    "1. a .dcm file path (e.g. `/Volumes/<catalog>/<schema>/2.1.656.0.2.8048482.9.537.165816238/1-1.dcm`)\n",
    "2. image file path (e.g. `/Volumes/<catalog>/<schema>/2.1.656.0.2.8048482.9.537.165816238/1-1.jpg`)\n",
    "3. image encoded as a base64 string required by VLM (e.g. `/9j/4AAQSkZJRgABAQAAAQABAAD/2wBDAAgGBgcGBQgHBwc...`)"
   ]
  },
  {
   "cell_type": "code",
   "execution_count": 0,
   "metadata": {
    "application/vnd.databricks.v1+cell": {
     "cellMetadata": {
      "byteLimit": 2048000,
      "rowLimit": 10000
     },
     "inputWidgets": {},
     "nuid": "1ec8c537-0152-403b-89fb-92b77801df8c",
     "showTitle": false,
     "tableResultSettingsMap": {},
     "title": ""
    }
   },
   "outputs": [],
   "source": [
    "df = spark.table(table)\n",
    "df.display()"
   ]
  },
  {
   "cell_type": "code",
   "execution_count": 0,
   "metadata": {
    "application/vnd.databricks.v1+cell": {
     "cellMetadata": {
      "byteLimit": 2048000,
      "rowLimit": 10000
     },
     "inputWidgets": {},
     "nuid": "73441632-f610-4944-b7c0-6df7eb024866",
     "showTitle": false,
     "tableResultSettingsMap": {},
     "title": ""
    }
   },
   "outputs": [],
   "source": [
    "df = spark.table(table)\n",
    "in_df = df.repartition(8)\n",
    "if num_images > 0:\n",
    "  in_df = in_df.limit(num_images)\n",
    "display(in_df)"
   ]
  },
  {
   "cell_type": "markdown",
   "metadata": {
    "application/vnd.databricks.v1+cell": {
     "cellMetadata": {},
     "inputWidgets": {},
     "nuid": "91106984-d302-40ad-af43-d258214a0886",
     "showTitle": false,
     "tableResultSettingsMap": {},
     "title": ""
    }
   },
   "source": [
    "## Use Spark ML Pipeline to build a PHI detection and redaction workflow\n",
    "### Pipeline 1: Without a filter (VLMPhiDetector + OcrRedactor)\n",
    "\n",
    "Build an end-to-end `pyspark.ml.Pipeline` defined with `VLMPhiDetector` and `OcrRedactor` as `Transformer` stages in a workflow. This utilizes Spark ML for highly efficient parallel processing.\n",
    "\n",
    "1. `VLMPhiDetector` detects and extracts PHI entities using a VLM (set by `endpoint` parameter)\n",
    "2. `OcrRedactor` masks PHI from images using EasyOCR to detect text boundaries\n",
    "\n",
    "```\n",
    "# As a pipeline\n",
    "Pipeline(stages=[VLMPhiDetector(\"databricks-claude-3-7-sonnet\"), \n",
    "                OcrRedactor()])\n",
    "```\n",
    "This is wrapped in `DicomPhiPipeline` where you provide the inputs to `VLMPhiDetector` and `OcrRedactor`. Here, `redact_even_if_undetected=False` so `OcrRedactor` processes all the .dcm whether or not they have PHI detected by the prior `VLMPhiDetector`"
   ]
  },
  {
   "cell_type": "code",
   "execution_count": 0,
   "metadata": {
    "application/vnd.databricks.v1+cell": {
     "cellMetadata": {
      "byteLimit": 2048000,
      "rowLimit": 10000
     },
     "inputWidgets": {},
     "nuid": "86b7dde0-babc-4aad-83ce-2f96bc6e1889",
     "showTitle": false,
     "tableResultSettingsMap": {},
     "title": ""
    }
   },
   "outputs": [],
   "source": [
    "from dbx.pixels.dicom.dicom_phi import DicomPhiPipeline\n",
    "\n",
    "pipeline = DicomPhiPipeline(endpoint=\"databricks-claude-3-7-sonnet\",\n",
    "                            output_dir=output_dir,\n",
    "                            redact_even_if_undetected=True,\n",
    "                            inputCol=\"relative_path\",\n",
    "                            detectCol=\"response\",\n",
    "                            outputCol=\"path_redacted\")\n",
    "model_redact_undetected = pipeline.fit(in_df)\n",
    "out_df = model_redact_undetected.transform(in_df)\n",
    "display(out_df)"
   ]
  },
  {
   "cell_type": "markdown",
   "metadata": {
    "application/vnd.databricks.v1+cell": {
     "cellMetadata": {},
     "inputWidgets": {},
     "nuid": "0b77f7fe-6cfb-4964-a118-99c36b9182c4",
     "showTitle": false,
     "tableResultSettingsMap": {},
     "title": ""
    }
   },
   "source": [
    "## Evaluate against ground truth"
   ]
  },
  {
   "cell_type": "code",
   "execution_count": 0,
   "metadata": {
    "application/vnd.databricks.v1+cell": {
     "cellMetadata": {
      "byteLimit": 2048000,
      "rowLimit": 10000
     },
     "inputWidgets": {},
     "nuid": "e57091f9-43fe-4488-93c4-ff4debe09bb5",
     "showTitle": false,
     "tableResultSettingsMap": {},
     "title": ""
    }
   },
   "outputs": [],
   "source": [
    "from pyspark.sql.functions import split, col, when, size, isnotnull\n",
    "import pandas as pd\n",
    "\n",
    "extracted_df = (out_df\n",
    "    .withColumn(\"phi_detected\", when(size(col(\"response.content\"))>1, True).otherwise(False))\n",
    "    .withColumn(\"redacted\", isnotnull(col(\"path_redacted\")))\n",
    "    .select( \"phi_detected\", \"redacted\")\n",
    ")\n",
    "display(extracted_df)"
   ]
  },
  {
   "cell_type": "code",
   "execution_count": 0,
   "metadata": {
    "application/vnd.databricks.v1+cell": {
     "cellMetadata": {
      "byteLimit": 2048000,
      "rowLimit": 10000
     },
     "inputWidgets": {},
     "nuid": "8d993325-6908-473e-abb0-12c3d41ca79f",
     "showTitle": false,
     "tableResultSettingsMap": {},
     "title": ""
    }
   },
   "outputs": [],
   "source": [
    "from dbx.pixels.dicom.dicom_utils import get_classifer_metrics\n",
    "\n",
    "# Performance of VLMPhiDetector\n",
    "# get_classifer_metrics(extracted_df, col_pred=\"phi_detected\")"
   ]
  },
  {
   "cell_type": "code",
   "execution_count": 0,
   "metadata": {
    "application/vnd.databricks.v1+cell": {
     "cellMetadata": {
      "byteLimit": 2048000,
      "rowLimit": 10000
     },
     "inputWidgets": {},
     "nuid": "172adc69-5c03-4634-9c75-bd11a0644d7c",
     "showTitle": false,
     "tableResultSettingsMap": {},
     "title": ""
    }
   },
   "outputs": [],
   "source": [
    "# Performance of OcrRedactor\n",
    "get_classifer_metrics(extracted_df, col_pred=\"redacted\")"
   ]
  },
  {
   "cell_type": "markdown",
   "metadata": {
    "application/vnd.databricks.v1+cell": {
     "cellMetadata": {},
     "inputWidgets": {},
     "nuid": "2da3c309-27b5-4449-9137-a9642cf81e53",
     "showTitle": false,
     "tableResultSettingsMap": {},
     "title": ""
    }
   },
   "source": [
    "## Interpreting the performance metrics\n",
    "The metrics are defined as follows:\n",
    "- **Recall** measures proportion of positive labels (i.e. has PHI) correctly predicted\n",
    "- **Specificity** measures proportion of negative labels (i.e. non-PHI) correctly predicted\n",
    "- **Precision** measures of those predicted to be positive, how many actually have PHI. Its difference from 1 represents the false discovery rate\n",
    "- **Negative Predictive Value (NPV)** measures of those predicted to be negative, how many actually are non-PHI. Its difference from 1 represents the false omission rate.\n",
    "- **F1** is the harmonic mean of Precision and Recall `F1 = 2*(precision * recall)/(precision + recall)`\n",
    "- **Accuracy** is the average of Recall and Specificity weighted by proportion of positive and negative labels respectively \n",
    "\n",
    "As these metrics are all related and trade off against one another. It is important to determine whether it is more critical to not miss any PHI (i.e. high recall) and risk overredacting non-PHI or if it is acceptable to risk missing PHI (i.e. underredact) in favor of not falsely predicting non-PHI as PHI. The latter becomes more important when there is an unacceptable risk of falsely predicting a negative as positive (i.e. diagnosed with cancer when one does not have it). \n",
    "\n",
    "In this example, the former is preferred as the risk of missing PHI is too high. **So we want close to zero false omission rate (i.e. high NPV) and high recall which is the case for both the detector and redactor. Both have 100% NPV and 100% recall**"
   ]
  },
  {
   "cell_type": "markdown",
   "metadata": {
    "application/vnd.databricks.v1+cell": {
     "cellMetadata": {},
     "inputWidgets": {},
     "nuid": "68c9fc45-d569-4ba4-aa45-0f216a4c567a",
     "showTitle": false,
     "tableResultSettingsMap": {},
     "title": ""
    }
   },
   "source": [
    "### Pipeline 2: With a filter (VLMPhiDetector + FilterTransformer + OcrRedactor)\n",
    "As `OcrRedactor` tends to overredact (i.e. has many false positives), for best performance, we recommend adding a `FilterTransformer` that filters according to the output of `VLMPhiDetector` and is subsequently fed into `OcrRedactor`. \n",
    "\n",
    "1. `VLMPhiDetector` detects and extracts PHI entities using a VLM\n",
    "2. `FilterTransformer` filters only the PHI rows detected by `VLMPhiDetector`\n",
    "3. `OcrRedactor` works on the filtered PHI rows and masks PHI from images using EasyOCR\n",
    "```\n",
    "# As a pipeline\n",
    "Pipeline(stages=[VLMPhiDetector(\"databricks-claude-3-7-sonnet\"), \n",
    "                FilterTransformer(),\n",
    "                OcrRedactor()])\n",
    "```\n",
    "\n",
    "This doesn't seem to affect the redactor's ability to miss PHI (i.e. NPV remains perfect at 1)."
   ]
  },
  {
   "cell_type": "code",
   "execution_count": 0,
   "metadata": {
    "application/vnd.databricks.v1+cell": {
     "cellMetadata": {
      "byteLimit": 2048000,
      "rowLimit": 10000
     },
     "inputWidgets": {},
     "nuid": "c49a9743-02da-449b-a4fc-490204a9e2bf",
     "showTitle": false,
     "tableResultSettingsMap": {},
     "title": ""
    }
   },
   "outputs": [],
   "source": [
    "pipeline_redact_only_detected = DicomPhiPipeline(endpoint=\"databricks-claude-3-7-sonnet\",\n",
    "                                                 output_dir=output_dir,\n",
    "                                                 redact_even_if_undetected=False)\n",
    "model_redact_only_detected = pipeline_redact_only_detected.fit(in_df)\n",
    "out_df_redact_only_detected = model_redact_only_detected.transform(in_df)\n",
    "display(out_df_redact_only_detected)"
   ]
  },
  {
   "cell_type": "code",
   "execution_count": 0,
   "metadata": {
    "application/vnd.databricks.v1+cell": {
     "cellMetadata": {
      "byteLimit": 2048000,
      "rowLimit": 10000
     },
     "inputWidgets": {},
     "nuid": "a731fc08-6430-48cf-925b-c18ef9338f5a",
     "showTitle": false,
     "tableResultSettingsMap": {},
     "title": ""
    }
   },
   "outputs": [],
   "source": [
    "extracted_df_redact_only_detected = (out_df_redact_only_detected\n",
    "    .withColumn(\"phi_detected\", when(size(col(\"response.content\"))>1, True).otherwise(False))\n",
    "    .withColumn(\"redacted\", isnotnull(col(\"path_redacted\")))\n",
    "    .select(\"phi_detected\", \"redacted\")\n",
    ")\n",
    "display(extracted_df_redact_only_detected)"
   ]
  },
  {
   "cell_type": "code",
   "execution_count": 0,
   "metadata": {
    "application/vnd.databricks.v1+cell": {
     "cellMetadata": {
      "byteLimit": 2048000,
      "rowLimit": 10000
     },
     "inputWidgets": {},
     "nuid": "e73d310f-8ec0-4da7-ae63-29e31126d062",
     "showTitle": false,
     "tableResultSettingsMap": {},
     "title": ""
    }
   },
   "outputs": [],
   "source": [
    "# Performance of VLMPhiDetector\n",
    "get_classifer_metrics(extracted_df_redact_only_detected, col_pred=\"phi_detected\")"
   ]
  },
  {
   "cell_type": "code",
   "execution_count": 0,
   "metadata": {
    "application/vnd.databricks.v1+cell": {
     "cellMetadata": {
      "byteLimit": 2048000,
      "rowLimit": 10000
     },
     "inputWidgets": {},
     "nuid": "2d720495-d81b-4224-a65b-1776c48d58d3",
     "showTitle": false,
     "tableResultSettingsMap": {},
     "title": ""
    }
   },
   "outputs": [],
   "source": [
    "# Performance of OcrRedactor\n",
    "get_classifer_metrics(extracted_df_redact_only_detected, col_pred=\"redacted\")"
   ]
  },
  {
   "cell_type": "markdown",
   "metadata": {
    "application/vnd.databricks.v1+cell": {
     "cellMetadata": {},
     "inputWidgets": {},
     "nuid": "f0339a04-8a35-4a48-96f5-d0e0846823b7",
     "showTitle": false,
     "tableResultSettingsMap": {},
     "title": ""
    }
   },
   "source": [
    "## Conclusion\n",
    "As stated earlier, we emphasize high Recall (100%) and NPV (100%) which were already achieved in the first pipeline without a filter (`redact_even_if_undetected=True`). However, its Specificity (58.3%) and Precision (28.6%) were low due to overredaction of non-PHI. \n",
    "\n",
    "To minimize overredaction, we introduced a filter (`redact_even_if_undetected=False`) in the second pipeline such that only detected PHI will undergo redaction. This improved both the detector and redactor to 100% in all metrics."
   ]
  },
  {
   "cell_type": "markdown",
   "metadata": {
    "application/vnd.databricks.v1+cell": {
     "cellMetadata": {},
     "inputWidgets": {},
     "nuid": "7c425a0d-fcf1-4195-bb40-79565e4d9fc8",
     "showTitle": false,
     "tableResultSettingsMap": {},
     "title": ""
    }
   },
   "source": [
    "View the files in the [output_dir](https://e2-demo-field-eng.cloud.databricks.com/explore/data/volumes/hls_radiology/tcia/redacted)"
   ]
  }
 ],
 "metadata": {
  "application/vnd.databricks.v1+notebook": {
   "computePreferences": {
    "hardware": {
     "accelerator": null,
     "gpuPoolId": null,
     "memory": null
    }
   },
   "dashboards": [],
   "environmentMetadata": {
    "base_environment": "",
    "environment_version": "3"
   },
   "inputWidgetPreferences": {
    "autoRunOnWidgetChange": "no-auto-run"
   },
   "language": "python",
   "notebookMetadata": {
    "pythonIndentUnit": 4,
    "widgetLayout": [
     {
      "breakBefore": false,
      "name": "table",
      "width": 239
     },
     {
      "breakBefore": false,
      "name": "output_dir",
      "width": 276
     },
     {
      "breakBefore": false,
      "name": "num_images",
      "width": 166
     },
     {
      "breakBefore": false,
      "name": "num_partitions",
      "width": 349
     }
    ]
   },
   "notebookName": "03b-Image-DeIdentification",
   "widgets": {
    "num_images": {
     "currentValue": "-1",
     "nuid": "482df14b-8b4a-4581-bc49-c87a10550740",
     "typedWidgetInfo": {
      "autoCreated": false,
      "defaultValue": "-1",
      "label": "3. Limit images to process (-1 is all)",
      "name": "num_images",
      "options": {
       "widgetDisplayType": "Text",
       "validationRegex": null
      },
      "parameterDataType": "String"
     },
     "widgetInfo": {
      "widgetType": "text",
      "defaultValue": "-1",
      "label": "3. Limit images to process (-1 is all)",
      "name": "num_images",
      "options": {
       "widgetType": "text",
       "autoCreated": null,
       "validationRegex": null
      }
     }
    },
    "num_partitions": {
     "currentValue": "8",
     "nuid": "ba74654d-6f0f-4114-94ec-cb1033874674",
     "typedWidgetInfo": {
      "autoCreated": false,
      "defaultValue": "8",
      "label": "4. number of parallel tasks (~ 2x vCores) ",
      "name": "num_partitions",
      "options": {
       "widgetDisplayType": "Text",
       "validationRegex": null
      },
      "parameterDataType": "String"
     },
     "widgetInfo": {
      "widgetType": "text",
      "defaultValue": "8",
      "label": "4. number of parallel tasks (~ 2x vCores) ",
      "name": "num_partitions",
      "options": {
       "widgetType": "text",
       "autoCreated": null,
       "validationRegex": null
      }
     }
    },
    "output_dir": {
     "currentValue": "/Volumes/main/pixelsdev/redacted",
     "nuid": "3c8f8f7c-2528-4862-832f-005106dbdef7",
     "typedWidgetInfo": {
      "autoCreated": false,
      "defaultValue": "/Volumes/hls_radiology/tcia/redacted",
      "label": "2. volumes folder for storing redacted images",
      "name": "output_dir",
      "options": {
       "widgetDisplayType": "Text",
       "validationRegex": null
      },
      "parameterDataType": "String"
     },
     "widgetInfo": {
      "widgetType": "text",
      "defaultValue": "/Volumes/hls_radiology/tcia/redacted",
      "label": "2. volumes folder for storing redacted images",
      "name": "output_dir",
      "options": {
       "widgetType": "text",
       "autoCreated": null,
       "validationRegex": null
      }
     }
    },
    "table": {
     "currentValue": "main.pixelsdev.object_catalog",
     "nuid": "d7bbc78c-84f3-4fa8-9804-aa63c37559c7",
     "typedWidgetInfo": {
      "autoCreated": false,
      "defaultValue": "hls_radiology.tcia.midi_b_val_subset",
      "label": "1. table of DICOM paths",
      "name": "table",
      "options": {
       "widgetDisplayType": "Text",
       "validationRegex": null
      },
      "parameterDataType": "String"
     },
     "widgetInfo": {
      "widgetType": "text",
      "defaultValue": "hls_radiology.tcia.midi_b_val_subset",
      "label": "1. table of DICOM paths",
      "name": "table",
      "options": {
       "widgetType": "text",
       "autoCreated": null,
       "validationRegex": null
      }
     }
    }
   }
  },
  "kernelspec": {
   "display_name": "venv",
   "language": "python",
   "name": "python3"
  },
  "language_info": {
   "name": "python"
  }
 },
 "nbformat": 4,
 "nbformat_minor": 0
}
