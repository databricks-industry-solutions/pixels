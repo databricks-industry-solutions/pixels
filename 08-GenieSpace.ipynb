{
 "cells": [
  {
   "cell_type": "markdown",
   "metadata": {
    "application/vnd.databricks.v1+cell": {
     "cellMetadata": {},
     "inputWidgets": {},
     "nuid": "682b687f-eb97-4b3c-a2c7-c0cd3ab05be4",
     "showTitle": false,
     "tableResultSettingsMap": {},
     "title": ""
    }
   },
   "source": [
    "# DICOM Tags Table Creation and Vector Search Database\n",
    "\n",
    "This notebook aims to create the `dicom_tags` table, establish a vector search database for it, and provide comprehensive instructions to create a powerful Genie space. The steps include retrieving DICOM tags, extracting tag values, and ensuring accurate identification of patient and scan data."
   ]
  },
  {
   "cell_type": "code",
   "execution_count": 0,
   "metadata": {
    "application/vnd.databricks.v1+cell": {
     "cellMetadata": {
      "byteLimit": 2048000,
      "rowLimit": 10000
     },
     "inputWidgets": {},
     "nuid": "80dc6619-63a5-4ef2-848a-d9efc544d213",
     "showTitle": false,
     "tableResultSettingsMap": {},
     "title": ""
    }
   },
   "outputs": [],
   "source": [
    "%pip install databricks-vectorsearch\n",
    "dbutils.library.restartPython()"
   ]
  },
  {
   "cell_type": "code",
   "execution_count": 0,
   "metadata": {
    "application/vnd.databricks.v1+cell": {
     "cellMetadata": {
      "byteLimit": 2048000,
      "rowLimit": 10000
     },
     "inputWidgets": {},
     "nuid": "36390e68-5969-42a9-8203-28bb713aa9e6",
     "showTitle": false,
     "tableResultSettingsMap": {},
     "title": ""
    }
   },
   "outputs": [],
   "source": [
    "dbutils.widgets.text(\"schema\", \"main.pixels_solacc\", label=\"1.0 Catalog and Schema to store the dicom tags and vector search database\")\n",
    "\n",
    "schema = dbutils.widgets.get(\"schema\")"
   ]
  },
  {
   "cell_type": "code",
   "execution_count": 0,
   "metadata": {
    "application/vnd.databricks.v1+cell": {
     "cellMetadata": {
      "byteLimit": 2048000,
      "rowLimit": 10000
     },
     "inputWidgets": {},
     "nuid": "ed128a5b-0202-4003-80ed-c65b95536991",
     "showTitle": false,
     "tableResultSettingsMap": {},
     "title": ""
    }
   },
   "outputs": [],
   "source": [
    "import json\n",
    "\n",
    "with open('dbx/pixels/resources/dicom_tags.ndjson', 'r') as f:\n",
    "    tags = [json.loads(line) for line in f]\n",
    "\n",
    "tags_df = spark.createDataFrame(tags)\n",
    "\n",
    "tags_df.select(\"Tag\",\"Name\",\"Keyword\",\"VR\",\"VM\",\"Retired\").write.mode(\"overwrite\").saveAsTable(schema+\".dicom_tags\")"
   ]
  },
  {
   "cell_type": "code",
   "execution_count": 0,
   "metadata": {
    "application/vnd.databricks.v1+cell": {
     "cellMetadata": {
      "byteLimit": 2048000,
      "implicitDf": true,
      "rowLimit": 10000
     },
     "inputWidgets": {},
     "nuid": "9d49db01-6774-4e01-a7c2-745185b75faa",
     "showTitle": false,
     "tableResultSettingsMap": {},
     "title": ""
    }
   },
   "outputs": [],
   "source": [
    "%sql\n",
    "ALTER TABLE $schema.dicom_tags SET TBLPROPERTIES (delta.enableChangeDataFeed = true)"
   ]
  },
  {
   "cell_type": "code",
   "execution_count": 0,
   "metadata": {
    "application/vnd.databricks.v1+cell": {
     "cellMetadata": {
      "byteLimit": 2048000,
      "rowLimit": 10000
     },
     "inputWidgets": {},
     "nuid": "61e7d7f6-d809-4397-b0cf-a47c0dd7c316",
     "showTitle": false,
     "tableResultSettingsMap": {},
     "title": ""
    }
   },
   "outputs": [],
   "source": [
    "from databricks.vector_search.client import VectorSearchClient\n",
    "\n",
    "vs_endpoint = \"pixels_vs_endpoint\"\n",
    "\n",
    "# The following line automatically generates a PAT Token for authentication\n",
    "client = VectorSearchClient()\n",
    "\n",
    "if client.get_endpoint(vs_endpoint) is None:\n",
    "  client.create_endpoint(\n",
    "      name=vs_endpoint,\n",
    "      endpoint_type=\"STANDARD\"\n",
    "  )\n",
    "\n",
    "index = client.create_delta_sync_index(\n",
    "  endpoint_name=vs_endpoint,\n",
    "  source_table_name=schema+\".dicom_tags\",\n",
    "  index_name=schema+\".dicom_tags_vs\",\n",
    "  pipeline_type=\"TRIGGERED\",\n",
    "  primary_key=\"Tag\",\n",
    "  embedding_source_column=\"Name\",\n",
    "  embedding_model_endpoint_name=\"databricks-bge-large-en\"\n",
    ")\n"
   ]
  },
  {
   "cell_type": "markdown",
   "metadata": {
    "application/vnd.databricks.v1+cell": {
     "cellMetadata": {},
     "inputWidgets": {},
     "nuid": "ac038eb2-76ad-4d6c-9f70-c78da411454d",
     "showTitle": false,
     "tableResultSettingsMap": {},
     "title": ""
    }
   },
   "source": [
    "#GENIE INSTRUCTIONS\n",
    "\n",
    "Use the function hls_radiology.ddsm.retrieve_dicom_tag to retrieve a DICOM TAG from a DICOM TAG DESCRIPTION if you don't know the tag. After retrieving that value you can query the object_catalog table with the **hls_radiology.ddsm.extract_tag_value** to extract the right DICOM TAG VALUE from the META column.\n",
    "\n",
    "Always add the meta:[\"hash] to the select statement as identifier of single file.\n",
    "To identify a single patient, use the following script in the select statement: <p>distinct(**hls_radiology.ddsm.extract_tag_value**(struct(\"00100020\",\"PatientID\",\"1\"), meta )) as PATIENT_ID\n",
    "\n",
    "The modificationTime is the time of the file creation and not always related to the scan date.\n",
    "To identify the scan date, use the 'AcquisitionDate' tag, if the value is null then use modificationTime column."
   ]
  },
  {
   "cell_type": "markdown",
   "metadata": {
    "application/vnd.databricks.v1+cell": {
     "cellMetadata": {},
     "inputWidgets": {},
     "nuid": "97062d9b-1b07-4e0d-9565-56c19cf8688e",
     "showTitle": false,
     "tableResultSettingsMap": {},
     "title": ""
    }
   },
   "source": [
    "#GENIE SQL EXAMPLES"
   ]
  },
  {
   "cell_type": "markdown",
   "metadata": {
    "application/vnd.databricks.v1+cell": {
     "cellMetadata": {},
     "inputWidgets": {},
     "nuid": "69943c72-1b37-46bd-b7b9-465ad1d3fdef",
     "showTitle": false,
     "tableResultSettingsMap": {},
     "title": ""
    }
   },
   "source": [
    "##How old are the patients?\n",
    "\n",
    "select \n",
    "distinct(**hls_radiology.ddsm.extract_tag_value**(\n",
    "      struct(\"00100020\",\"PatientID\",\"1\"), meta\n",
    "    )) as PATIENT_ID,\n",
    "cast(\n",
    "  replace(\n",
    "    **hls_radiology.ddsm.extract_tag_value**(\n",
    "      **hls_radiology.ddsm.retrieve_dicom_tag**(\"patient age\"), meta )\n",
    "   ,\"Y\", \"\") \n",
    "   as integer) as patient_age\n",
    "from **hls_radiology.ddsm.object_catalog**;"
   ]
  },
  {
   "cell_type": "markdown",
   "metadata": {
    "application/vnd.databricks.v1+cell": {
     "cellMetadata": {},
     "inputWidgets": {},
     "nuid": "fbb88760-7878-4dc2-ad80-f047efbdb2a5",
     "showTitle": false,
     "tableResultSettingsMap": {},
     "title": ""
    }
   },
   "source": [
    "##Show me the distribution of the modalities\n",
    "\n",
    "SELECT\n",
    "  modality,\n",
    "  COUNT(1) AS count\n",
    "FROM\n",
    "  (\n",
    "    SELECT\n",
    "      **hls_radiology.ddsm.extract_tag_value**(\n",
    "        **hls_radiology.ddsm.retrieve_dicom_tag**('modality'), `meta`\n",
    "      ) AS modality\n",
    "    FROM\n",
    "      **`hls_radiology`.`ddsm`.`object_catalog`**\n",
    "  ) AS modalities\n",
    "GROUP BY\n",
    "  modality"
   ]
  },
  {
   "cell_type": "markdown",
   "metadata": {
    "application/vnd.databricks.v1+cell": {
     "cellMetadata": {},
     "inputWidgets": {},
     "nuid": "9473615d-5de0-4488-b8d1-59d454fcb7c6",
     "showTitle": false,
     "tableResultSettingsMap": {},
     "title": ""
    }
   },
   "source": [
    "##For the MG modality, are there any patients over 50?\n",
    "\n",
    "SELECT DISTINCT\n",
    "  **hls_radiology.ddsm.extract_tag_value**(struct('00100020', 'PatientID', '1'), `meta`) AS PATIENT_ID,\n",
    "  CAST(\n",
    "    REPLACE(\n",
    "      **hls_radiology.ddsm.extract_tag_value**(**hls_radiology.ddsm.retrieve_dicom_tag**('patient age'), `meta`),\n",
    "      'Y',\n",
    "      ''\n",
    "    ) AS INTEGER\n",
    "  ) AS patient_age\n",
    "FROM\n",
    "  **`hls_radiology`.`ddsm`.`object_catalog`**\n",
    "WHERE\n",
    "  **hls_radiology.ddsm.extract_tag_value**(**hls_radiology.ddsm.retrieve_dicom_tag**('modality'), `meta`) = 'MG'\n",
    "  AND CAST(\n",
    "    REPLACE(\n",
    "      **hls_radiology.ddsm.extract_tag_value**(**hls_radiology.ddsm.retrieve_dicom_tag**('patient age'), `meta`),\n",
    "      'Y',\n",
    "      ''\n",
    "    ) AS INTEGER\n",
    "  ) > 50"
   ]
  }
 ],
 "metadata": {
  "application/vnd.databricks.v1+notebook": {
   "computePreferences": null,
   "dashboards": [],
   "environmentMetadata": {
    "base_environment": "",
    "environment_version": "2"
   },
   "inputWidgetPreferences": null,
   "language": "python",
   "notebookMetadata": {
    "mostRecentlyExecutedCommandWithImplicitDF": {
     "commandId": 1017194466835587,
     "dataframes": [
      "_sqldf"
     ]
    },
    "pythonIndentUnit": 2
   },
   "notebookName": "08-GenieSpace",
   "widgets": {
    "schema": {
     "currentValue": "hls_radiology.tcia",
     "nuid": "6c8607d3-9230-4b9b-aee3-2ca081e2e5fc",
     "typedWidgetInfo": {
      "autoCreated": false,
      "defaultValue": "main.pixels_solacc",
      "label": "1.0 Catalog and Schema to store the dicom tags and vector search database",
      "name": "schema",
      "options": {
       "widgetDisplayType": "Text",
       "validationRegex": null
      },
      "parameterDataType": "String"
     },
     "widgetInfo": {
      "widgetType": "text",
      "defaultValue": "main.pixels_solacc",
      "label": "1.0 Catalog and Schema to store the dicom tags and vector search database",
      "name": "schema",
      "options": {
       "widgetType": "text",
       "autoCreated": null,
       "validationRegex": null
      }
     }
    }
   }
  },
  "language_info": {
   "name": "python"
  }
 },
 "nbformat": 4,
 "nbformat_minor": 0
}
